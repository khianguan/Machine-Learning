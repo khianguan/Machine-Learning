{
 "cells": [
  {
   "cell_type": "markdown",
   "metadata": {},
   "source": [
    "# Final Project 2: Exploratory Data Analysis on University Rankings"
   ]
  },
  {
   "cell_type": "markdown",
   "metadata": {},
   "source": [
    "This case study consists of 3 parts: \n",
    "\n",
    "\n",
    "A. Data understanding and exploration\n",
    "- Student to decide how to explore, inspect and cleanse the data \n",
    "\n",
    "B. Questions: 6 in total\n",
    "- Answer the questions and derive the requested outputs with necessary explanations and inferences \n",
    "\n",
    "C. Open-ended Question \n",
    "- Student to decide the scope and methods/packages to use to answer the question and derive insights"
   ]
  },
  {
   "cell_type": "markdown",
   "metadata": {},
   "source": [
    "The data reflects four years of ranking, 2012, 2013, 2014, 2015; 2012 and 2013 consists of the top 100 universities while 2014, and 2015 are the top 1000 universities. The data could be assessed on a yearly basis to uncover trends. "
   ]
  },
  {
   "cell_type": "markdown",
   "metadata": {},
   "source": [
    "The data was collected by The Center for World University Rankings. Sampling was weighted based on the following criteria: research output, (10%), high-quality publication, (10%), influence, (10%), citations, (10%), quality of faculty, (10%), alumni employment, (25%), quality of education, (25%). The totals of the above criteria is then used te create an aggregation and scoring. "
   ]
  },
  {
   "cell_type": "markdown",
   "metadata": {},
   "source": [
    "Data dictionary:\n",
    "- World_rank - World rank for the university.\n",
    "- Institution - Name of the university.\n",
    "- Country - Country of each university.\n",
    "- National_Rank - Rank of university within its country.\n",
    "- Quality_of_education - Rank for quality of education; measured by the number of a university's alumni who have garnered major international accolades, i.e. Pulitzer, Nobel Prize.\n",
    "- Alumni_employment - Rank for alumni employment; measured by the number of a university's alumni who have held CEO positions at multinational companies in relation to the university's size.\n",
    "- Quality_of_faculty - Rank for quality of faculty; measured by the number of faculty who have won major international awards.\n",
    "- Publications - Rank for publications.\n",
    "- Influence - Rank for influence.\n",
    "- Citations - Rank for citations.\n",
    "- Broad_impact - Rank for broad impact (only available for 2014 and 2015).\n",
    "- Patents - Rank for patents.\n",
    "- Score - Total score, used for determining world rank.\n",
    "- Year - Years of ranking (2012 to 2015)."
   ]
  },
  {
   "cell_type": "markdown",
   "metadata": {},
   "source": [
    "# A. Data Understanding and exploration"
   ]
  },
  {
   "cell_type": "markdown",
   "metadata": {},
   "source": [
    "### Read the cwur.Data.csv file and inspect the data, understand the data (what are the components, how it looks like, and some basic statistics about the variables). Take necessary steps to address any problems or issues with the data and fix them with appropriate measures."
   ]
  },
  {
   "cell_type": "code",
   "execution_count": 1,
   "metadata": {},
   "outputs": [
    {
     "data": {
      "text/html": [
       "        <script type=\"text/javascript\">\n",
       "        window.PlotlyConfig = {MathJaxConfig: 'local'};\n",
       "        if (window.MathJax) {MathJax.Hub.Config({SVG: {font: \"STIX-Web\"}});}\n",
       "        if (typeof require !== 'undefined') {\n",
       "        require.undef(\"plotly\");\n",
       "        requirejs.config({\n",
       "            paths: {\n",
       "                'plotly': ['https://cdn.plot.ly/plotly-latest.min']\n",
       "            }\n",
       "        });\n",
       "        require(['plotly'], function(Plotly) {\n",
       "            window._Plotly = Plotly;\n",
       "        });\n",
       "        }\n",
       "        </script>\n",
       "        "
      ]
     },
     "metadata": {},
     "output_type": "display_data"
    }
   ],
   "source": [
    "import numpy as np\n",
    "import pandas as pd\n",
    "# pd.options.display.max_rows = 2200\n",
    "import seaborn as sns\n",
    "import plotly.graph_objects as go\n",
    "import plotly.offline as offline\n",
    "offline.init_notebook_mode(connected=True)\n",
    "import matplotlib.pyplot as plt\n",
    "%matplotlib inline\n",
    "sns.set_style('white')"
   ]
  },
  {
   "cell_type": "code",
   "execution_count": 2,
   "metadata": {
    "scrolled": false
   },
   "outputs": [
    {
     "name": "stdout",
     "output_type": "stream",
     "text": [
      "<class 'pandas.core.frame.DataFrame'>\n",
      "RangeIndex: 2200 entries, 0 to 2199\n",
      "Data columns (total 14 columns):\n",
      " #   Column                Non-Null Count  Dtype  \n",
      "---  ------                --------------  -----  \n",
      " 0   world_rank            2200 non-null   int64  \n",
      " 1   institution           2200 non-null   object \n",
      " 2   country               2200 non-null   object \n",
      " 3   national_rank         2200 non-null   int64  \n",
      " 4   quality_of_education  2200 non-null   int64  \n",
      " 5   alumni_employment     2200 non-null   int64  \n",
      " 6   quality_of_faculty    2200 non-null   int64  \n",
      " 7   publications          2200 non-null   int64  \n",
      " 8   influence             2200 non-null   int64  \n",
      " 9   citations             2200 non-null   int64  \n",
      " 10  broad_impact          2000 non-null   float64\n",
      " 11  patents               2200 non-null   int64  \n",
      " 12  score                 2200 non-null   float64\n",
      " 13  year                  2200 non-null   int64  \n",
      "dtypes: float64(2), int64(10), object(2)\n",
      "memory usage: 240.8+ KB\n",
      "None \n",
      "\n",
      "Duplicate Rows based on all columns are : Empty DataFrame\n",
      "Columns: [world_rank, institution, country, national_rank, quality_of_education, alumni_employment, quality_of_faculty, publications, influence, citations, broad_impact, patents, score, year]\n",
      "Index: []\n",
      "Null values row: 200\n"
     ]
    },
    {
     "data": {
      "text/html": [
       "<div>\n",
       "<style scoped>\n",
       "    .dataframe tbody tr th:only-of-type {\n",
       "        vertical-align: middle;\n",
       "    }\n",
       "\n",
       "    .dataframe tbody tr th {\n",
       "        vertical-align: top;\n",
       "    }\n",
       "\n",
       "    .dataframe thead th {\n",
       "        text-align: right;\n",
       "    }\n",
       "</style>\n",
       "<table border=\"1\" class=\"dataframe\">\n",
       "  <thead>\n",
       "    <tr style=\"text-align: right;\">\n",
       "      <th></th>\n",
       "      <th>world_rank</th>\n",
       "      <th>institution</th>\n",
       "      <th>country</th>\n",
       "      <th>national_rank</th>\n",
       "      <th>quality_of_education</th>\n",
       "      <th>alumni_employment</th>\n",
       "      <th>quality_of_faculty</th>\n",
       "      <th>publications</th>\n",
       "      <th>influence</th>\n",
       "      <th>citations</th>\n",
       "      <th>broad_impact</th>\n",
       "      <th>patents</th>\n",
       "      <th>score</th>\n",
       "      <th>year</th>\n",
       "    </tr>\n",
       "  </thead>\n",
       "  <tbody>\n",
       "    <tr>\n",
       "      <th>0</th>\n",
       "      <td>1</td>\n",
       "      <td>Harvard University</td>\n",
       "      <td>USA</td>\n",
       "      <td>1</td>\n",
       "      <td>7</td>\n",
       "      <td>9</td>\n",
       "      <td>1</td>\n",
       "      <td>1</td>\n",
       "      <td>1</td>\n",
       "      <td>1</td>\n",
       "      <td>NaN</td>\n",
       "      <td>5</td>\n",
       "      <td>100.00</td>\n",
       "      <td>2012</td>\n",
       "    </tr>\n",
       "    <tr>\n",
       "      <th>1</th>\n",
       "      <td>2</td>\n",
       "      <td>Massachusetts Institute of Technology</td>\n",
       "      <td>USA</td>\n",
       "      <td>2</td>\n",
       "      <td>9</td>\n",
       "      <td>17</td>\n",
       "      <td>3</td>\n",
       "      <td>12</td>\n",
       "      <td>4</td>\n",
       "      <td>4</td>\n",
       "      <td>NaN</td>\n",
       "      <td>1</td>\n",
       "      <td>91.67</td>\n",
       "      <td>2012</td>\n",
       "    </tr>\n",
       "    <tr>\n",
       "      <th>2</th>\n",
       "      <td>3</td>\n",
       "      <td>Stanford University</td>\n",
       "      <td>USA</td>\n",
       "      <td>3</td>\n",
       "      <td>17</td>\n",
       "      <td>11</td>\n",
       "      <td>5</td>\n",
       "      <td>4</td>\n",
       "      <td>2</td>\n",
       "      <td>2</td>\n",
       "      <td>NaN</td>\n",
       "      <td>15</td>\n",
       "      <td>89.50</td>\n",
       "      <td>2012</td>\n",
       "    </tr>\n",
       "    <tr>\n",
       "      <th>3</th>\n",
       "      <td>4</td>\n",
       "      <td>University of Cambridge</td>\n",
       "      <td>United Kingdom</td>\n",
       "      <td>1</td>\n",
       "      <td>10</td>\n",
       "      <td>24</td>\n",
       "      <td>4</td>\n",
       "      <td>16</td>\n",
       "      <td>16</td>\n",
       "      <td>11</td>\n",
       "      <td>NaN</td>\n",
       "      <td>50</td>\n",
       "      <td>86.17</td>\n",
       "      <td>2012</td>\n",
       "    </tr>\n",
       "    <tr>\n",
       "      <th>4</th>\n",
       "      <td>5</td>\n",
       "      <td>California Institute of Technology</td>\n",
       "      <td>USA</td>\n",
       "      <td>4</td>\n",
       "      <td>2</td>\n",
       "      <td>29</td>\n",
       "      <td>7</td>\n",
       "      <td>37</td>\n",
       "      <td>22</td>\n",
       "      <td>22</td>\n",
       "      <td>NaN</td>\n",
       "      <td>18</td>\n",
       "      <td>85.21</td>\n",
       "      <td>2012</td>\n",
       "    </tr>\n",
       "    <tr>\n",
       "      <th>...</th>\n",
       "      <td>...</td>\n",
       "      <td>...</td>\n",
       "      <td>...</td>\n",
       "      <td>...</td>\n",
       "      <td>...</td>\n",
       "      <td>...</td>\n",
       "      <td>...</td>\n",
       "      <td>...</td>\n",
       "      <td>...</td>\n",
       "      <td>...</td>\n",
       "      <td>...</td>\n",
       "      <td>...</td>\n",
       "      <td>...</td>\n",
       "      <td>...</td>\n",
       "    </tr>\n",
       "    <tr>\n",
       "      <th>195</th>\n",
       "      <td>96</td>\n",
       "      <td>Australian National University</td>\n",
       "      <td>Australia</td>\n",
       "      <td>2</td>\n",
       "      <td>101</td>\n",
       "      <td>101</td>\n",
       "      <td>43</td>\n",
       "      <td>101</td>\n",
       "      <td>101</td>\n",
       "      <td>101</td>\n",
       "      <td>NaN</td>\n",
       "      <td>101</td>\n",
       "      <td>44.50</td>\n",
       "      <td>2013</td>\n",
       "    </tr>\n",
       "    <tr>\n",
       "      <th>196</th>\n",
       "      <td>97</td>\n",
       "      <td>University of Alberta</td>\n",
       "      <td>Canada</td>\n",
       "      <td>4</td>\n",
       "      <td>101</td>\n",
       "      <td>101</td>\n",
       "      <td>101</td>\n",
       "      <td>68</td>\n",
       "      <td>101</td>\n",
       "      <td>92</td>\n",
       "      <td>NaN</td>\n",
       "      <td>81</td>\n",
       "      <td>44.50</td>\n",
       "      <td>2013</td>\n",
       "    </tr>\n",
       "    <tr>\n",
       "      <th>197</th>\n",
       "      <td>98</td>\n",
       "      <td>University of Helsinki</td>\n",
       "      <td>Finland</td>\n",
       "      <td>1</td>\n",
       "      <td>69</td>\n",
       "      <td>101</td>\n",
       "      <td>81</td>\n",
       "      <td>74</td>\n",
       "      <td>79</td>\n",
       "      <td>71</td>\n",
       "      <td>NaN</td>\n",
       "      <td>101</td>\n",
       "      <td>44.39</td>\n",
       "      <td>2013</td>\n",
       "    </tr>\n",
       "    <tr>\n",
       "      <th>198</th>\n",
       "      <td>99</td>\n",
       "      <td>Paris Diderot University - Paris 7</td>\n",
       "      <td>France</td>\n",
       "      <td>5</td>\n",
       "      <td>28</td>\n",
       "      <td>101</td>\n",
       "      <td>72</td>\n",
       "      <td>101</td>\n",
       "      <td>87</td>\n",
       "      <td>101</td>\n",
       "      <td>NaN</td>\n",
       "      <td>101</td>\n",
       "      <td>44.36</td>\n",
       "      <td>2013</td>\n",
       "    </tr>\n",
       "    <tr>\n",
       "      <th>199</th>\n",
       "      <td>100</td>\n",
       "      <td>Georgia Institute of Technology</td>\n",
       "      <td>USA</td>\n",
       "      <td>57</td>\n",
       "      <td>101</td>\n",
       "      <td>85</td>\n",
       "      <td>101</td>\n",
       "      <td>97</td>\n",
       "      <td>101</td>\n",
       "      <td>43</td>\n",
       "      <td>NaN</td>\n",
       "      <td>32</td>\n",
       "      <td>44.26</td>\n",
       "      <td>2013</td>\n",
       "    </tr>\n",
       "  </tbody>\n",
       "</table>\n",
       "<p>200 rows × 14 columns</p>\n",
       "</div>"
      ],
      "text/plain": [
       "     world_rank                            institution         country  \\\n",
       "0             1                     Harvard University             USA   \n",
       "1             2  Massachusetts Institute of Technology             USA   \n",
       "2             3                    Stanford University             USA   \n",
       "3             4                University of Cambridge  United Kingdom   \n",
       "4             5     California Institute of Technology             USA   \n",
       "..          ...                                    ...             ...   \n",
       "195          96         Australian National University       Australia   \n",
       "196          97                  University of Alberta          Canada   \n",
       "197          98                 University of Helsinki         Finland   \n",
       "198          99     Paris Diderot University - Paris 7          France   \n",
       "199         100        Georgia Institute of Technology             USA   \n",
       "\n",
       "     national_rank  quality_of_education  alumni_employment  \\\n",
       "0                1                     7                  9   \n",
       "1                2                     9                 17   \n",
       "2                3                    17                 11   \n",
       "3                1                    10                 24   \n",
       "4                4                     2                 29   \n",
       "..             ...                   ...                ...   \n",
       "195              2                   101                101   \n",
       "196              4                   101                101   \n",
       "197              1                    69                101   \n",
       "198              5                    28                101   \n",
       "199             57                   101                 85   \n",
       "\n",
       "     quality_of_faculty  publications  influence  citations  broad_impact  \\\n",
       "0                     1             1          1          1           NaN   \n",
       "1                     3            12          4          4           NaN   \n",
       "2                     5             4          2          2           NaN   \n",
       "3                     4            16         16         11           NaN   \n",
       "4                     7            37         22         22           NaN   \n",
       "..                  ...           ...        ...        ...           ...   \n",
       "195                  43           101        101        101           NaN   \n",
       "196                 101            68        101         92           NaN   \n",
       "197                  81            74         79         71           NaN   \n",
       "198                  72           101         87        101           NaN   \n",
       "199                 101            97        101         43           NaN   \n",
       "\n",
       "     patents   score  year  \n",
       "0          5  100.00  2012  \n",
       "1          1   91.67  2012  \n",
       "2         15   89.50  2012  \n",
       "3         50   86.17  2012  \n",
       "4         18   85.21  2012  \n",
       "..       ...     ...   ...  \n",
       "195      101   44.50  2013  \n",
       "196       81   44.50  2013  \n",
       "197      101   44.39  2013  \n",
       "198      101   44.36  2013  \n",
       "199       32   44.26  2013  \n",
       "\n",
       "[200 rows x 14 columns]"
      ]
     },
     "execution_count": 2,
     "metadata": {},
     "output_type": "execute_result"
    }
   ],
   "source": [
    "df = pd.read_csv(\"cwurData.csv\")\n",
    "print(df.info(), \"\\n\") #200 null broad_impact data\n",
    "\n",
    "# Select duplicate rows except first occurrence based on all columns. Not meaning to check for duplicate in each column.\n",
    "duplicateRowsDF = df[df.duplicated()]\n",
    "print(\"Duplicate Rows based on all columns are :\", duplicateRowsDF)\n",
    "\n",
    "is_NaN = df.isnull()\n",
    "row_has_NaN = is_NaN.any(axis=1)\n",
    "rows_with_NaN = df[row_has_NaN]\n",
    "print(\"Null values row:\", len(rows_with_NaN)) #Broad_impact - Rank for broad impact (only available for 2014 and 2015).\n",
    "rows_with_NaN"
   ]
  },
  {
   "cell_type": "code",
   "execution_count": 3,
   "metadata": {
    "scrolled": true
   },
   "outputs": [
    {
     "data": {
      "text/html": [
       "<div>\n",
       "<style scoped>\n",
       "    .dataframe tbody tr th:only-of-type {\n",
       "        vertical-align: middle;\n",
       "    }\n",
       "\n",
       "    .dataframe tbody tr th {\n",
       "        vertical-align: top;\n",
       "    }\n",
       "\n",
       "    .dataframe thead th {\n",
       "        text-align: right;\n",
       "    }\n",
       "</style>\n",
       "<table border=\"1\" class=\"dataframe\">\n",
       "  <thead>\n",
       "    <tr style=\"text-align: right;\">\n",
       "      <th></th>\n",
       "      <th>world_rank</th>\n",
       "      <th>national_rank</th>\n",
       "      <th>quality_of_education</th>\n",
       "      <th>alumni_employment</th>\n",
       "      <th>quality_of_faculty</th>\n",
       "      <th>publications</th>\n",
       "      <th>influence</th>\n",
       "      <th>citations</th>\n",
       "      <th>broad_impact</th>\n",
       "      <th>patents</th>\n",
       "      <th>score</th>\n",
       "      <th>year</th>\n",
       "    </tr>\n",
       "  </thead>\n",
       "  <tbody>\n",
       "    <tr>\n",
       "      <th>count</th>\n",
       "      <td>2200.000000</td>\n",
       "      <td>2200.000000</td>\n",
       "      <td>2200.000000</td>\n",
       "      <td>2200.000000</td>\n",
       "      <td>2200.000000</td>\n",
       "      <td>2200.000000</td>\n",
       "      <td>2200.000000</td>\n",
       "      <td>2200.000000</td>\n",
       "      <td>2000.000000</td>\n",
       "      <td>2200.000000</td>\n",
       "      <td>2200.000000</td>\n",
       "      <td>2200.000000</td>\n",
       "    </tr>\n",
       "    <tr>\n",
       "      <th>mean</th>\n",
       "      <td>459.590909</td>\n",
       "      <td>40.278182</td>\n",
       "      <td>275.100455</td>\n",
       "      <td>357.116818</td>\n",
       "      <td>178.888182</td>\n",
       "      <td>459.908636</td>\n",
       "      <td>459.797727</td>\n",
       "      <td>413.417273</td>\n",
       "      <td>496.699500</td>\n",
       "      <td>433.346364</td>\n",
       "      <td>47.798395</td>\n",
       "      <td>2014.318182</td>\n",
       "    </tr>\n",
       "    <tr>\n",
       "      <th>std</th>\n",
       "      <td>304.320363</td>\n",
       "      <td>51.740870</td>\n",
       "      <td>121.935100</td>\n",
       "      <td>186.779252</td>\n",
       "      <td>64.050885</td>\n",
       "      <td>303.760352</td>\n",
       "      <td>303.331822</td>\n",
       "      <td>264.366549</td>\n",
       "      <td>286.919755</td>\n",
       "      <td>273.996525</td>\n",
       "      <td>7.760806</td>\n",
       "      <td>0.762130</td>\n",
       "    </tr>\n",
       "    <tr>\n",
       "      <th>min</th>\n",
       "      <td>1.000000</td>\n",
       "      <td>1.000000</td>\n",
       "      <td>1.000000</td>\n",
       "      <td>1.000000</td>\n",
       "      <td>1.000000</td>\n",
       "      <td>1.000000</td>\n",
       "      <td>1.000000</td>\n",
       "      <td>1.000000</td>\n",
       "      <td>1.000000</td>\n",
       "      <td>1.000000</td>\n",
       "      <td>43.360000</td>\n",
       "      <td>2012.000000</td>\n",
       "    </tr>\n",
       "    <tr>\n",
       "      <th>25%</th>\n",
       "      <td>175.750000</td>\n",
       "      <td>6.000000</td>\n",
       "      <td>175.750000</td>\n",
       "      <td>175.750000</td>\n",
       "      <td>175.750000</td>\n",
       "      <td>175.750000</td>\n",
       "      <td>175.750000</td>\n",
       "      <td>161.000000</td>\n",
       "      <td>250.500000</td>\n",
       "      <td>170.750000</td>\n",
       "      <td>44.460000</td>\n",
       "      <td>2014.000000</td>\n",
       "    </tr>\n",
       "    <tr>\n",
       "      <th>50%</th>\n",
       "      <td>450.500000</td>\n",
       "      <td>21.000000</td>\n",
       "      <td>355.000000</td>\n",
       "      <td>450.500000</td>\n",
       "      <td>210.000000</td>\n",
       "      <td>450.500000</td>\n",
       "      <td>450.500000</td>\n",
       "      <td>406.000000</td>\n",
       "      <td>496.000000</td>\n",
       "      <td>426.000000</td>\n",
       "      <td>45.100000</td>\n",
       "      <td>2014.000000</td>\n",
       "    </tr>\n",
       "    <tr>\n",
       "      <th>75%</th>\n",
       "      <td>725.250000</td>\n",
       "      <td>49.000000</td>\n",
       "      <td>367.000000</td>\n",
       "      <td>478.000000</td>\n",
       "      <td>218.000000</td>\n",
       "      <td>725.000000</td>\n",
       "      <td>725.250000</td>\n",
       "      <td>645.000000</td>\n",
       "      <td>741.000000</td>\n",
       "      <td>714.250000</td>\n",
       "      <td>47.545000</td>\n",
       "      <td>2015.000000</td>\n",
       "    </tr>\n",
       "    <tr>\n",
       "      <th>max</th>\n",
       "      <td>1000.000000</td>\n",
       "      <td>229.000000</td>\n",
       "      <td>367.000000</td>\n",
       "      <td>567.000000</td>\n",
       "      <td>218.000000</td>\n",
       "      <td>1000.000000</td>\n",
       "      <td>991.000000</td>\n",
       "      <td>812.000000</td>\n",
       "      <td>1000.000000</td>\n",
       "      <td>871.000000</td>\n",
       "      <td>100.000000</td>\n",
       "      <td>2015.000000</td>\n",
       "    </tr>\n",
       "  </tbody>\n",
       "</table>\n",
       "</div>"
      ],
      "text/plain": [
       "        world_rank  national_rank  quality_of_education  alumni_employment  \\\n",
       "count  2200.000000    2200.000000           2200.000000        2200.000000   \n",
       "mean    459.590909      40.278182            275.100455         357.116818   \n",
       "std     304.320363      51.740870            121.935100         186.779252   \n",
       "min       1.000000       1.000000              1.000000           1.000000   \n",
       "25%     175.750000       6.000000            175.750000         175.750000   \n",
       "50%     450.500000      21.000000            355.000000         450.500000   \n",
       "75%     725.250000      49.000000            367.000000         478.000000   \n",
       "max    1000.000000     229.000000            367.000000         567.000000   \n",
       "\n",
       "       quality_of_faculty  publications    influence    citations  \\\n",
       "count         2200.000000   2200.000000  2200.000000  2200.000000   \n",
       "mean           178.888182    459.908636   459.797727   413.417273   \n",
       "std             64.050885    303.760352   303.331822   264.366549   \n",
       "min              1.000000      1.000000     1.000000     1.000000   \n",
       "25%            175.750000    175.750000   175.750000   161.000000   \n",
       "50%            210.000000    450.500000   450.500000   406.000000   \n",
       "75%            218.000000    725.000000   725.250000   645.000000   \n",
       "max            218.000000   1000.000000   991.000000   812.000000   \n",
       "\n",
       "       broad_impact      patents        score         year  \n",
       "count   2000.000000  2200.000000  2200.000000  2200.000000  \n",
       "mean     496.699500   433.346364    47.798395  2014.318182  \n",
       "std      286.919755   273.996525     7.760806     0.762130  \n",
       "min        1.000000     1.000000    43.360000  2012.000000  \n",
       "25%      250.500000   170.750000    44.460000  2014.000000  \n",
       "50%      496.000000   426.000000    45.100000  2014.000000  \n",
       "75%      741.000000   714.250000    47.545000  2015.000000  \n",
       "max     1000.000000   871.000000   100.000000  2015.000000  "
      ]
     },
     "execution_count": 3,
     "metadata": {},
     "output_type": "execute_result"
    }
   ],
   "source": [
    "df.describe() #check for max/min value to see if it is wise to use mean to fill broad impact NaN value"
   ]
  },
  {
   "cell_type": "code",
   "execution_count": 4,
   "metadata": {},
   "outputs": [
    {
     "name": "stdout",
     "output_type": "stream",
     "text": [
      "Broad_impact mean: 496.6995\n"
     ]
    },
    {
     "data": {
      "text/html": [
       "<div>\n",
       "<style scoped>\n",
       "    .dataframe tbody tr th:only-of-type {\n",
       "        vertical-align: middle;\n",
       "    }\n",
       "\n",
       "    .dataframe tbody tr th {\n",
       "        vertical-align: top;\n",
       "    }\n",
       "\n",
       "    .dataframe thead th {\n",
       "        text-align: right;\n",
       "    }\n",
       "</style>\n",
       "<table border=\"1\" class=\"dataframe\">\n",
       "  <thead>\n",
       "    <tr style=\"text-align: right;\">\n",
       "      <th></th>\n",
       "      <th>world_rank</th>\n",
       "      <th>institution</th>\n",
       "      <th>year</th>\n",
       "      <th>broad_impact</th>\n",
       "    </tr>\n",
       "  </thead>\n",
       "  <tbody>\n",
       "    <tr>\n",
       "      <th>195</th>\n",
       "      <td>96</td>\n",
       "      <td>Australian National University</td>\n",
       "      <td>2013</td>\n",
       "      <td>NaN</td>\n",
       "    </tr>\n",
       "    <tr>\n",
       "      <th>359</th>\n",
       "      <td>160</td>\n",
       "      <td>Australian National University</td>\n",
       "      <td>2014</td>\n",
       "      <td>196.0</td>\n",
       "    </tr>\n",
       "    <tr>\n",
       "      <th>1378</th>\n",
       "      <td>179</td>\n",
       "      <td>Australian National University</td>\n",
       "      <td>2015</td>\n",
       "      <td>188.0</td>\n",
       "    </tr>\n",
       "    <tr>\n",
       "      <th>61</th>\n",
       "      <td>62</td>\n",
       "      <td>Boston University</td>\n",
       "      <td>2012</td>\n",
       "      <td>NaN</td>\n",
       "    </tr>\n",
       "    <tr>\n",
       "      <th>153</th>\n",
       "      <td>54</td>\n",
       "      <td>Boston University</td>\n",
       "      <td>2013</td>\n",
       "      <td>NaN</td>\n",
       "    </tr>\n",
       "    <tr>\n",
       "      <th>266</th>\n",
       "      <td>67</td>\n",
       "      <td>Boston University</td>\n",
       "      <td>2014</td>\n",
       "      <td>37.0</td>\n",
       "    </tr>\n",
       "    <tr>\n",
       "      <th>1265</th>\n",
       "      <td>66</td>\n",
       "      <td>Boston University</td>\n",
       "      <td>2015</td>\n",
       "      <td>34.0</td>\n",
       "    </tr>\n",
       "    <tr>\n",
       "      <th>3</th>\n",
       "      <td>4</td>\n",
       "      <td>University of Cambridge</td>\n",
       "      <td>2012</td>\n",
       "      <td>NaN</td>\n",
       "    </tr>\n",
       "    <tr>\n",
       "      <th>104</th>\n",
       "      <td>5</td>\n",
       "      <td>University of Cambridge</td>\n",
       "      <td>2013</td>\n",
       "      <td>NaN</td>\n",
       "    </tr>\n",
       "    <tr>\n",
       "      <th>203</th>\n",
       "      <td>4</td>\n",
       "      <td>University of Cambridge</td>\n",
       "      <td>2014</td>\n",
       "      <td>13.0</td>\n",
       "    </tr>\n",
       "    <tr>\n",
       "      <th>1203</th>\n",
       "      <td>4</td>\n",
       "      <td>University of Cambridge</td>\n",
       "      <td>2015</td>\n",
       "      <td>13.0</td>\n",
       "    </tr>\n",
       "  </tbody>\n",
       "</table>\n",
       "</div>"
      ],
      "text/plain": [
       "      world_rank                     institution  year  broad_impact\n",
       "195           96  Australian National University  2013           NaN\n",
       "359          160  Australian National University  2014         196.0\n",
       "1378         179  Australian National University  2015         188.0\n",
       "61            62               Boston University  2012           NaN\n",
       "153           54               Boston University  2013           NaN\n",
       "266           67               Boston University  2014          37.0\n",
       "1265          66               Boston University  2015          34.0\n",
       "3              4         University of Cambridge  2012           NaN\n",
       "104            5         University of Cambridge  2013           NaN\n",
       "203            4         University of Cambridge  2014          13.0\n",
       "1203           4         University of Cambridge  2015          13.0"
      ]
     },
     "execution_count": 4,
     "metadata": {},
     "output_type": "execute_result"
    }
   ],
   "source": [
    "#samples check for broad impact value to see if it is wise to use mean to fill NaN value. \n",
    "#You will be dragging down the score of broad impact for these top instituitions!\n",
    "print(\"Broad_impact mean:\", df.broad_impact.mean()) \n",
    "check=df.sort_values(by = ['institution', 'year'], ascending = [True, True])\n",
    "check[check.institution.isin(['University of Cambridge', 'Australian National University', 'Boston University'])][['world_rank','institution','year','broad_impact']]"
   ]
  },
  {
   "cell_type": "code",
   "execution_count": 5,
   "metadata": {},
   "outputs": [
    {
     "data": {
      "text/html": [
       "<div>\n",
       "<style scoped>\n",
       "    .dataframe tbody tr th:only-of-type {\n",
       "        vertical-align: middle;\n",
       "    }\n",
       "\n",
       "    .dataframe tbody tr th {\n",
       "        vertical-align: top;\n",
       "    }\n",
       "\n",
       "    .dataframe thead th {\n",
       "        text-align: right;\n",
       "    }\n",
       "</style>\n",
       "<table border=\"1\" class=\"dataframe\">\n",
       "  <thead>\n",
       "    <tr style=\"text-align: right;\">\n",
       "      <th></th>\n",
       "      <th>world_rank</th>\n",
       "      <th>institution</th>\n",
       "      <th>year</th>\n",
       "      <th>broad_impact</th>\n",
       "    </tr>\n",
       "  </thead>\n",
       "  <tbody>\n",
       "    <tr>\n",
       "      <th>195</th>\n",
       "      <td>96</td>\n",
       "      <td>Australian National University</td>\n",
       "      <td>2013</td>\n",
       "      <td>192.0</td>\n",
       "    </tr>\n",
       "    <tr>\n",
       "      <th>359</th>\n",
       "      <td>160</td>\n",
       "      <td>Australian National University</td>\n",
       "      <td>2014</td>\n",
       "      <td>196.0</td>\n",
       "    </tr>\n",
       "    <tr>\n",
       "      <th>1378</th>\n",
       "      <td>179</td>\n",
       "      <td>Australian National University</td>\n",
       "      <td>2015</td>\n",
       "      <td>188.0</td>\n",
       "    </tr>\n",
       "    <tr>\n",
       "      <th>61</th>\n",
       "      <td>62</td>\n",
       "      <td>Boston University</td>\n",
       "      <td>2012</td>\n",
       "      <td>35.5</td>\n",
       "    </tr>\n",
       "    <tr>\n",
       "      <th>153</th>\n",
       "      <td>54</td>\n",
       "      <td>Boston University</td>\n",
       "      <td>2013</td>\n",
       "      <td>35.5</td>\n",
       "    </tr>\n",
       "    <tr>\n",
       "      <th>266</th>\n",
       "      <td>67</td>\n",
       "      <td>Boston University</td>\n",
       "      <td>2014</td>\n",
       "      <td>37.0</td>\n",
       "    </tr>\n",
       "    <tr>\n",
       "      <th>1265</th>\n",
       "      <td>66</td>\n",
       "      <td>Boston University</td>\n",
       "      <td>2015</td>\n",
       "      <td>34.0</td>\n",
       "    </tr>\n",
       "    <tr>\n",
       "      <th>3</th>\n",
       "      <td>4</td>\n",
       "      <td>University of Cambridge</td>\n",
       "      <td>2012</td>\n",
       "      <td>13.0</td>\n",
       "    </tr>\n",
       "    <tr>\n",
       "      <th>104</th>\n",
       "      <td>5</td>\n",
       "      <td>University of Cambridge</td>\n",
       "      <td>2013</td>\n",
       "      <td>13.0</td>\n",
       "    </tr>\n",
       "    <tr>\n",
       "      <th>203</th>\n",
       "      <td>4</td>\n",
       "      <td>University of Cambridge</td>\n",
       "      <td>2014</td>\n",
       "      <td>13.0</td>\n",
       "    </tr>\n",
       "    <tr>\n",
       "      <th>1203</th>\n",
       "      <td>4</td>\n",
       "      <td>University of Cambridge</td>\n",
       "      <td>2015</td>\n",
       "      <td>13.0</td>\n",
       "    </tr>\n",
       "  </tbody>\n",
       "</table>\n",
       "</div>"
      ],
      "text/plain": [
       "      world_rank                     institution  year  broad_impact\n",
       "195           96  Australian National University  2013         192.0\n",
       "359          160  Australian National University  2014         196.0\n",
       "1378         179  Australian National University  2015         188.0\n",
       "61            62               Boston University  2012          35.5\n",
       "153           54               Boston University  2013          35.5\n",
       "266           67               Boston University  2014          37.0\n",
       "1265          66               Boston University  2015          34.0\n",
       "3              4         University of Cambridge  2012          13.0\n",
       "104            5         University of Cambridge  2013          13.0\n",
       "203            4         University of Cambridge  2014          13.0\n",
       "1203           4         University of Cambridge  2015          13.0"
      ]
     },
     "execution_count": 5,
     "metadata": {},
     "output_type": "execute_result"
    }
   ],
   "source": [
    "#replacing broad impact NaN value with countries average broad impact mean\n",
    "bim = df.groupby('institution')['broad_impact'].transform('mean')\n",
    "df['broad_impact'].fillna(bim, inplace= True)\n",
    "check=df.sort_values(by = ['institution', 'year'], ascending = [True, True])\n",
    "check[check.institution.isin(['University of Cambridge', 'Australian National University', 'Boston University'])][['world_rank','institution','year','broad_impact']]"
   ]
  },
  {
   "cell_type": "code",
   "execution_count": 6,
   "metadata": {},
   "outputs": [
    {
     "name": "stdout",
     "output_type": "stream",
     "text": [
      "<class 'pandas.core.frame.DataFrame'>\n",
      "RangeIndex: 2200 entries, 0 to 2199\n",
      "Data columns (total 14 columns):\n",
      " #   Column                Non-Null Count  Dtype  \n",
      "---  ------                --------------  -----  \n",
      " 0   world_rank            2200 non-null   int64  \n",
      " 1   institution           2200 non-null   object \n",
      " 2   country               2200 non-null   object \n",
      " 3   national_rank         2200 non-null   int64  \n",
      " 4   quality_of_education  2200 non-null   int64  \n",
      " 5   alumni_employment     2200 non-null   int64  \n",
      " 6   quality_of_faculty    2200 non-null   int64  \n",
      " 7   publications          2200 non-null   int64  \n",
      " 8   influence             2200 non-null   int64  \n",
      " 9   citations             2200 non-null   int64  \n",
      " 10  broad_impact          2199 non-null   float64\n",
      " 11  patents               2200 non-null   int64  \n",
      " 12  score                 2200 non-null   float64\n",
      " 13  year                  2200 non-null   int64  \n",
      "dtypes: float64(2), int64(10), object(2)\n",
      "memory usage: 240.8+ KB\n",
      "None \n",
      "\n"
     ]
    },
    {
     "data": {
      "text/html": [
       "<div>\n",
       "<style scoped>\n",
       "    .dataframe tbody tr th:only-of-type {\n",
       "        vertical-align: middle;\n",
       "    }\n",
       "\n",
       "    .dataframe tbody tr th {\n",
       "        vertical-align: top;\n",
       "    }\n",
       "\n",
       "    .dataframe thead th {\n",
       "        text-align: right;\n",
       "    }\n",
       "</style>\n",
       "<table border=\"1\" class=\"dataframe\">\n",
       "  <thead>\n",
       "    <tr style=\"text-align: right;\">\n",
       "      <th></th>\n",
       "      <th>world_rank</th>\n",
       "      <th>institution</th>\n",
       "      <th>country</th>\n",
       "      <th>national_rank</th>\n",
       "      <th>quality_of_education</th>\n",
       "      <th>alumni_employment</th>\n",
       "      <th>quality_of_faculty</th>\n",
       "      <th>publications</th>\n",
       "      <th>influence</th>\n",
       "      <th>citations</th>\n",
       "      <th>broad_impact</th>\n",
       "      <th>patents</th>\n",
       "      <th>score</th>\n",
       "      <th>year</th>\n",
       "    </tr>\n",
       "  </thead>\n",
       "  <tbody>\n",
       "    <tr>\n",
       "      <th>94</th>\n",
       "      <td>95</td>\n",
       "      <td>Williams College</td>\n",
       "      <td>USA</td>\n",
       "      <td>57</td>\n",
       "      <td>18</td>\n",
       "      <td>15</td>\n",
       "      <td>101</td>\n",
       "      <td>101</td>\n",
       "      <td>101</td>\n",
       "      <td>101</td>\n",
       "      <td>NaN</td>\n",
       "      <td>101</td>\n",
       "      <td>43.89</td>\n",
       "      <td>2012</td>\n",
       "    </tr>\n",
       "  </tbody>\n",
       "</table>\n",
       "</div>"
      ],
      "text/plain": [
       "    world_rank       institution country  national_rank  quality_of_education  \\\n",
       "94          95  Williams College     USA             57                    18   \n",
       "\n",
       "    alumni_employment  quality_of_faculty  publications  influence  citations  \\\n",
       "94                 15                 101           101        101        101   \n",
       "\n",
       "    broad_impact  patents  score  year  \n",
       "94           NaN      101  43.89  2012  "
      ]
     },
     "execution_count": 6,
     "metadata": {},
     "output_type": "execute_result"
    }
   ],
   "source": [
    "#check for broad impact NaN value again. still got 1 null value because this institution only made it to top 100 in 2012\n",
    "print(df.info(), \"\\n\")\n",
    "is_NaN = df.isnull()\n",
    "row_has_NaN = is_NaN.any(axis=1)\n",
    "rows_with_NaN = df[row_has_NaN]\n",
    "rows_with_NaN"
   ]
  },
  {
   "cell_type": "code",
   "execution_count": 7,
   "metadata": {},
   "outputs": [
    {
     "data": {
      "text/html": [
       "<div>\n",
       "<style scoped>\n",
       "    .dataframe tbody tr th:only-of-type {\n",
       "        vertical-align: middle;\n",
       "    }\n",
       "\n",
       "    .dataframe tbody tr th {\n",
       "        vertical-align: top;\n",
       "    }\n",
       "\n",
       "    .dataframe thead th {\n",
       "        text-align: right;\n",
       "    }\n",
       "</style>\n",
       "<table border=\"1\" class=\"dataframe\">\n",
       "  <thead>\n",
       "    <tr style=\"text-align: right;\">\n",
       "      <th></th>\n",
       "      <th>broad_impact</th>\n",
       "    </tr>\n",
       "  </thead>\n",
       "  <tbody>\n",
       "    <tr>\n",
       "      <th>broad_impact</th>\n",
       "      <td>1.000000</td>\n",
       "    </tr>\n",
       "    <tr>\n",
       "      <th>world_rank</th>\n",
       "      <td>0.949689</td>\n",
       "    </tr>\n",
       "    <tr>\n",
       "      <th>publications</th>\n",
       "      <td>0.929408</td>\n",
       "    </tr>\n",
       "    <tr>\n",
       "      <th>influence</th>\n",
       "      <td>0.928080</td>\n",
       "    </tr>\n",
       "    <tr>\n",
       "      <th>citations</th>\n",
       "      <td>0.876017</td>\n",
       "    </tr>\n",
       "  </tbody>\n",
       "</table>\n",
       "</div>"
      ],
      "text/plain": [
       "              broad_impact\n",
       "broad_impact      1.000000\n",
       "world_rank        0.949689\n",
       "publications      0.929408\n",
       "influence         0.928080\n",
       "citations         0.876017"
      ]
     },
     "execution_count": 7,
     "metadata": {},
     "output_type": "execute_result"
    }
   ],
   "source": [
    "#checking for correlation for broad impact. world_rank has the highest correlation.\n",
    "cor=df.corr()\n",
    "bicor = pd.DataFrame(cor['broad_impact'][:].nlargest(), columns = ['broad_impact'])\n",
    "bicor"
   ]
  },
  {
   "cell_type": "code",
   "execution_count": 8,
   "metadata": {
    "scrolled": true
   },
   "outputs": [
    {
     "data": {
      "text/html": [
       "<div>\n",
       "<style scoped>\n",
       "    .dataframe tbody tr th:only-of-type {\n",
       "        vertical-align: middle;\n",
       "    }\n",
       "\n",
       "    .dataframe tbody tr th {\n",
       "        vertical-align: top;\n",
       "    }\n",
       "\n",
       "    .dataframe thead th {\n",
       "        text-align: right;\n",
       "    }\n",
       "</style>\n",
       "<table border=\"1\" class=\"dataframe\">\n",
       "  <thead>\n",
       "    <tr style=\"text-align: right;\">\n",
       "      <th></th>\n",
       "      <th>world_rank</th>\n",
       "      <th>institution</th>\n",
       "      <th>year</th>\n",
       "      <th>broad_impact</th>\n",
       "    </tr>\n",
       "  </thead>\n",
       "  <tbody>\n",
       "    <tr>\n",
       "      <th>94</th>\n",
       "      <td>95</td>\n",
       "      <td>Williams College</td>\n",
       "      <td>2012</td>\n",
       "      <td>NaN</td>\n",
       "    </tr>\n",
       "    <tr>\n",
       "      <th>194</th>\n",
       "      <td>95</td>\n",
       "      <td>Tohoku University</td>\n",
       "      <td>2013</td>\n",
       "      <td>115.5</td>\n",
       "    </tr>\n",
       "    <tr>\n",
       "      <th>294</th>\n",
       "      <td>95</td>\n",
       "      <td>University of Sydney</td>\n",
       "      <td>2014</td>\n",
       "      <td>94.0</td>\n",
       "    </tr>\n",
       "    <tr>\n",
       "      <th>1294</th>\n",
       "      <td>95</td>\n",
       "      <td>Tufts University</td>\n",
       "      <td>2015</td>\n",
       "      <td>85.0</td>\n",
       "    </tr>\n",
       "  </tbody>\n",
       "</table>\n",
       "</div>"
      ],
      "text/plain": [
       "      world_rank           institution  year  broad_impact\n",
       "94            95      Williams College  2012           NaN\n",
       "194           95     Tohoku University  2013         115.5\n",
       "294           95  University of Sydney  2014          94.0\n",
       "1294          95      Tufts University  2015          85.0"
      ]
     },
     "execution_count": 8,
     "metadata": {},
     "output_type": "execute_result"
    }
   ],
   "source": [
    "#Hence use other years world rank 95 to find mean of broad impact\n",
    "check1=df.sort_values(by = 'year', ascending = True)\n",
    "check1[check1.world_rank==95][['world_rank','institution','year','broad_impact']]\n",
    "\n",
    "# check[check.institution.isin(['Williams College', 'Tohoku University', 'University of Sydney', 'Tufts University'])][['world_rank','institution','year','broad_impact']]"
   ]
  },
  {
   "cell_type": "code",
   "execution_count": 9,
   "metadata": {},
   "outputs": [
    {
     "data": {
      "text/html": [
       "<div>\n",
       "<style scoped>\n",
       "    .dataframe tbody tr th:only-of-type {\n",
       "        vertical-align: middle;\n",
       "    }\n",
       "\n",
       "    .dataframe tbody tr th {\n",
       "        vertical-align: top;\n",
       "    }\n",
       "\n",
       "    .dataframe thead th {\n",
       "        text-align: right;\n",
       "    }\n",
       "</style>\n",
       "<table border=\"1\" class=\"dataframe\">\n",
       "  <thead>\n",
       "    <tr style=\"text-align: right;\">\n",
       "      <th></th>\n",
       "      <th>world_rank</th>\n",
       "      <th>institution</th>\n",
       "      <th>year</th>\n",
       "      <th>broad_impact</th>\n",
       "    </tr>\n",
       "  </thead>\n",
       "  <tbody>\n",
       "    <tr>\n",
       "      <th>94</th>\n",
       "      <td>95</td>\n",
       "      <td>Williams College</td>\n",
       "      <td>2012</td>\n",
       "      <td>98.166667</td>\n",
       "    </tr>\n",
       "    <tr>\n",
       "      <th>194</th>\n",
       "      <td>95</td>\n",
       "      <td>Tohoku University</td>\n",
       "      <td>2013</td>\n",
       "      <td>115.500000</td>\n",
       "    </tr>\n",
       "    <tr>\n",
       "      <th>294</th>\n",
       "      <td>95</td>\n",
       "      <td>University of Sydney</td>\n",
       "      <td>2014</td>\n",
       "      <td>94.000000</td>\n",
       "    </tr>\n",
       "    <tr>\n",
       "      <th>1294</th>\n",
       "      <td>95</td>\n",
       "      <td>Tufts University</td>\n",
       "      <td>2015</td>\n",
       "      <td>85.000000</td>\n",
       "    </tr>\n",
       "  </tbody>\n",
       "</table>\n",
       "</div>"
      ],
      "text/plain": [
       "      world_rank           institution  year  broad_impact\n",
       "94            95      Williams College  2012     98.166667\n",
       "194           95     Tohoku University  2013    115.500000\n",
       "294           95  University of Sydney  2014     94.000000\n",
       "1294          95      Tufts University  2015     85.000000"
      ]
     },
     "execution_count": 9,
     "metadata": {},
     "output_type": "execute_result"
    }
   ],
   "source": [
    "#patching NaN broad impact with world rank 95 from other years broad impact mean\n",
    "wrm = df[df.world_rank==95].broad_impact.mean()\n",
    "df['broad_impact'].fillna(wrm, inplace= True)\n",
    "check1=df.sort_values(by = 'year', ascending = True)\n",
    "check1[check1.world_rank==95][['world_rank','institution','year','broad_impact']]"
   ]
  },
  {
   "cell_type": "code",
   "execution_count": 10,
   "metadata": {},
   "outputs": [
    {
     "name": "stdout",
     "output_type": "stream",
     "text": [
      "<class 'pandas.core.frame.DataFrame'>\n",
      "RangeIndex: 2200 entries, 0 to 2199\n",
      "Data columns (total 14 columns):\n",
      " #   Column                Non-Null Count  Dtype  \n",
      "---  ------                --------------  -----  \n",
      " 0   world_rank            2200 non-null   int64  \n",
      " 1   institution           2200 non-null   object \n",
      " 2   country               2200 non-null   object \n",
      " 3   national_rank         2200 non-null   int64  \n",
      " 4   quality_of_education  2200 non-null   int64  \n",
      " 5   alumni_employment     2200 non-null   int64  \n",
      " 6   quality_of_faculty    2200 non-null   int64  \n",
      " 7   publications          2200 non-null   int64  \n",
      " 8   influence             2200 non-null   int64  \n",
      " 9   citations             2200 non-null   int64  \n",
      " 10  broad_impact          2200 non-null   float64\n",
      " 11  patents               2200 non-null   int64  \n",
      " 12  score                 2200 non-null   float64\n",
      " 13  year                  2200 non-null   int64  \n",
      "dtypes: float64(2), int64(10), object(2)\n",
      "memory usage: 240.8+ KB\n",
      "None \n",
      "\n"
     ]
    }
   ],
   "source": [
    "print(df.info(), \"\\n\")\n",
    "# no more null values"
   ]
  },
  {
   "cell_type": "markdown",
   "metadata": {},
   "source": [
    "# B. Questions\n",
    "### Answer the questions below based on the dataset. "
   ]
  },
  {
   "cell_type": "markdown",
   "metadata": {},
   "source": [
    "### 1. Focusing only on rows with world_rank smaller and inclusive of 100: Which country (throughout all years) has the most number universities within top 100 of world_rank? Let's call count of universities within top100 as 'count_100'. What are the top 10 countries by value of count_100, and what is count_100 for each of these countries?"
   ]
  },
  {
   "cell_type": "code",
   "execution_count": 11,
   "metadata": {
    "scrolled": false
   },
   "outputs": [
    {
     "data": {
      "text/plain": [
       "country\n",
       "Australia           8\n",
       "Belgium             2\n",
       "Canada             13\n",
       "China               4\n",
       "Denmark             4\n",
       "Finland             2\n",
       "France             18\n",
       "Germany            11\n",
       "Israel             14\n",
       "Italy               3\n",
       "Japan              26\n",
       "Netherlands         6\n",
       "Norway              3\n",
       "Russia              3\n",
       "Singapore           3\n",
       "South Korea         5\n",
       "Sweden              5\n",
       "Switzerland        16\n",
       "Taiwan              2\n",
       "USA               223\n",
       "United Kingdom     29\n",
       "Name: world_rank, dtype: int64"
      ]
     },
     "execution_count": 11,
     "metadata": {},
     "output_type": "execute_result"
    }
   ],
   "source": [
    "# defining count_100 variable\n",
    "count_100=df.loc[df.world_rank <= 100].groupby('country').count()['world_rank']\n",
    "count_100"
   ]
  },
  {
   "cell_type": "code",
   "execution_count": 12,
   "metadata": {},
   "outputs": [
    {
     "data": {
      "text/html": [
       "<div>\n",
       "<style scoped>\n",
       "    .dataframe tbody tr th:only-of-type {\n",
       "        vertical-align: middle;\n",
       "    }\n",
       "\n",
       "    .dataframe tbody tr th {\n",
       "        vertical-align: top;\n",
       "    }\n",
       "\n",
       "    .dataframe thead th {\n",
       "        text-align: right;\n",
       "    }\n",
       "</style>\n",
       "<table border=\"1\" class=\"dataframe\">\n",
       "  <thead>\n",
       "    <tr style=\"text-align: right;\">\n",
       "      <th></th>\n",
       "      <th>country</th>\n",
       "      <th>count_100</th>\n",
       "    </tr>\n",
       "  </thead>\n",
       "  <tbody>\n",
       "    <tr>\n",
       "      <th>0</th>\n",
       "      <td>USA</td>\n",
       "      <td>223</td>\n",
       "    </tr>\n",
       "    <tr>\n",
       "      <th>1</th>\n",
       "      <td>United Kingdom</td>\n",
       "      <td>29</td>\n",
       "    </tr>\n",
       "    <tr>\n",
       "      <th>2</th>\n",
       "      <td>Japan</td>\n",
       "      <td>26</td>\n",
       "    </tr>\n",
       "    <tr>\n",
       "      <th>3</th>\n",
       "      <td>France</td>\n",
       "      <td>18</td>\n",
       "    </tr>\n",
       "    <tr>\n",
       "      <th>4</th>\n",
       "      <td>Switzerland</td>\n",
       "      <td>16</td>\n",
       "    </tr>\n",
       "    <tr>\n",
       "      <th>5</th>\n",
       "      <td>Israel</td>\n",
       "      <td>14</td>\n",
       "    </tr>\n",
       "    <tr>\n",
       "      <th>6</th>\n",
       "      <td>Canada</td>\n",
       "      <td>13</td>\n",
       "    </tr>\n",
       "    <tr>\n",
       "      <th>7</th>\n",
       "      <td>Germany</td>\n",
       "      <td>11</td>\n",
       "    </tr>\n",
       "    <tr>\n",
       "      <th>8</th>\n",
       "      <td>Australia</td>\n",
       "      <td>8</td>\n",
       "    </tr>\n",
       "    <tr>\n",
       "      <th>9</th>\n",
       "      <td>Netherlands</td>\n",
       "      <td>6</td>\n",
       "    </tr>\n",
       "  </tbody>\n",
       "</table>\n",
       "</div>"
      ],
      "text/plain": [
       "          country  count_100\n",
       "0             USA        223\n",
       "1  United Kingdom         29\n",
       "2           Japan         26\n",
       "3          France         18\n",
       "4     Switzerland         16\n",
       "5          Israel         14\n",
       "6          Canada         13\n",
       "7         Germany         11\n",
       "8       Australia          8\n",
       "9     Netherlands          6"
      ]
     },
     "execution_count": 12,
     "metadata": {},
     "output_type": "execute_result"
    }
   ],
   "source": [
    "top10=count_100.nlargest(10).reset_index()\n",
    "top10.rename(columns={'world_rank':'count_100'}, inplace=True)\n",
    "top10"
   ]
  },
  {
   "cell_type": "markdown",
   "metadata": {},
   "source": [
    "### 2. For the top 10 countries with largest amount of top100 universities, What is the percentage composition of each countries' count_100 out of the 10 countries? (ie. the 10 countries make up 100%) "
   ]
  },
  {
   "cell_type": "code",
   "execution_count": 13,
   "metadata": {},
   "outputs": [
    {
     "data": {
      "text/html": [
       "<div>\n",
       "<style scoped>\n",
       "    .dataframe tbody tr th:only-of-type {\n",
       "        vertical-align: middle;\n",
       "    }\n",
       "\n",
       "    .dataframe tbody tr th {\n",
       "        vertical-align: top;\n",
       "    }\n",
       "\n",
       "    .dataframe thead th {\n",
       "        text-align: right;\n",
       "    }\n",
       "</style>\n",
       "<table border=\"1\" class=\"dataframe\">\n",
       "  <thead>\n",
       "    <tr style=\"text-align: right;\">\n",
       "      <th></th>\n",
       "      <th>country</th>\n",
       "      <th>percentage</th>\n",
       "    </tr>\n",
       "  </thead>\n",
       "  <tbody>\n",
       "    <tr>\n",
       "      <th>0</th>\n",
       "      <td>USA</td>\n",
       "      <td>61.263736</td>\n",
       "    </tr>\n",
       "    <tr>\n",
       "      <th>1</th>\n",
       "      <td>United Kingdom</td>\n",
       "      <td>7.967033</td>\n",
       "    </tr>\n",
       "    <tr>\n",
       "      <th>2</th>\n",
       "      <td>Japan</td>\n",
       "      <td>7.142857</td>\n",
       "    </tr>\n",
       "    <tr>\n",
       "      <th>3</th>\n",
       "      <td>France</td>\n",
       "      <td>4.945055</td>\n",
       "    </tr>\n",
       "    <tr>\n",
       "      <th>4</th>\n",
       "      <td>Switzerland</td>\n",
       "      <td>4.395604</td>\n",
       "    </tr>\n",
       "    <tr>\n",
       "      <th>5</th>\n",
       "      <td>Israel</td>\n",
       "      <td>3.846154</td>\n",
       "    </tr>\n",
       "    <tr>\n",
       "      <th>6</th>\n",
       "      <td>Canada</td>\n",
       "      <td>3.571429</td>\n",
       "    </tr>\n",
       "    <tr>\n",
       "      <th>7</th>\n",
       "      <td>Germany</td>\n",
       "      <td>3.021978</td>\n",
       "    </tr>\n",
       "    <tr>\n",
       "      <th>8</th>\n",
       "      <td>Australia</td>\n",
       "      <td>2.197802</td>\n",
       "    </tr>\n",
       "    <tr>\n",
       "      <th>9</th>\n",
       "      <td>Netherlands</td>\n",
       "      <td>1.648352</td>\n",
       "    </tr>\n",
       "  </tbody>\n",
       "</table>\n",
       "</div>"
      ],
      "text/plain": [
       "          country  percentage\n",
       "0             USA   61.263736\n",
       "1  United Kingdom    7.967033\n",
       "2           Japan    7.142857\n",
       "3          France    4.945055\n",
       "4     Switzerland    4.395604\n",
       "5          Israel    3.846154\n",
       "6          Canada    3.571429\n",
       "7         Germany    3.021978\n",
       "8       Australia    2.197802\n",
       "9     Netherlands    1.648352"
      ]
     },
     "execution_count": 13,
     "metadata": {},
     "output_type": "execute_result"
    }
   ],
   "source": [
    "percent=(count_100.nlargest(10)/count_100.nlargest(10).sum())*100\n",
    "percentage=percent.reset_index()\n",
    "percentage.rename(columns={'world_rank':'percentage'}, inplace=True)\n",
    "percentage"
   ]
  },
  {
   "cell_type": "markdown",
   "metadata": {},
   "source": [
    "### 3. Plot a graph showing the top 5 countries from Q2 and their counts"
   ]
  },
  {
   "cell_type": "code",
   "execution_count": 14,
   "metadata": {
    "scrolled": false
   },
   "outputs": [
    {
     "name": "stdout",
     "output_type": "stream",
     "text": [
      "Institutions by country making into top100 across years is quite consistent\n",
      "Japan universities making into top 100 have been steadily increasing\n"
     ]
    },
    {
     "data": {
      "image/png": "[encoded data removed]",
      "text/plain": [
       "<Figure size 576x720 with 1 Axes>"
      ]
     },
     "metadata": {},
     "output_type": "display_data"
    },
    {
     "data": {
      "text/plain": [
       "<Figure size 288x1008 with 0 Axes>"
      ]
     },
     "metadata": {},
     "output_type": "display_data"
    }
   ],
   "source": [
    "#get the top 5 countries counts\n",
    "top5=count_100.nlargest(5).reset_index()\n",
    "top5.rename(columns={'world_rank':'count_100'}, inplace=True)\n",
    "\n",
    "#get the top 5 countries count across the years for a deeper insight to the distribution\n",
    "top100ct=df.loc[df.world_rank <= 100].groupby(['country'])['year'].value_counts().unstack(level=1)\n",
    "top100ct.reset_index(inplace=True)\n",
    "top5ct=top100ct.loc[top100ct.country.isin(top5.country)]\n",
    "\n",
    "cntry=top5ct[\"country\"]\n",
    "year2012=top5ct[2012]\n",
    "year2013=top5ct[2013]\n",
    "year2014=top5ct[2014]\n",
    "year2015=top5ct[2015]\n",
    "r = range(len(cntry))\n",
    "\n",
    "# setting fig size\n",
    "width = 8\n",
    "height = 10\n",
    "fig, ax = plt.subplots(figsize=(width,height))\n",
    "\n",
    "# Setting axis labels\n",
    "plt.xticks(r, cntry, fontweight='bold')\n",
    "plt.ylabel('counts');\n",
    "\n",
    "# Custom X axis\n",
    "ax1 = plt.bar(r, year2012, label=\"2012\")\n",
    "ax2 = plt.bar(r, year2013, bottom=np.array(year2012), label='2013')\n",
    "ax3 = plt.bar(r, year2014, bottom=np.array(year2012)+np.array(year2013), label='2014')\n",
    "ax4 = plt.bar(r, year2015, bottom=np.array(year2012)+np.array(year2013)+np.array(year2014), label='2015')\n",
    "\n",
    "handles, labels = ax.get_legend_handles_labels()   #get the handles\n",
    "ax.legend(reversed(handles), reversed(labels),title='Year',loc=\"center\",bbox_to_anchor=(0.35, 0.4))\n",
    "\n",
    "for r1, r2, r3, r4 in zip(ax1, ax2, ax3,ax4):\n",
    "    h1 = r1.get_height()\n",
    "    h2 = r2.get_height()\n",
    "    h3 = r3.get_height()\n",
    "    h4 = r4.get_height()\n",
    "    plt.text(r1.get_x() + r1.get_width() / 2., h1 / 2., \"%d\" % h1, ha=\"center\", va=\"center\", color=\"white\", fontsize=12, fontweight=\"bold\")\n",
    "    plt.text(r2.get_x() + r2.get_width() / 2., h1 + h2 / 2., \"%d\" % h2, ha=\"center\", va=\"center\", color=\"white\", fontsize=12, fontweight=\"bold\")\n",
    "    plt.text(r3.get_x() + r3.get_width() / 2., h1 + h2 + h3 / 2., \"%d\" % h3, ha=\"center\", va=\"center\", color=\"white\", fontsize=12, fontweight=\"bold\")\n",
    "    plt.text(r4.get_x() + r4.get_width() / 2., h1 + h2 + h3 + h4 / 2., \"%d\" % h4, ha=\"center\", va=\"center\", color=\"white\", fontsize=12, fontweight=\"bold\")\n",
    "    plt.text(r1.get_x() + r1.get_width() / 2., h1+h2+h3+h4, '%d'% (h1+h2+h3+h4), ha = 'center', va='bottom',fontweight=\"bold\", fontsize=14)\n",
    "\n",
    "plt.figure(figsize=(4,14))\n",
    "print('Institutions by country making into top100 across years is quite consistent')\n",
    "print('Japan universities making into top 100 have been steadily increasing')\n",
    "\n",
    "plt.show();\n"
   ]
  },
  {
   "cell_type": "markdown",
   "metadata": {},
   "source": [
    "### 4. Groupby year and country showing the count of universities with world_rank within top 100 for that country and year. Set the name for column of counts as 'count_top100'. Sort the year in ascending order while count_top100 in descending order. See the table below as example output."
   ]
  },
  {
   "cell_type": "code",
   "execution_count": 15,
   "metadata": {},
   "outputs": [
    {
     "data": {
      "text/html": [
       "<div>\n",
       "<style scoped>\n",
       "    .dataframe tbody tr th:only-of-type {\n",
       "        vertical-align: middle;\n",
       "    }\n",
       "\n",
       "    .dataframe tbody tr th {\n",
       "        vertical-align: top;\n",
       "    }\n",
       "\n",
       "    .dataframe thead th {\n",
       "        text-align: right;\n",
       "    }\n",
       "</style>\n",
       "<table border=\"1\" class=\"dataframe\">\n",
       "  <thead>\n",
       "    <tr style=\"text-align: right;\">\n",
       "      <th></th>\n",
       "      <th></th>\n",
       "      <th>count_top100</th>\n",
       "    </tr>\n",
       "    <tr>\n",
       "      <th>year</th>\n",
       "      <th>country</th>\n",
       "      <th></th>\n",
       "    </tr>\n",
       "  </thead>\n",
       "  <tbody>\n",
       "    <tr>\n",
       "      <th rowspan=\"5\" valign=\"top\">2012</th>\n",
       "      <th>USA</th>\n",
       "      <td>58</td>\n",
       "    </tr>\n",
       "    <tr>\n",
       "      <th>United Kingdom</th>\n",
       "      <td>8</td>\n",
       "    </tr>\n",
       "    <tr>\n",
       "      <th>France</th>\n",
       "      <td>5</td>\n",
       "    </tr>\n",
       "    <tr>\n",
       "      <th>Japan</th>\n",
       "      <td>5</td>\n",
       "    </tr>\n",
       "    <tr>\n",
       "      <th>Israel</th>\n",
       "      <td>4</td>\n",
       "    </tr>\n",
       "    <tr>\n",
       "      <th>...</th>\n",
       "      <th>...</th>\n",
       "      <td>...</td>\n",
       "    </tr>\n",
       "    <tr>\n",
       "      <th rowspan=\"5\" valign=\"top\">2015</th>\n",
       "      <th>Norway</th>\n",
       "      <td>1</td>\n",
       "    </tr>\n",
       "    <tr>\n",
       "      <th>Russia</th>\n",
       "      <td>1</td>\n",
       "    </tr>\n",
       "    <tr>\n",
       "      <th>Singapore</th>\n",
       "      <td>1</td>\n",
       "    </tr>\n",
       "    <tr>\n",
       "      <th>Sweden</th>\n",
       "      <td>1</td>\n",
       "    </tr>\n",
       "    <tr>\n",
       "      <th>Taiwan</th>\n",
       "      <td>1</td>\n",
       "    </tr>\n",
       "  </tbody>\n",
       "</table>\n",
       "<p>72 rows × 1 columns</p>\n",
       "</div>"
      ],
      "text/plain": [
       "                     count_top100\n",
       "year country                     \n",
       "2012 USA                       58\n",
       "     United Kingdom             8\n",
       "     France                     5\n",
       "     Japan                      5\n",
       "     Israel                     4\n",
       "...                           ...\n",
       "2015 Norway                     1\n",
       "     Russia                     1\n",
       "     Singapore                  1\n",
       "     Sweden                     1\n",
       "     Taiwan                     1\n",
       "\n",
       "[72 rows x 1 columns]"
      ]
     },
     "execution_count": 15,
     "metadata": {},
     "output_type": "execute_result"
    }
   ],
   "source": [
    "pivot1 = pd.pivot_table(df[df.world_rank <= 100],\n",
    "               index=['year','country'], \n",
    "               values=['world_rank'],\n",
    "               aggfunc='count')\n",
    "pivot1.sort_values(by=['year','world_rank'], ascending=[True, False], inplace= True)\n",
    "pivot1.rename(columns={'world_rank':'count_top100'})"
   ]
  },
  {
   "cell_type": "markdown",
   "metadata": {},
   "source": [
    "### 5. Use an appropriate visual chart to display the trend for the count of top 100 universities for Japan, China and Singapore for years 2012 - 2015 in a single chart."
   ]
  },
  {
   "cell_type": "code",
   "execution_count": 16,
   "metadata": {},
   "outputs": [
    {
     "data": {
      "image/png": "[encoded data removed]",
      "text/plain": [
       "<Figure size 1296x720 with 2 Axes>"
      ]
     },
     "metadata": {},
     "output_type": "display_data"
    },
    {
     "name": "stdout",
     "output_type": "stream",
     "text": [
      "While Japan leads with the highest count of universities in top 100 over the years \n",
      "Japan also has >=50% universities in the top 45 world rank (blue dots)\n",
      "\n",
      "China is also coming on strongly with 2 universities making into top 100 in 2014 and 2015 with slight improvements (black dots)\n",
      "\n",
      "Although Singapore has only 1 university in top 100 since 2013, but its ranking has been increasing steadily over the years (red dots - 87,74,65)\n"
     ]
    }
   ],
   "source": [
    "#extracting dataframe\n",
    "jcs=df[(df.country.isin(['Japan', 'China', 'Singapore'])) & (df.world_rank <= 100)][['country','year','world_rank','institution']]\n",
    "jcs=jcs.sort_values(by = ['country','year','world_rank','institution'], ascending = [False, True, True, True]) # for data visualization\n",
    "\n",
    "#plotting first ax and size\n",
    "fig, ax = plt.subplots(figsize=(18,10))\n",
    "sns.countplot(x='year', hue='country', data=jcs)\n",
    "\n",
    "#setting legend and markers color\n",
    "ax.legend(title='Unis in Top 100',loc=\"upper right\")\n",
    "\n",
    "#sharing x axis\n",
    "ax2 = ax.twinx()\n",
    "\n",
    "# setting colors for stripplot\n",
    "colors = ['red','blue','black']\n",
    "g=sns.stripplot(x=\"year\", y=\"world_rank\", hue='country', palette=sns.xkcd_palette(colors), data=jcs, size=10, dodge=True, color='0.1')\n",
    "g.legend(title='Unis Rankings',loc=\"upper right\",bbox_to_anchor=(1, 0.85))\n",
    "g.invert_yaxis()\n",
    "ax.set_title('Top 100 universities for Japan, China and Singapore',size=20)\n",
    "\n",
    "plt.show()\n",
    "\n",
    "print('While Japan leads with the highest count of universities in top 100 over the years','\\nJapan also has >=50% universities in the top 45 world rank (blue dots)')\n",
    "print('\\nChina is also coming on strongly with 2 universities making into top 100 in 2014 and 2015 with slight improvements (black dots)')\n",
    "print('\\nAlthough Singapore has only 1 university in top 100 since 2013, but its ranking has been increasing steadily over the years (red dots - 87,74,65)')\n",
    "# print(jcs)\n",
    "# jcs # for data visualization"
   ]
  },
  {
   "cell_type": "markdown",
   "metadata": {},
   "source": [
    "### 6. For top 10 universities in 2015, what was the trend for world_rank for those universities across all the years? Which universities generally improved, and which ones declined in world_rank? Use an appropriate visual to show the trend and explain the results."
   ]
  },
  {
   "cell_type": "code",
   "execution_count": 17,
   "metadata": {},
   "outputs": [
    {
     "name": "stdout",
     "output_type": "stream",
     "text": [
      "Top 10 Rankings\n",
      "\"Harvard University\" (Rank 1): maintains its leadership position throughout the years\n",
      "\n",
      "\"Stanford University\" (Rank 2): inches closer to the peak from Rank 3 in 2012\n",
      "\n",
      "\"Massachusetts Institute of Technology\" (Rank 3): Slight decline from Rank 2 in 2012 to Rank 4 in 2013 before recovering back to Rank 3 from 2014\n",
      "\n",
      "\"University of Cambridge\" (Rank 4): hold its fort at Rank 4 despite a drop of 1 ranking to Rank 5 in 2013\n",
      "\n",
      "\"University of Oxford\" (Rank 5): Significant improvement observed from 2012 to 2013 (up 4 rankings from Rank 7 to top 3) before declining by 2 rankings, stablizing at Rank 5\n",
      "\n",
      "Strong improvements of 3 rankings:\n",
      " \"Columbia University\" (Rank 6): vs Rank 9 in 2012\n",
      " \"University of California, Berkeley\" (Rank 7): vs Rank 10 in 2012\n",
      " \"University of Chicago\" (Rank 8): vs Rank 11 in 2012\n",
      "\n",
      "\"Princeton University\" (Rank 9): Suffered the most drop from Rank 6 to Rank 9,\n",
      "\n",
      "\"Cornell University\" (Rank 10): Despite a slight trip to Rank 13 in 2013 (from Rank 12 in 2012), it rebounded up 3 rankings to settle within Top 10 in 2015)\n",
      "\n"
     ]
    },
    {
     "data": {
      "application/vnd.plotly.v1+json": {
       "config": {
        "plotlyServerURL": "https://plot.ly"
       },
       "data": [
        {
         "connectgaps": true,
         "line": {
          "color": "rgb(0,255,0)",
          "width": 2
         },
         "marker": {
          "color": "rgb(0,255,0)",
          "size": 2
         },
         "mode": "lines",
         "name": "Columbia University",
         "type": "scatter",
         "x": [
          2012,
          2013,
          2014,
          2015
         ],
         "y": [
          9,
          6,
          6,
          6
         ]
        },
        {
         "connectgaps": true,
         "line": {
          "color": "rgb(0,0,255)",
          "width": 2
         },
         "marker": {
          "color": "rgb(0,0,255)",
          "size": 2
         },
         "mode": "lines",
         "name": "Cornell University",
         "type": "scatter",
         "x": [
          2012,
          2013,
          2014,
          2015
         ],
         "y": [
          12,
          13,
          11,
          10
         ]
        },
        {
         "connectgaps": true,
         "line": {
          "color": "rgb(192,192,192)",
          "width": 2
         },
         "marker": {
          "color": "rgb(192,192,192)",
          "size": 2
         },
         "mode": "lines",
         "name": "Harvard University",
         "type": "scatter",
         "x": [
          2012,
          2013,
          2014,
          2015
         ],
         "y": [
          1,
          1,
          1,
          1
         ]
        },
        {
         "connectgaps": true,
         "line": {
          "color": "rgb(255,0,255)",
          "width": 2
         },
         "marker": {
          "color": "rgb(255,0,255)",
          "size": 2
         },
         "mode": "lines",
         "name": "Massachusetts Institute of Technology",
         "type": "scatter",
         "x": [
          2012,
          2013,
          2014,
          2015
         ],
         "y": [
          2,
          4,
          3,
          3
         ]
        },
        {
         "connectgaps": true,
         "line": {
          "color": "rgb(255,0,0)",
          "width": 2
         },
         "marker": {
          "color": "rgb(255,0,0)",
          "size": 2
         },
         "mode": "lines",
         "name": "Princeton University",
         "type": "scatter",
         "x": [
          2012,
          2013,
          2014,
          2015
         ],
         "y": [
          6,
          8,
          9,
          9
         ]
        },
        {
         "connectgaps": true,
         "line": {
          "color": "rgb(255,215,0)",
          "width": 2
         },
         "marker": {
          "color": "rgb(255,215,0)",
          "size": 2
         },
         "mode": "lines",
         "name": "Stanford University",
         "type": "scatter",
         "x": [
          2012,
          2013,
          2014,
          2015
         ],
         "y": [
          3,
          2,
          2,
          2
         ]
        },
        {
         "connectgaps": true,
         "line": {
          "color": "rgb(0,100,0)",
          "width": 2
         },
         "marker": {
          "color": "rgb(0,100,0)",
          "size": 2
         },
         "mode": "lines",
         "name": "University of California, Berkeley",
         "type": "scatter",
         "x": [
          2012,
          2013,
          2014,
          2015
         ],
         "y": [
          10,
          7,
          7,
          7
         ]
        },
        {
         "connectgaps": true,
         "line": {
          "color": "rgb(0,0,0)",
          "width": 2
         },
         "marker": {
          "color": "rgb(0,0,0)",
          "size": 2
         },
         "mode": "lines",
         "name": "University of Cambridge",
         "type": "scatter",
         "x": [
          2012,
          2013,
          2014,
          2015
         ],
         "y": [
          4,
          5,
          4,
          4
         ]
        },
        {
         "connectgaps": true,
         "line": {
          "color": "rgb(255,140,0)",
          "width": 2
         },
         "marker": {
          "color": "rgb(255,140,0)",
          "size": 2
         },
         "mode": "lines",
         "name": "University of Chicago",
         "type": "scatter",
         "x": [
          2012,
          2013,
          2014,
          2015
         ],
         "y": [
          11,
          9,
          8,
          8
         ]
        },
        {
         "connectgaps": true,
         "line": {
          "color": "rgb(0,0,128)",
          "width": 2
         },
         "marker": {
          "color": "rgb(0,0,128)",
          "size": 2
         },
         "mode": "lines",
         "name": "University of Oxford",
         "type": "scatter",
         "x": [
          2012,
          2013,
          2014,
          2015
         ],
         "y": [
          7,
          3,
          5,
          5
         ]
        },
        {
         "connectgaps": true,
         "marker": {
          "color": "rgb(0,255,0)",
          "size": 12
         },
         "mode": "markers",
         "name": "Columbia University",
         "type": "scatter",
         "x": [
          2012,
          2013,
          2014,
          2015
         ],
         "y": [
          9,
          6,
          6,
          6
         ]
        },
        {
         "connectgaps": true,
         "marker": {
          "color": "rgb(0,0,255)",
          "size": 8
         },
         "mode": "markers",
         "name": "Cornell University",
         "type": "scatter",
         "x": [
          2012,
          2013,
          2014,
          2015
         ],
         "y": [
          12,
          13,
          11,
          10
         ]
        },
        {
         "connectgaps": true,
         "marker": {
          "color": "rgb(192,192,192)",
          "size": 8
         },
         "mode": "markers",
         "name": "Harvard University",
         "type": "scatter",
         "x": [
          2012,
          2013,
          2014,
          2015
         ],
         "y": [
          1,
          1,
          1,
          1
         ]
        },
        {
         "connectgaps": true,
         "marker": {
          "color": "rgb(255,0,255)",
          "size": 8
         },
         "mode": "markers",
         "name": "Massachusetts Institute of Technology",
         "type": "scatter",
         "x": [
          2012,
          2013,
          2014,
          2015
         ],
         "y": [
          2,
          4,
          3,
          3
         ]
        },
        {
         "connectgaps": true,
         "marker": {
          "color": "rgb(255,0,0)",
          "size": 12
         },
         "mode": "markers",
         "name": "Princeton University",
         "type": "scatter",
         "x": [
          2012,
          2013,
          2014,
          2015
         ],
         "y": [
          6,
          8,
          9,
          9
         ]
        },
        {
         "connectgaps": true,
         "marker": {
          "color": "rgb(255,215,0)",
          "size": 8
         },
         "mode": "markers",
         "name": "Stanford University",
         "type": "scatter",
         "x": [
          2012,
          2013,
          2014,
          2015
         ],
         "y": [
          3,
          2,
          2,
          2
         ]
        },
        {
         "connectgaps": true,
         "marker": {
          "color": "rgb(0,100,0)",
          "size": 12
         },
         "mode": "markers",
         "name": "University of California, Berkeley",
         "type": "scatter",
         "x": [
          2012,
          2013,
          2014,
          2015
         ],
         "y": [
          10,
          7,
          7,
          7
         ]
        },
        {
         "connectgaps": true,
         "marker": {
          "color": "rgb(0,0,0)",
          "size": 8
         },
         "mode": "markers",
         "name": "University of Cambridge",
         "type": "scatter",
         "x": [
          2012,
          2013,
          2014,
          2015
         ],
         "y": [
          4,
          5,
          4,
          4
         ]
        },
        {
         "connectgaps": true,
         "marker": {
          "color": "rgb(255,140,0)",
          "size": 12
         },
         "mode": "markers",
         "name": "University of Chicago",
         "type": "scatter",
         "x": [
          2012,
          2013,
          2014,
          2015
         ],
         "y": [
          11,
          9,
          8,
          8
         ]
        },
        {
         "connectgaps": true,
         "marker": {
          "color": "rgb(0,0,128)",
          "size": 8
         },
         "mode": "markers",
         "name": "University of Oxford",
         "type": "scatter",
         "x": [
          2012,
          2013,
          2014,
          2015
         ],
         "y": [
          7,
          3,
          5,
          5
         ]
        }
       ],
       "layout": {
        "annotations": [
         {
          "font": {
           "color": "rgb(1,1,1)",
           "family": "Arial",
           "size": 12
          },
          "showarrow": false,
          "text": "Columbia University (Rank 9)",
          "x": 0.05,
          "xanchor": "right",
          "xref": "paper",
          "y": 9,
          "yanchor": "middle"
         },
         {
          "font": {
           "color": "rgb(1,1,1)",
           "family": "Arial",
           "size": 12
          },
          "showarrow": false,
          "text": "Columbia University (Rank 6)",
          "x": 0.95,
          "xanchor": "left",
          "xref": "paper",
          "y": 6,
          "yanchor": "middle"
         },
         {
          "font": {
           "color": "rgb(1,1,1)",
           "family": "Arial",
           "size": 12
          },
          "showarrow": false,
          "text": "Cornell University (Rank 12)",
          "x": 0.05,
          "xanchor": "right",
          "xref": "paper",
          "y": 12,
          "yanchor": "middle"
         },
         {
          "font": {
           "color": "rgb(1,1,1)",
           "family": "Arial",
           "size": 12
          },
          "showarrow": false,
          "text": "Cornell University (Rank 10)",
          "x": 0.95,
          "xanchor": "left",
          "xref": "paper",
          "y": 10,
          "yanchor": "middle"
         },
         {
          "font": {
           "color": "rgb(1,1,1)",
           "family": "Arial",
           "size": 12
          },
          "showarrow": false,
          "text": "Harvard University (Rank 1)",
          "x": 0.05,
          "xanchor": "right",
          "xref": "paper",
          "y": 1,
          "yanchor": "middle"
         },
         {
          "font": {
           "color": "rgb(1,1,1)",
           "family": "Arial",
           "size": 12
          },
          "showarrow": false,
          "text": "Harvard University (Rank 1)",
          "x": 0.95,
          "xanchor": "left",
          "xref": "paper",
          "y": 1,
          "yanchor": "middle"
         },
         {
          "font": {
           "color": "rgb(1,1,1)",
           "family": "Arial",
           "size": 12
          },
          "showarrow": false,
          "text": "Massachusetts Institute of Technology (Rank 2)",
          "x": 0.05,
          "xanchor": "right",
          "xref": "paper",
          "y": 2,
          "yanchor": "middle"
         },
         {
          "font": {
           "color": "rgb(1,1,1)",
           "family": "Arial",
           "size": 12
          },
          "showarrow": false,
          "text": "Massachusetts Institute of Technology (Rank 3)",
          "x": 0.95,
          "xanchor": "left",
          "xref": "paper",
          "y": 3,
          "yanchor": "middle"
         },
         {
          "font": {
           "color": "rgb(1,1,1)",
           "family": "Arial",
           "size": 12
          },
          "showarrow": false,
          "text": "Princeton University (Rank 6)",
          "x": 0.05,
          "xanchor": "right",
          "xref": "paper",
          "y": 6,
          "yanchor": "middle"
         },
         {
          "font": {
           "color": "rgb(1,1,1)",
           "family": "Arial",
           "size": 12
          },
          "showarrow": false,
          "text": "Princeton University (Rank 9)",
          "x": 0.95,
          "xanchor": "left",
          "xref": "paper",
          "y": 9,
          "yanchor": "middle"
         },
         {
          "font": {
           "color": "rgb(1,1,1)",
           "family": "Arial",
           "size": 12
          },
          "showarrow": false,
          "text": "Stanford University (Rank 3)",
          "x": 0.05,
          "xanchor": "right",
          "xref": "paper",
          "y": 3,
          "yanchor": "middle"
         },
         {
          "font": {
           "color": "rgb(1,1,1)",
           "family": "Arial",
           "size": 12
          },
          "showarrow": false,
          "text": "Stanford University (Rank 2)",
          "x": 0.95,
          "xanchor": "left",
          "xref": "paper",
          "y": 2,
          "yanchor": "middle"
         },
         {
          "font": {
           "color": "rgb(1,1,1)",
           "family": "Arial",
           "size": 12
          },
          "showarrow": false,
          "text": "University of California, Berkeley (Rank 10)",
          "x": 0.05,
          "xanchor": "right",
          "xref": "paper",
          "y": 10,
          "yanchor": "middle"
         },
         {
          "font": {
           "color": "rgb(1,1,1)",
           "family": "Arial",
           "size": 12
          },
          "showarrow": false,
          "text": "University of California, Berkeley (Rank 7)",
          "x": 0.95,
          "xanchor": "left",
          "xref": "paper",
          "y": 7,
          "yanchor": "middle"
         },
         {
          "font": {
           "color": "rgb(1,1,1)",
           "family": "Arial",
           "size": 12
          },
          "showarrow": false,
          "text": "University of Cambridge (Rank 4)",
          "x": 0.05,
          "xanchor": "right",
          "xref": "paper",
          "y": 4,
          "yanchor": "middle"
         },
         {
          "font": {
           "color": "rgb(1,1,1)",
           "family": "Arial",
           "size": 12
          },
          "showarrow": false,
          "text": "University of Cambridge (Rank 4)",
          "x": 0.95,
          "xanchor": "left",
          "xref": "paper",
          "y": 4,
          "yanchor": "middle"
         },
         {
          "font": {
           "color": "rgb(1,1,1)",
           "family": "Arial",
           "size": 12
          },
          "showarrow": false,
          "text": "University of Chicago (Rank 11)",
          "x": 0.05,
          "xanchor": "right",
          "xref": "paper",
          "y": 11,
          "yanchor": "middle"
         },
         {
          "font": {
           "color": "rgb(1,1,1)",
           "family": "Arial",
           "size": 12
          },
          "showarrow": false,
          "text": "University of Chicago (Rank 8)",
          "x": 0.95,
          "xanchor": "left",
          "xref": "paper",
          "y": 8,
          "yanchor": "middle"
         },
         {
          "font": {
           "color": "rgb(1,1,1)",
           "family": "Arial",
           "size": 12
          },
          "showarrow": false,
          "text": "University of Oxford (Rank 7)",
          "x": 0.05,
          "xanchor": "right",
          "xref": "paper",
          "y": 7,
          "yanchor": "middle"
         },
         {
          "font": {
           "color": "rgb(1,1,1)",
           "family": "Arial",
           "size": 12
          },
          "showarrow": false,
          "text": "University of Oxford (Rank 5)",
          "x": 0.95,
          "xanchor": "left",
          "xref": "paper",
          "y": 5,
          "yanchor": "middle"
         },
         {
          "font": {
           "color": "rgb(37,37,37)",
           "family": "Arial",
           "size": 25
          },
          "showarrow": false,
          "text": "Top 10 university ranking (2015) trend",
          "x": 0.05,
          "xanchor": "left",
          "xref": "paper",
          "y": 1.05,
          "yanchor": "bottom",
          "yref": "paper"
         }
        ],
        "autosize": true,
        "margin": {
         "autoexpand": true,
         "l": 250,
         "r": 250,
         "t": 50
        },
        "plot_bgcolor": "white",
        "showlegend": false,
        "template": {
         "data": {
          "bar": [
           {
            "error_x": {
             "color": "#2a3f5f"
            },
            "error_y": {
             "color": "#2a3f5f"
            },
            "marker": {
             "line": {
              "color": "#E5ECF6",
              "width": 0.5
             }
            },
            "type": "bar"
           }
          ],
          "barpolar": [
           {
            "marker": {
             "line": {
              "color": "#E5ECF6",
              "width": 0.5
             }
            },
            "type": "barpolar"
           }
          ],
          "carpet": [
           {
            "aaxis": {
             "endlinecolor": "#2a3f5f",
             "gridcolor": "white",
             "linecolor": "white",
             "minorgridcolor": "white",
             "startlinecolor": "#2a3f5f"
            },
            "baxis": {
             "endlinecolor": "#2a3f5f",
             "gridcolor": "white",
             "linecolor": "white",
             "minorgridcolor": "white",
             "startlinecolor": "#2a3f5f"
            },
            "type": "carpet"
           }
          ],
          "choropleth": [
           {
            "colorbar": {
             "outlinewidth": 0,
             "ticks": ""
            },
            "type": "choropleth"
           }
          ],
          "contour": [
           {
            "colorbar": {
             "outlinewidth": 0,
             "ticks": ""
            },
            "colorscale": [
             [
              0,
              "#0d0887"
             ],
             [
              0.1111111111111111,
              "#46039f"
             ],
             [
              0.2222222222222222,
              "#7201a8"
             ],
             [
              0.3333333333333333,
              "#9c179e"
             ],
             [
              0.4444444444444444,
              "#bd3786"
             ],
             [
              0.5555555555555556,
              "#d8576b"
             ],
             [
              0.6666666666666666,
              "#ed7953"
             ],
             [
              0.7777777777777778,
              "#fb9f3a"
             ],
             [
              0.8888888888888888,
              "#fdca26"
             ],
             [
              1,
              "#f0f921"
             ]
            ],
            "type": "contour"
           }
          ],
          "contourcarpet": [
           {
            "colorbar": {
             "outlinewidth": 0,
             "ticks": ""
            },
            "type": "contourcarpet"
           }
          ],
          "heatmap": [
           {
            "colorbar": {
             "outlinewidth": 0,
             "ticks": ""
            },
            "colorscale": [
             [
              0,
              "#0d0887"
             ],
             [
              0.1111111111111111,
              "#46039f"
             ],
             [
              0.2222222222222222,
              "#7201a8"
             ],
             [
              0.3333333333333333,
              "#9c179e"
             ],
             [
              0.4444444444444444,
              "#bd3786"
             ],
             [
              0.5555555555555556,
              "#d8576b"
             ],
             [
              0.6666666666666666,
              "#ed7953"
             ],
             [
              0.7777777777777778,
              "#fb9f3a"
             ],
             [
              0.8888888888888888,
              "#fdca26"
             ],
             [
              1,
              "#f0f921"
             ]
            ],
            "type": "heatmap"
           }
          ],
          "heatmapgl": [
           {
            "colorbar": {
             "outlinewidth": 0,
             "ticks": ""
            },
            "colorscale": [
             [
              0,
              "#0d0887"
             ],
             [
              0.1111111111111111,
              "#46039f"
             ],
             [
              0.2222222222222222,
              "#7201a8"
             ],
             [
              0.3333333333333333,
              "#9c179e"
             ],
             [
              0.4444444444444444,
              "#bd3786"
             ],
             [
              0.5555555555555556,
              "#d8576b"
             ],
             [
              0.6666666666666666,
              "#ed7953"
             ],
             [
              0.7777777777777778,
              "#fb9f3a"
             ],
             [
              0.8888888888888888,
              "#fdca26"
             ],
             [
              1,
              "#f0f921"
             ]
            ],
            "type": "heatmapgl"
           }
          ],
          "histogram": [
           {
            "marker": {
             "colorbar": {
              "outlinewidth": 0,
              "ticks": ""
             }
            },
            "type": "histogram"
           }
          ],
          "histogram2d": [
           {
            "colorbar": {
             "outlinewidth": 0,
             "ticks": ""
            },
            "colorscale": [
             [
              0,
              "#0d0887"
             ],
             [
              0.1111111111111111,
              "#46039f"
             ],
             [
              0.2222222222222222,
              "#7201a8"
             ],
             [
              0.3333333333333333,
              "#9c179e"
             ],
             [
              0.4444444444444444,
              "#bd3786"
             ],
             [
              0.5555555555555556,
              "#d8576b"
             ],
             [
              0.6666666666666666,
              "#ed7953"
             ],
             [
              0.7777777777777778,
              "#fb9f3a"
             ],
             [
              0.8888888888888888,
              "#fdca26"
             ],
             [
              1,
              "#f0f921"
             ]
            ],
            "type": "histogram2d"
           }
          ],
          "histogram2dcontour": [
           {
            "colorbar": {
             "outlinewidth": 0,
             "ticks": ""
            },
            "colorscale": [
             [
              0,
              "#0d0887"
             ],
             [
              0.1111111111111111,
              "#46039f"
             ],
             [
              0.2222222222222222,
              "#7201a8"
             ],
             [
              0.3333333333333333,
              "#9c179e"
             ],
             [
              0.4444444444444444,
              "#bd3786"
             ],
             [
              0.5555555555555556,
              "#d8576b"
             ],
             [
              0.6666666666666666,
              "#ed7953"
             ],
             [
              0.7777777777777778,
              "#fb9f3a"
             ],
             [
              0.8888888888888888,
              "#fdca26"
             ],
             [
              1,
              "#f0f921"
             ]
            ],
            "type": "histogram2dcontour"
           }
          ],
          "mesh3d": [
           {
            "colorbar": {
             "outlinewidth": 0,
             "ticks": ""
            },
            "type": "mesh3d"
           }
          ],
          "parcoords": [
           {
            "line": {
             "colorbar": {
              "outlinewidth": 0,
              "ticks": ""
             }
            },
            "type": "parcoords"
           }
          ],
          "pie": [
           {
            "automargin": true,
            "type": "pie"
           }
          ],
          "scatter": [
           {
            "marker": {
             "colorbar": {
              "outlinewidth": 0,
              "ticks": ""
             }
            },
            "type": "scatter"
           }
          ],
          "scatter3d": [
           {
            "line": {
             "colorbar": {
              "outlinewidth": 0,
              "ticks": ""
             }
            },
            "marker": {
             "colorbar": {
              "outlinewidth": 0,
              "ticks": ""
             }
            },
            "type": "scatter3d"
           }
          ],
          "scattercarpet": [
           {
            "marker": {
             "colorbar": {
              "outlinewidth": 0,
              "ticks": ""
             }
            },
            "type": "scattercarpet"
           }
          ],
          "scattergeo": [
           {
            "marker": {
             "colorbar": {
              "outlinewidth": 0,
              "ticks": ""
             }
            },
            "type": "scattergeo"
           }
          ],
          "scattergl": [
           {
            "marker": {
             "colorbar": {
              "outlinewidth": 0,
              "ticks": ""
             }
            },
            "type": "scattergl"
           }
          ],
          "scattermapbox": [
           {
            "marker": {
             "colorbar": {
              "outlinewidth": 0,
              "ticks": ""
             }
            },
            "type": "scattermapbox"
           }
          ],
          "scatterpolar": [
           {
            "marker": {
             "colorbar": {
              "outlinewidth": 0,
              "ticks": ""
             }
            },
            "type": "scatterpolar"
           }
          ],
          "scatterpolargl": [
           {
            "marker": {
             "colorbar": {
              "outlinewidth": 0,
              "ticks": ""
             }
            },
            "type": "scatterpolargl"
           }
          ],
          "scatterternary": [
           {
            "marker": {
             "colorbar": {
              "outlinewidth": 0,
              "ticks": ""
             }
            },
            "type": "scatterternary"
           }
          ],
          "surface": [
           {
            "colorbar": {
             "outlinewidth": 0,
             "ticks": ""
            },
            "colorscale": [
             [
              0,
              "#0d0887"
             ],
             [
              0.1111111111111111,
              "#46039f"
             ],
             [
              0.2222222222222222,
              "#7201a8"
             ],
             [
              0.3333333333333333,
              "#9c179e"
             ],
             [
              0.4444444444444444,
              "#bd3786"
             ],
             [
              0.5555555555555556,
              "#d8576b"
             ],
             [
              0.6666666666666666,
              "#ed7953"
             ],
             [
              0.7777777777777778,
              "#fb9f3a"
             ],
             [
              0.8888888888888888,
              "#fdca26"
             ],
             [
              1,
              "#f0f921"
             ]
            ],
            "type": "surface"
           }
          ],
          "table": [
           {
            "cells": {
             "fill": {
              "color": "#EBF0F8"
             },
             "line": {
              "color": "white"
             }
            },
            "header": {
             "fill": {
              "color": "#C8D4E3"
             },
             "line": {
              "color": "white"
             }
            },
            "type": "table"
           }
          ]
         },
         "layout": {
          "annotationdefaults": {
           "arrowcolor": "#2a3f5f",
           "arrowhead": 0,
           "arrowwidth": 1
          },
          "coloraxis": {
           "colorbar": {
            "outlinewidth": 0,
            "ticks": ""
           }
          },
          "colorscale": {
           "diverging": [
            [
             0,
             "#8e0152"
            ],
            [
             0.1,
             "#c51b7d"
            ],
            [
             0.2,
             "#de77ae"
            ],
            [
             0.3,
             "#f1b6da"
            ],
            [
             0.4,
             "#fde0ef"
            ],
            [
             0.5,
             "#f7f7f7"
            ],
            [
             0.6,
             "#e6f5d0"
            ],
            [
             0.7,
             "#b8e186"
            ],
            [
             0.8,
             "#7fbc41"
            ],
            [
             0.9,
             "#4d9221"
            ],
            [
             1,
             "#276419"
            ]
           ],
           "sequential": [
            [
             0,
             "#0d0887"
            ],
            [
             0.1111111111111111,
             "#46039f"
            ],
            [
             0.2222222222222222,
             "#7201a8"
            ],
            [
             0.3333333333333333,
             "#9c179e"
            ],
            [
             0.4444444444444444,
             "#bd3786"
            ],
            [
             0.5555555555555556,
             "#d8576b"
            ],
            [
             0.6666666666666666,
             "#ed7953"
            ],
            [
             0.7777777777777778,
             "#fb9f3a"
            ],
            [
             0.8888888888888888,
             "#fdca26"
            ],
            [
             1,
             "#f0f921"
            ]
           ],
           "sequentialminus": [
            [
             0,
             "#0d0887"
            ],
            [
             0.1111111111111111,
             "#46039f"
            ],
            [
             0.2222222222222222,
             "#7201a8"
            ],
            [
             0.3333333333333333,
             "#9c179e"
            ],
            [
             0.4444444444444444,
             "#bd3786"
            ],
            [
             0.5555555555555556,
             "#d8576b"
            ],
            [
             0.6666666666666666,
             "#ed7953"
            ],
            [
             0.7777777777777778,
             "#fb9f3a"
            ],
            [
             0.8888888888888888,
             "#fdca26"
            ],
            [
             1,
             "#f0f921"
            ]
           ]
          },
          "colorway": [
           "#636efa",
           "#EF553B",
           "#00cc96",
           "#ab63fa",
           "#FFA15A",
           "#19d3f3",
           "#FF6692",
           "#B6E880",
           "#FF97FF",
           "#FECB52"
          ],
          "font": {
           "color": "#2a3f5f"
          },
          "geo": {
           "bgcolor": "white",
           "lakecolor": "white",
           "landcolor": "#E5ECF6",
           "showlakes": true,
           "showland": true,
           "subunitcolor": "white"
          },
          "hoverlabel": {
           "align": "left"
          },
          "hovermode": "closest",
          "mapbox": {
           "style": "light"
          },
          "paper_bgcolor": "white",
          "plot_bgcolor": "#E5ECF6",
          "polar": {
           "angularaxis": {
            "gridcolor": "white",
            "linecolor": "white",
            "ticks": ""
           },
           "bgcolor": "#E5ECF6",
           "radialaxis": {
            "gridcolor": "white",
            "linecolor": "white",
            "ticks": ""
           }
          },
          "scene": {
           "xaxis": {
            "backgroundcolor": "#E5ECF6",
            "gridcolor": "white",
            "gridwidth": 2,
            "linecolor": "white",
            "showbackground": true,
            "ticks": "",
            "zerolinecolor": "white"
           },
           "yaxis": {
            "backgroundcolor": "#E5ECF6",
            "gridcolor": "white",
            "gridwidth": 2,
            "linecolor": "white",
            "showbackground": true,
            "ticks": "",
            "zerolinecolor": "white"
           },
           "zaxis": {
            "backgroundcolor": "#E5ECF6",
            "gridcolor": "white",
            "gridwidth": 2,
            "linecolor": "white",
            "showbackground": true,
            "ticks": "",
            "zerolinecolor": "white"
           }
          },
          "shapedefaults": {
           "line": {
            "color": "#2a3f5f"
           }
          },
          "ternary": {
           "aaxis": {
            "gridcolor": "white",
            "linecolor": "white",
            "ticks": ""
           },
           "baxis": {
            "gridcolor": "white",
            "linecolor": "white",
            "ticks": ""
           },
           "bgcolor": "#E5ECF6",
           "caxis": {
            "gridcolor": "white",
            "linecolor": "white",
            "ticks": ""
           }
          },
          "title": {
           "x": 0.05
          },
          "xaxis": {
           "automargin": true,
           "gridcolor": "white",
           "linecolor": "white",
           "ticks": "",
           "title": {
            "standoff": 15
           },
           "zerolinecolor": "white",
           "zerolinewidth": 2
          },
          "yaxis": {
           "automargin": true,
           "gridcolor": "white",
           "linecolor": "white",
           "ticks": "",
           "title": {
            "standoff": 15
           },
           "zerolinecolor": "white",
           "zerolinewidth": 2
          }
         }
        },
        "xaxis": {
         "constrain": "domain",
         "dtick": 1,
         "linecolor": "rgb(204, 204, 204)",
         "linewidth": 2,
         "showgrid": false,
         "showline": true,
         "showticklabels": true,
         "tickfont": {
          "color": "rgb(0,0,0)",
          "family": "Arial",
          "size": 12
         },
         "ticks": "outside"
        },
        "yaxis": {
         "automargin": true,
         "autorange": "reversed",
         "showgrid": false,
         "showline": false,
         "showticklabels": false,
         "zeroline": false
        }
       }
      },
      "text/html": [
       "<div>\n",
       "        \n",
       "        \n",
       "            <div id=\"849375b8-9f46-4f66-880e-af041a28c402\" class=\"plotly-graph-div\" style=\"height:525px; width:100%;\"></div>\n",
       "            <script type=\"text/javascript\">\n",
       "                require([\"plotly\"], function(Plotly) {\n",
       "                    window.PLOTLYENV=window.PLOTLYENV || {};\n",
       "                    \n",
       "                if (document.getElementById(\"849375b8-9f46-4f66-880e-af041a28c402\")) {\n",
       "                    Plotly.newPlot(\n",
       "                        '849375b8-9f46-4f66-880e-af041a28c402',\n",
       "                        [{\"connectgaps\": true, \"line\": {\"color\": \"rgb(0,255,0)\", \"width\": 2}, \"marker\": {\"color\": \"rgb(0,255,0)\", \"size\": 2}, \"mode\": \"lines\", \"name\": \"Columbia University\", \"type\": \"scatter\", \"x\": [2012, 2013, 2014, 2015], \"y\": [9, 6, 6, 6]}, {\"connectgaps\": true, \"line\": {\"color\": \"rgb(0,0,255)\", \"width\": 2}, \"marker\": {\"color\": \"rgb(0,0,255)\", \"size\": 2}, \"mode\": \"lines\", \"name\": \"Cornell University\", \"type\": \"scatter\", \"x\": [2012, 2013, 2014, 2015], \"y\": [12, 13, 11, 10]}, {\"connectgaps\": true, \"line\": {\"color\": \"rgb(192,192,192)\", \"width\": 2}, \"marker\": {\"color\": \"rgb(192,192,192)\", \"size\": 2}, \"mode\": \"lines\", \"name\": \"Harvard University\", \"type\": \"scatter\", \"x\": [2012, 2013, 2014, 2015], \"y\": [1, 1, 1, 1]}, {\"connectgaps\": true, \"line\": {\"color\": \"rgb(255,0,255)\", \"width\": 2}, \"marker\": {\"color\": \"rgb(255,0,255)\", \"size\": 2}, \"mode\": \"lines\", \"name\": \"Massachusetts Institute of Technology\", \"type\": \"scatter\", \"x\": [2012, 2013, 2014, 2015], \"y\": [2, 4, 3, 3]}, {\"connectgaps\": true, \"line\": {\"color\": \"rgb(255,0,0)\", \"width\": 2}, \"marker\": {\"color\": \"rgb(255,0,0)\", \"size\": 2}, \"mode\": \"lines\", \"name\": \"Princeton University\", \"type\": \"scatter\", \"x\": [2012, 2013, 2014, 2015], \"y\": [6, 8, 9, 9]}, {\"connectgaps\": true, \"line\": {\"color\": \"rgb(255,215,0)\", \"width\": 2}, \"marker\": {\"color\": \"rgb(255,215,0)\", \"size\": 2}, \"mode\": \"lines\", \"name\": \"Stanford University\", \"type\": \"scatter\", \"x\": [2012, 2013, 2014, 2015], \"y\": [3, 2, 2, 2]}, {\"connectgaps\": true, \"line\": {\"color\": \"rgb(0,100,0)\", \"width\": 2}, \"marker\": {\"color\": \"rgb(0,100,0)\", \"size\": 2}, \"mode\": \"lines\", \"name\": \"University of California, Berkeley\", \"type\": \"scatter\", \"x\": [2012, 2013, 2014, 2015], \"y\": [10, 7, 7, 7]}, {\"connectgaps\": true, \"line\": {\"color\": \"rgb(0,0,0)\", \"width\": 2}, \"marker\": {\"color\": \"rgb(0,0,0)\", \"size\": 2}, \"mode\": \"lines\", \"name\": \"University of Cambridge\", \"type\": \"scatter\", \"x\": [2012, 2013, 2014, 2015], \"y\": [4, 5, 4, 4]}, {\"connectgaps\": true, \"line\": {\"color\": \"rgb(255,140,0)\", \"width\": 2}, \"marker\": {\"color\": \"rgb(255,140,0)\", \"size\": 2}, \"mode\": \"lines\", \"name\": \"University of Chicago\", \"type\": \"scatter\", \"x\": [2012, 2013, 2014, 2015], \"y\": [11, 9, 8, 8]}, {\"connectgaps\": true, \"line\": {\"color\": \"rgb(0,0,128)\", \"width\": 2}, \"marker\": {\"color\": \"rgb(0,0,128)\", \"size\": 2}, \"mode\": \"lines\", \"name\": \"University of Oxford\", \"type\": \"scatter\", \"x\": [2012, 2013, 2014, 2015], \"y\": [7, 3, 5, 5]}, {\"connectgaps\": true, \"marker\": {\"color\": \"rgb(0,255,0)\", \"size\": 12}, \"mode\": \"markers\", \"name\": \"Columbia University\", \"type\": \"scatter\", \"x\": [2012, 2013, 2014, 2015], \"y\": [9, 6, 6, 6]}, {\"connectgaps\": true, \"marker\": {\"color\": \"rgb(0,0,255)\", \"size\": 8}, \"mode\": \"markers\", \"name\": \"Cornell University\", \"type\": \"scatter\", \"x\": [2012, 2013, 2014, 2015], \"y\": [12, 13, 11, 10]}, {\"connectgaps\": true, \"marker\": {\"color\": \"rgb(192,192,192)\", \"size\": 8}, \"mode\": \"markers\", \"name\": \"Harvard University\", \"type\": \"scatter\", \"x\": [2012, 2013, 2014, 2015], \"y\": [1, 1, 1, 1]}, {\"connectgaps\": true, \"marker\": {\"color\": \"rgb(255,0,255)\", \"size\": 8}, \"mode\": \"markers\", \"name\": \"Massachusetts Institute of Technology\", \"type\": \"scatter\", \"x\": [2012, 2013, 2014, 2015], \"y\": [2, 4, 3, 3]}, {\"connectgaps\": true, \"marker\": {\"color\": \"rgb(255,0,0)\", \"size\": 12}, \"mode\": \"markers\", \"name\": \"Princeton University\", \"type\": \"scatter\", \"x\": [2012, 2013, 2014, 2015], \"y\": [6, 8, 9, 9]}, {\"connectgaps\": true, \"marker\": {\"color\": \"rgb(255,215,0)\", \"size\": 8}, \"mode\": \"markers\", \"name\": \"Stanford University\", \"type\": \"scatter\", \"x\": [2012, 2013, 2014, 2015], \"y\": [3, 2, 2, 2]}, {\"connectgaps\": true, \"marker\": {\"color\": \"rgb(0,100,0)\", \"size\": 12}, \"mode\": \"markers\", \"name\": \"University of California, Berkeley\", \"type\": \"scatter\", \"x\": [2012, 2013, 2014, 2015], \"y\": [10, 7, 7, 7]}, {\"connectgaps\": true, \"marker\": {\"color\": \"rgb(0,0,0)\", \"size\": 8}, \"mode\": \"markers\", \"name\": \"University of Cambridge\", \"type\": \"scatter\", \"x\": [2012, 2013, 2014, 2015], \"y\": [4, 5, 4, 4]}, {\"connectgaps\": true, \"marker\": {\"color\": \"rgb(255,140,0)\", \"size\": 12}, \"mode\": \"markers\", \"name\": \"University of Chicago\", \"type\": \"scatter\", \"x\": [2012, 2013, 2014, 2015], \"y\": [11, 9, 8, 8]}, {\"connectgaps\": true, \"marker\": {\"color\": \"rgb(0,0,128)\", \"size\": 8}, \"mode\": \"markers\", \"name\": \"University of Oxford\", \"type\": \"scatter\", \"x\": [2012, 2013, 2014, 2015], \"y\": [7, 3, 5, 5]}],\n",
       "                        {\"annotations\": [{\"font\": {\"color\": \"rgb(1,1,1)\", \"family\": \"Arial\", \"size\": 12}, \"showarrow\": false, \"text\": \"Columbia University (Rank 9)\", \"x\": 0.05, \"xanchor\": \"right\", \"xref\": \"paper\", \"y\": 9, \"yanchor\": \"middle\"}, {\"font\": {\"color\": \"rgb(1,1,1)\", \"family\": \"Arial\", \"size\": 12}, \"showarrow\": false, \"text\": \"Columbia University (Rank 6)\", \"x\": 0.95, \"xanchor\": \"left\", \"xref\": \"paper\", \"y\": 6, \"yanchor\": \"middle\"}, {\"font\": {\"color\": \"rgb(1,1,1)\", \"family\": \"Arial\", \"size\": 12}, \"showarrow\": false, \"text\": \"Cornell University (Rank 12)\", \"x\": 0.05, \"xanchor\": \"right\", \"xref\": \"paper\", \"y\": 12, \"yanchor\": \"middle\"}, {\"font\": {\"color\": \"rgb(1,1,1)\", \"family\": \"Arial\", \"size\": 12}, \"showarrow\": false, \"text\": \"Cornell University (Rank 10)\", \"x\": 0.95, \"xanchor\": \"left\", \"xref\": \"paper\", \"y\": 10, \"yanchor\": \"middle\"}, {\"font\": {\"color\": \"rgb(1,1,1)\", \"family\": \"Arial\", \"size\": 12}, \"showarrow\": false, \"text\": \"Harvard University (Rank 1)\", \"x\": 0.05, \"xanchor\": \"right\", \"xref\": \"paper\", \"y\": 1, \"yanchor\": \"middle\"}, {\"font\": {\"color\": \"rgb(1,1,1)\", \"family\": \"Arial\", \"size\": 12}, \"showarrow\": false, \"text\": \"Harvard University (Rank 1)\", \"x\": 0.95, \"xanchor\": \"left\", \"xref\": \"paper\", \"y\": 1, \"yanchor\": \"middle\"}, {\"font\": {\"color\": \"rgb(1,1,1)\", \"family\": \"Arial\", \"size\": 12}, \"showarrow\": false, \"text\": \"Massachusetts Institute of Technology (Rank 2)\", \"x\": 0.05, \"xanchor\": \"right\", \"xref\": \"paper\", \"y\": 2, \"yanchor\": \"middle\"}, {\"font\": {\"color\": \"rgb(1,1,1)\", \"family\": \"Arial\", \"size\": 12}, \"showarrow\": false, \"text\": \"Massachusetts Institute of Technology (Rank 3)\", \"x\": 0.95, \"xanchor\": \"left\", \"xref\": \"paper\", \"y\": 3, \"yanchor\": \"middle\"}, {\"font\": {\"color\": \"rgb(1,1,1)\", \"family\": \"Arial\", \"size\": 12}, \"showarrow\": false, \"text\": \"Princeton University (Rank 6)\", \"x\": 0.05, \"xanchor\": \"right\", \"xref\": \"paper\", \"y\": 6, \"yanchor\": \"middle\"}, {\"font\": {\"color\": \"rgb(1,1,1)\", \"family\": \"Arial\", \"size\": 12}, \"showarrow\": false, \"text\": \"Princeton University (Rank 9)\", \"x\": 0.95, \"xanchor\": \"left\", \"xref\": \"paper\", \"y\": 9, \"yanchor\": \"middle\"}, {\"font\": {\"color\": \"rgb(1,1,1)\", \"family\": \"Arial\", \"size\": 12}, \"showarrow\": false, \"text\": \"Stanford University (Rank 3)\", \"x\": 0.05, \"xanchor\": \"right\", \"xref\": \"paper\", \"y\": 3, \"yanchor\": \"middle\"}, {\"font\": {\"color\": \"rgb(1,1,1)\", \"family\": \"Arial\", \"size\": 12}, \"showarrow\": false, \"text\": \"Stanford University (Rank 2)\", \"x\": 0.95, \"xanchor\": \"left\", \"xref\": \"paper\", \"y\": 2, \"yanchor\": \"middle\"}, {\"font\": {\"color\": \"rgb(1,1,1)\", \"family\": \"Arial\", \"size\": 12}, \"showarrow\": false, \"text\": \"University of California, Berkeley (Rank 10)\", \"x\": 0.05, \"xanchor\": \"right\", \"xref\": \"paper\", \"y\": 10, \"yanchor\": \"middle\"}, {\"font\": {\"color\": \"rgb(1,1,1)\", \"family\": \"Arial\", \"size\": 12}, \"showarrow\": false, \"text\": \"University of California, Berkeley (Rank 7)\", \"x\": 0.95, \"xanchor\": \"left\", \"xref\": \"paper\", \"y\": 7, \"yanchor\": \"middle\"}, {\"font\": {\"color\": \"rgb(1,1,1)\", \"family\": \"Arial\", \"size\": 12}, \"showarrow\": false, \"text\": \"University of Cambridge (Rank 4)\", \"x\": 0.05, \"xanchor\": \"right\", \"xref\": \"paper\", \"y\": 4, \"yanchor\": \"middle\"}, {\"font\": {\"color\": \"rgb(1,1,1)\", \"family\": \"Arial\", \"size\": 12}, \"showarrow\": false, \"text\": \"University of Cambridge (Rank 4)\", \"x\": 0.95, \"xanchor\": \"left\", \"xref\": \"paper\", \"y\": 4, \"yanchor\": \"middle\"}, {\"font\": {\"color\": \"rgb(1,1,1)\", \"family\": \"Arial\", \"size\": 12}, \"showarrow\": false, \"text\": \"University of Chicago (Rank 11)\", \"x\": 0.05, \"xanchor\": \"right\", \"xref\": \"paper\", \"y\": 11, \"yanchor\": \"middle\"}, {\"font\": {\"color\": \"rgb(1,1,1)\", \"family\": \"Arial\", \"size\": 12}, \"showarrow\": false, \"text\": \"University of Chicago (Rank 8)\", \"x\": 0.95, \"xanchor\": \"left\", \"xref\": \"paper\", \"y\": 8, \"yanchor\": \"middle\"}, {\"font\": {\"color\": \"rgb(1,1,1)\", \"family\": \"Arial\", \"size\": 12}, \"showarrow\": false, \"text\": \"University of Oxford (Rank 7)\", \"x\": 0.05, \"xanchor\": \"right\", \"xref\": \"paper\", \"y\": 7, \"yanchor\": \"middle\"}, {\"font\": {\"color\": \"rgb(1,1,1)\", \"family\": \"Arial\", \"size\": 12}, \"showarrow\": false, \"text\": \"University of Oxford (Rank 5)\", \"x\": 0.95, \"xanchor\": \"left\", \"xref\": \"paper\", \"y\": 5, \"yanchor\": \"middle\"}, {\"font\": {\"color\": \"rgb(37,37,37)\", \"family\": \"Arial\", \"size\": 25}, \"showarrow\": false, \"text\": \"Top 10 university ranking (2015) trend\", \"x\": 0.05, \"xanchor\": \"left\", \"xref\": \"paper\", \"y\": 1.05, \"yanchor\": \"bottom\", \"yref\": \"paper\"}], \"autosize\": true, \"margin\": {\"autoexpand\": true, \"l\": 250, \"r\": 250, \"t\": 50}, \"plot_bgcolor\": \"white\", \"showlegend\": false, \"template\": {\"data\": {\"bar\": [{\"error_x\": {\"color\": \"#2a3f5f\"}, \"error_y\": {\"color\": \"#2a3f5f\"}, \"marker\": {\"line\": {\"color\": \"#E5ECF6\", \"width\": 0.5}}, \"type\": \"bar\"}], \"barpolar\": [{\"marker\": {\"line\": {\"color\": \"#E5ECF6\", \"width\": 0.5}}, \"type\": \"barpolar\"}], \"carpet\": [{\"aaxis\": {\"endlinecolor\": \"#2a3f5f\", \"gridcolor\": \"white\", \"linecolor\": \"white\", \"minorgridcolor\": \"white\", \"startlinecolor\": \"#2a3f5f\"}, \"baxis\": {\"endlinecolor\": \"#2a3f5f\", \"gridcolor\": \"white\", \"linecolor\": \"white\", \"minorgridcolor\": \"white\", \"startlinecolor\": \"#2a3f5f\"}, \"type\": \"carpet\"}], \"choropleth\": [{\"colorbar\": {\"outlinewidth\": 0, \"ticks\": \"\"}, \"type\": \"choropleth\"}], \"contour\": [{\"colorbar\": {\"outlinewidth\": 0, \"ticks\": \"\"}, \"colorscale\": [[0.0, \"#0d0887\"], [0.1111111111111111, \"#46039f\"], [0.2222222222222222, \"#7201a8\"], [0.3333333333333333, \"#9c179e\"], [0.4444444444444444, \"#bd3786\"], [0.5555555555555556, \"#d8576b\"], [0.6666666666666666, \"#ed7953\"], [0.7777777777777778, \"#fb9f3a\"], [0.8888888888888888, \"#fdca26\"], [1.0, \"#f0f921\"]], \"type\": \"contour\"}], \"contourcarpet\": [{\"colorbar\": {\"outlinewidth\": 0, \"ticks\": \"\"}, \"type\": \"contourcarpet\"}], \"heatmap\": [{\"colorbar\": {\"outlinewidth\": 0, \"ticks\": \"\"}, \"colorscale\": [[0.0, \"#0d0887\"], [0.1111111111111111, \"#46039f\"], [0.2222222222222222, \"#7201a8\"], [0.3333333333333333, \"#9c179e\"], [0.4444444444444444, \"#bd3786\"], [0.5555555555555556, \"#d8576b\"], [0.6666666666666666, \"#ed7953\"], [0.7777777777777778, \"#fb9f3a\"], [0.8888888888888888, \"#fdca26\"], [1.0, \"#f0f921\"]], \"type\": \"heatmap\"}], \"heatmapgl\": [{\"colorbar\": {\"outlinewidth\": 0, \"ticks\": \"\"}, \"colorscale\": [[0.0, \"#0d0887\"], [0.1111111111111111, \"#46039f\"], [0.2222222222222222, \"#7201a8\"], [0.3333333333333333, \"#9c179e\"], [0.4444444444444444, \"#bd3786\"], [0.5555555555555556, \"#d8576b\"], [0.6666666666666666, \"#ed7953\"], [0.7777777777777778, \"#fb9f3a\"], [0.8888888888888888, \"#fdca26\"], [1.0, \"#f0f921\"]], \"type\": \"heatmapgl\"}], \"histogram\": [{\"marker\": {\"colorbar\": {\"outlinewidth\": 0, \"ticks\": \"\"}}, \"type\": \"histogram\"}], \"histogram2d\": [{\"colorbar\": {\"outlinewidth\": 0, \"ticks\": \"\"}, \"colorscale\": [[0.0, \"#0d0887\"], [0.1111111111111111, \"#46039f\"], [0.2222222222222222, \"#7201a8\"], [0.3333333333333333, \"#9c179e\"], [0.4444444444444444, \"#bd3786\"], [0.5555555555555556, \"#d8576b\"], [0.6666666666666666, \"#ed7953\"], [0.7777777777777778, \"#fb9f3a\"], [0.8888888888888888, \"#fdca26\"], [1.0, \"#f0f921\"]], \"type\": \"histogram2d\"}], \"histogram2dcontour\": [{\"colorbar\": {\"outlinewidth\": 0, \"ticks\": \"\"}, \"colorscale\": [[0.0, \"#0d0887\"], [0.1111111111111111, \"#46039f\"], [0.2222222222222222, \"#7201a8\"], [0.3333333333333333, \"#9c179e\"], [0.4444444444444444, \"#bd3786\"], [0.5555555555555556, \"#d8576b\"], [0.6666666666666666, \"#ed7953\"], [0.7777777777777778, \"#fb9f3a\"], [0.8888888888888888, \"#fdca26\"], [1.0, \"#f0f921\"]], \"type\": \"histogram2dcontour\"}], \"mesh3d\": [{\"colorbar\": {\"outlinewidth\": 0, \"ticks\": \"\"}, \"type\": \"mesh3d\"}], \"parcoords\": [{\"line\": {\"colorbar\": {\"outlinewidth\": 0, \"ticks\": \"\"}}, \"type\": \"parcoords\"}], \"pie\": [{\"automargin\": true, \"type\": \"pie\"}], \"scatter\": [{\"marker\": {\"colorbar\": {\"outlinewidth\": 0, \"ticks\": \"\"}}, \"type\": \"scatter\"}], \"scatter3d\": [{\"line\": {\"colorbar\": {\"outlinewidth\": 0, \"ticks\": \"\"}}, \"marker\": {\"colorbar\": {\"outlinewidth\": 0, \"ticks\": \"\"}}, \"type\": \"scatter3d\"}], \"scattercarpet\": [{\"marker\": {\"colorbar\": {\"outlinewidth\": 0, \"ticks\": \"\"}}, \"type\": \"scattercarpet\"}], \"scattergeo\": [{\"marker\": {\"colorbar\": {\"outlinewidth\": 0, \"ticks\": \"\"}}, \"type\": \"scattergeo\"}], \"scattergl\": [{\"marker\": {\"colorbar\": {\"outlinewidth\": 0, \"ticks\": \"\"}}, \"type\": \"scattergl\"}], \"scattermapbox\": [{\"marker\": {\"colorbar\": {\"outlinewidth\": 0, \"ticks\": \"\"}}, \"type\": \"scattermapbox\"}], \"scatterpolar\": [{\"marker\": {\"colorbar\": {\"outlinewidth\": 0, \"ticks\": \"\"}}, \"type\": \"scatterpolar\"}], \"scatterpolargl\": [{\"marker\": {\"colorbar\": {\"outlinewidth\": 0, \"ticks\": \"\"}}, \"type\": \"scatterpolargl\"}], \"scatterternary\": [{\"marker\": {\"colorbar\": {\"outlinewidth\": 0, \"ticks\": \"\"}}, \"type\": \"scatterternary\"}], \"surface\": [{\"colorbar\": {\"outlinewidth\": 0, \"ticks\": \"\"}, \"colorscale\": [[0.0, \"#0d0887\"], [0.1111111111111111, \"#46039f\"], [0.2222222222222222, \"#7201a8\"], [0.3333333333333333, \"#9c179e\"], [0.4444444444444444, \"#bd3786\"], [0.5555555555555556, \"#d8576b\"], [0.6666666666666666, \"#ed7953\"], [0.7777777777777778, \"#fb9f3a\"], [0.8888888888888888, \"#fdca26\"], [1.0, \"#f0f921\"]], \"type\": \"surface\"}], \"table\": [{\"cells\": {\"fill\": {\"color\": \"#EBF0F8\"}, \"line\": {\"color\": \"white\"}}, \"header\": {\"fill\": {\"color\": \"#C8D4E3\"}, \"line\": {\"color\": \"white\"}}, \"type\": \"table\"}]}, \"layout\": {\"annotationdefaults\": {\"arrowcolor\": \"#2a3f5f\", \"arrowhead\": 0, \"arrowwidth\": 1}, \"coloraxis\": {\"colorbar\": {\"outlinewidth\": 0, \"ticks\": \"\"}}, \"colorscale\": {\"diverging\": [[0, \"#8e0152\"], [0.1, \"#c51b7d\"], [0.2, \"#de77ae\"], [0.3, \"#f1b6da\"], [0.4, \"#fde0ef\"], [0.5, \"#f7f7f7\"], [0.6, \"#e6f5d0\"], [0.7, \"#b8e186\"], [0.8, \"#7fbc41\"], [0.9, \"#4d9221\"], [1, \"#276419\"]], \"sequential\": [[0.0, \"#0d0887\"], [0.1111111111111111, \"#46039f\"], [0.2222222222222222, \"#7201a8\"], [0.3333333333333333, \"#9c179e\"], [0.4444444444444444, \"#bd3786\"], [0.5555555555555556, \"#d8576b\"], [0.6666666666666666, \"#ed7953\"], [0.7777777777777778, \"#fb9f3a\"], [0.8888888888888888, \"#fdca26\"], [1.0, \"#f0f921\"]], \"sequentialminus\": [[0.0, \"#0d0887\"], [0.1111111111111111, \"#46039f\"], [0.2222222222222222, \"#7201a8\"], [0.3333333333333333, \"#9c179e\"], [0.4444444444444444, \"#bd3786\"], [0.5555555555555556, \"#d8576b\"], [0.6666666666666666, \"#ed7953\"], [0.7777777777777778, \"#fb9f3a\"], [0.8888888888888888, \"#fdca26\"], [1.0, \"#f0f921\"]]}, \"colorway\": [\"#636efa\", \"#EF553B\", \"#00cc96\", \"#ab63fa\", \"#FFA15A\", \"#19d3f3\", \"#FF6692\", \"#B6E880\", \"#FF97FF\", \"#FECB52\"], \"font\": {\"color\": \"#2a3f5f\"}, \"geo\": {\"bgcolor\": \"white\", \"lakecolor\": \"white\", \"landcolor\": \"#E5ECF6\", \"showlakes\": true, \"showland\": true, \"subunitcolor\": \"white\"}, \"hoverlabel\": {\"align\": \"left\"}, \"hovermode\": \"closest\", \"mapbox\": {\"style\": \"light\"}, \"paper_bgcolor\": \"white\", \"plot_bgcolor\": \"#E5ECF6\", \"polar\": {\"angularaxis\": {\"gridcolor\": \"white\", \"linecolor\": \"white\", \"ticks\": \"\"}, \"bgcolor\": \"#E5ECF6\", \"radialaxis\": {\"gridcolor\": \"white\", \"linecolor\": \"white\", \"ticks\": \"\"}}, \"scene\": {\"xaxis\": {\"backgroundcolor\": \"#E5ECF6\", \"gridcolor\": \"white\", \"gridwidth\": 2, \"linecolor\": \"white\", \"showbackground\": true, \"ticks\": \"\", \"zerolinecolor\": \"white\"}, \"yaxis\": {\"backgroundcolor\": \"#E5ECF6\", \"gridcolor\": \"white\", \"gridwidth\": 2, \"linecolor\": \"white\", \"showbackground\": true, \"ticks\": \"\", \"zerolinecolor\": \"white\"}, \"zaxis\": {\"backgroundcolor\": \"#E5ECF6\", \"gridcolor\": \"white\", \"gridwidth\": 2, \"linecolor\": \"white\", \"showbackground\": true, \"ticks\": \"\", \"zerolinecolor\": \"white\"}}, \"shapedefaults\": {\"line\": {\"color\": \"#2a3f5f\"}}, \"ternary\": {\"aaxis\": {\"gridcolor\": \"white\", \"linecolor\": \"white\", \"ticks\": \"\"}, \"baxis\": {\"gridcolor\": \"white\", \"linecolor\": \"white\", \"ticks\": \"\"}, \"bgcolor\": \"#E5ECF6\", \"caxis\": {\"gridcolor\": \"white\", \"linecolor\": \"white\", \"ticks\": \"\"}}, \"title\": {\"x\": 0.05}, \"xaxis\": {\"automargin\": true, \"gridcolor\": \"white\", \"linecolor\": \"white\", \"ticks\": \"\", \"title\": {\"standoff\": 15}, \"zerolinecolor\": \"white\", \"zerolinewidth\": 2}, \"yaxis\": {\"automargin\": true, \"gridcolor\": \"white\", \"linecolor\": \"white\", \"ticks\": \"\", \"title\": {\"standoff\": 15}, \"zerolinecolor\": \"white\", \"zerolinewidth\": 2}}}, \"xaxis\": {\"constrain\": \"domain\", \"dtick\": 1, \"linecolor\": \"rgb(204, 204, 204)\", \"linewidth\": 2, \"showgrid\": false, \"showline\": true, \"showticklabels\": true, \"tickfont\": {\"color\": \"rgb(0,0,0)\", \"family\": \"Arial\", \"size\": 12}, \"ticks\": \"outside\"}, \"yaxis\": {\"automargin\": true, \"autorange\": \"reversed\", \"showgrid\": false, \"showline\": false, \"showticklabels\": false, \"zeroline\": false}},\n",
       "                        {\"responsive\": true}\n",
       "                    ).then(function(){\n",
       "                            \n",
       "var gd = document.getElementById('849375b8-9f46-4f66-880e-af041a28c402');\n",
       "var x = new MutationObserver(function (mutations, observer) {{\n",
       "        var display = window.getComputedStyle(gd).display;\n",
       "        if (!display || display === 'none') {{\n",
       "            console.log([gd, 'removed!']);\n",
       "            Plotly.purge(gd);\n",
       "            observer.disconnect();\n",
       "        }}\n",
       "}});\n",
       "\n",
       "// Listen for the removal of the full notebook cells\n",
       "var notebookContainer = gd.closest('#notebook-container');\n",
       "if (notebookContainer) {{\n",
       "    x.observe(notebookContainer, {childList: true});\n",
       "}}\n",
       "\n",
       "// Listen for the clearing of the current output cell\n",
       "var outputEl = gd.closest('.output');\n",
       "if (outputEl) {{\n",
       "    x.observe(outputEl, {childList: true});\n",
       "}}\n",
       "\n",
       "                        })\n",
       "                };\n",
       "                });\n",
       "            </script>\n",
       "        </div>"
      ]
     },
     "metadata": {},
     "output_type": "display_data"
    }
   ],
   "source": [
    "# Getting the top10 universities for 2015\n",
    "t10=df[(df.year.isin(['2015'])) & (df.world_rank <= 10)][['world_rank','institution','country','year','quality_of_education','national_rank']]\n",
    "\n",
    "# Getting the top10 universities for 2015 over the years\n",
    "pivot3 = pd.pivot_table(df.loc[df.institution.isin(t10.institution)],\n",
    "               index=['institution','year'], \n",
    "               values=['world_rank']\n",
    "                       )\n",
    "pivot3.sort_values(by=['institution','year'], ascending=[True, True], inplace= True)\n",
    "top10rank=pivot3.reset_index()\n",
    "\n",
    "# setting up x-axis data\n",
    "x_d=pd.DataFrame(top10rank[(top10rank.institution.isin(['Harvard University']))], columns = ['year'])\n",
    "x_datayear=np.vstack((np.array(x_d['year']),)*10)\n",
    "\n",
    "# setting up y-axis data\n",
    "y_d = np.array(top10rank['world_rank'])\n",
    "y_datawr=np.reshape(y_d, (10,4))\n",
    "\n",
    "# setting up institution labels\n",
    "y2015=pd.DataFrame(top10rank[(top10rank.year.isin(['2015']))], columns = ['institution'])\n",
    "y2015.sort_values(by=['institution'], ascending=[True], inplace= True)\n",
    "institute=np.array(y2015['institution'])\n",
    "\n",
    "# setting up line size and colors\n",
    "mode_size = [12, 8, 8, 8, 12, 8, 12, 8, 12, 8]\n",
    "line_size = [2, 2, 2, 2, 2, 2, 2, 2, 2, 2]\n",
    "colors = ['rgb(0,255,0)', 'rgb(0,0,255)', 'rgb(192,192,192)', 'rgb(255,0,255)','rgb(255,0,0)', \n",
    "          'rgb(255,215,0)', 'rgb(0,100,0)', 'rgb(0,0,0)','rgb(255,140,0)', 'rgb(0,0,128)']\n",
    "\n",
    "x_data = x_datayear\n",
    "y_data = y_datawr\n",
    "labels = institute\n",
    "\n",
    "fig = go.Figure()\n",
    "for i in range(0, len(labels)):\n",
    "    fig.add_trace(go.Scatter(x=x_data[i], y=y_data[i], mode='lines', name=labels[i],                   \n",
    "        line=dict(color=colors[i], width=line_size[i]),\n",
    "        marker=dict(color=colors[i], size=line_size[i]),\n",
    "        connectgaps=True,\n",
    "    ))\n",
    "\n",
    "for j in range(0, len(labels)):\n",
    "    fig.add_trace(go.Scatter(x=x_data[j], y=y_data[j], mode='markers', name=labels[j],\n",
    "        marker=dict(color=colors[j], size=mode_size[j]),\n",
    "        connectgaps=True,\n",
    "    ))    \n",
    "    \n",
    "fig.update_layout(\n",
    "    xaxis=dict(\n",
    "        showline=True,\n",
    "        showgrid=False,\n",
    "        showticklabels=True,\n",
    "        linecolor='rgb(204, 204, 204)',\n",
    "        linewidth=2,\n",
    "        ticks='outside',\n",
    "        dtick = 1,\n",
    "        constrain='domain',\n",
    "        tickfont=dict(\n",
    "            family='Arial',\n",
    "            size=12 ,\n",
    "            color='rgb(0,0,0)',\n",
    "        ),\n",
    "    ),\n",
    "    yaxis=dict(\n",
    "        showgrid=False,\n",
    "        zeroline=False,\n",
    "        showline=False,\n",
    "        showticklabels=False,\n",
    "        automargin= True,\n",
    "    ),\n",
    "    autosize=True,\n",
    "    margin=dict(\n",
    "        autoexpand=True,\n",
    "        l=250,\n",
    "        r=250,\n",
    "        t=50,\n",
    "    ),\n",
    "    showlegend=False,\n",
    "    plot_bgcolor='white'\n",
    ")\n",
    "\n",
    "annotations = []\n",
    "\n",
    "# Adding labels\n",
    "for y_trace, label, color in zip(y_data, labels, colors):\n",
    "    # labeling the left_side of the plot\n",
    "    annotations.append(dict(xref='paper', x=0.05, y=y_trace[0],\n",
    "                                  xanchor='right', yanchor='middle',\n",
    "                                  text=(label +' (Rank {})').format(y_trace[0]),\n",
    "                                  font=dict(family='Arial',\n",
    "                                            size=12,color='rgb(1,1,1)'),\n",
    "                                  showarrow=False\n",
    "                           )\n",
    "                      )\n",
    "#     labeling the right_side of the plot\n",
    "    annotations.append(dict(xref='paper', x=0.95, y=y_trace[3],\n",
    "                                  xanchor='left', yanchor='middle',\n",
    "                                  text=(label +' (Rank {})').format(y_trace[3]),\n",
    "                                  font=dict(family='Arial',\n",
    "                                            size=12,color='rgb(1,1,1)'),\n",
    "                                  showarrow=False)\n",
    "                      )\n",
    "# Title\n",
    "annotations.append(dict(xref='paper', yref='paper', x=0.05, y=1.05,\n",
    "                              xanchor='left', yanchor='bottom',\n",
    "                              text='Top 10 university ranking (2015) trend',\n",
    "                              font=dict(family='Arial',\n",
    "                                        size=25,\n",
    "                                        color='rgb(37,37,37)'),\n",
    "                              showarrow=False))\n",
    "fig['layout']['yaxis']['autorange'] = \"reversed\"\n",
    "fig.update_layout(annotations=annotations)\n",
    "\n",
    "print('Top 10 Rankings')\n",
    "print('\"Harvard University\" (Rank 1): maintains its leadership position throughout the years\\n')\n",
    "print('\"Stanford University\" (Rank 2): inches closer to the peak from Rank 3 in 2012\\n')\n",
    "print('\"Massachusetts Institute of Technology\" (Rank 3): Slight decline from Rank 2 in 2012 to Rank 4 in 2013 before recovering back to Rank 3 from 2014\\n')\n",
    "print('\"University of Cambridge\" (Rank 4): hold its fort at Rank 4 despite a drop of 1 ranking to Rank 5 in 2013\\n')\n",
    "print('\"University of Oxford\" (Rank 5): Significant improvement observed from 2012 to 2013 (up 4 rankings from Rank 7 to top 3) before declining by 2 rankings, stablizing at Rank 5\\n')\n",
    "\n",
    "print('Strong improvements of 3 rankings:\\n','\"Columbia University\" (Rank 6): vs Rank 9 in 2012\\n','\"University of California, Berkeley\" (Rank 7): vs Rank 10 in 2012\\n','\"University of Chicago\" (Rank 8): vs Rank 11 in 2012\\n')\n",
    "print('\"Princeton University\" (Rank 9): Suffered the most drop from Rank 6 to Rank 9,\\n')\n",
    "print('\"Cornell University\" (Rank 10): Despite a slight trip to Rank 13 in 2013 (from Rank 12 in 2012), it rebounded up 3 rankings to settle within Top 10 in 2015)\\n')\n",
    "\n",
    "fig.show()"
   ]
  },
  {
   "cell_type": "markdown",
   "metadata": {},
   "source": [
    "Top 10 Rankings:\n",
    "\n",
    "Harvard University (Rank 1): maintains its leadership position throughout the years\n",
    "\n",
    "Stanford University (Rank 2): inches closer to the peak from Rank 3 in 2012\n",
    "\n",
    "Massachusetts Institute of Technology (Rank 3): Slight decline from Rank 2 in 2012 to Rank 4 in 2013 before recovering back to Rank 3 from 2014\n",
    "\n",
    "University of Cambridge (Rank 4): hold its fort at Rank 4 despite a drop of 1 ranking to Rank 5 in 2013\n",
    "\n",
    "University of Oxford (Rank 5): Significant improvement observed from 2012 to 2013 (up 4 rankings from Rank 7 to top 3) before declining by 2 rankings, stablizing at Rank 5\n",
    "\n",
    "Strong improvements of 3 rankings for Columbia, California and Chicago.\n",
    "\n",
    "Columbia University (Rank 6): vs Rank 9 in 2012\n",
    "\n",
    "University of California, Berkeley (Rank 7): vs Rank 10 in 2012\n",
    "\n",
    "University of Chicago (Rank 8): vs Rank 11 in 2012\n",
    "\n",
    "Princeton University (Rank 9): Suffered the most drop from Rank 6 to Rank 9\n",
    "\n",
    "Cornell University (Rank 10): Despite a slight trip to Rank 13 in 2013 (from Rank 12 in 2012), it rebounded up 3 rankings to settle within Top 10 in 2015)"
   ]
  },
  {
   "cell_type": "markdown",
   "metadata": {},
   "source": [
    "# C. OPEN ENDED QUESTION (Choose 1 among the following)\n",
    "### Option 1: What are some of the factors (variables) that may be related to the world_rank and/or score? Is there any trends indicating shift in importance of factors influencing world_rank over the years or between countries? \n",
    "\n",
    "### Option 2: What are the relationships between the factors (variables) themselves? Is there any interesting patterns that can be detected? You may also choose to discuss yearly or country trends or a mixture of both. \n",
    "\n",
    "### For either of the above, you may choose to pick around 3-4 factors to deep-dive (how many factors to analyse is up to you). Additionally, if there's any other interesting insights about the data, you may also include in your analysis. "
   ]
  },
  {
   "cell_type": "code",
   "execution_count": 18,
   "metadata": {},
   "outputs": [
    {
     "name": "stdout",
     "output_type": "stream",
     "text": [
      "Factors with postive correlations (r>=0.8): world_rank, publications, influence, citations, broad_impact\n",
      "\n",
      "Factors with negative correlations: \"score\" - but not significant enough as negative correlation is only 0.6935\n",
      "\n"
     ]
    },
    {
     "data": {
      "image/png": "[encoded data removed]",
      "text/plain": [
       "<Figure size 1008x1008 with 2 Axes>"
      ]
     },
     "metadata": {},
     "output_type": "display_data"
    }
   ],
   "source": [
    "cor=df.corr()\n",
    "fig, ax = plt.subplots(figsize=(14,14))\n",
    "sns.heatmap(cor,cmap='coolwarm', annot=True);\n",
    "plt.title('CWUR correlation matrix',size=20)\n",
    "\n",
    "print('Factors with postive correlations (r>=0.8): world_rank, publications, influence, citations, broad_impact\\n')\n",
    "print('Factors with negative correlations: \"score\" - but not significant enough as negative correlation is only 0.6935\\n')"
   ]
  },
  {
   "cell_type": "code",
   "execution_count": 19,
   "metadata": {},
   "outputs": [
    {
     "data": {
      "text/html": [
       "<div>\n",
       "<style scoped>\n",
       "    .dataframe tbody tr th:only-of-type {\n",
       "        vertical-align: middle;\n",
       "    }\n",
       "\n",
       "    .dataframe tbody tr th {\n",
       "        vertical-align: top;\n",
       "    }\n",
       "\n",
       "    .dataframe thead th {\n",
       "        text-align: right;\n",
       "    }\n",
       "</style>\n",
       "<table border=\"1\" class=\"dataframe\">\n",
       "  <thead>\n",
       "    <tr style=\"text-align: right;\">\n",
       "      <th></th>\n",
       "      <th>2012</th>\n",
       "      <th>2013</th>\n",
       "      <th>2014</th>\n",
       "      <th>2015</th>\n",
       "      <th>world</th>\n",
       "    </tr>\n",
       "  </thead>\n",
       "  <tbody>\n",
       "    <tr>\n",
       "      <th>world_rank</th>\n",
       "      <td>1.000000</td>\n",
       "      <td>1.000000</td>\n",
       "      <td>1.000000</td>\n",
       "      <td>1.000000</td>\n",
       "      <td>1.000000</td>\n",
       "    </tr>\n",
       "    <tr>\n",
       "      <th>quality_of_faculty</th>\n",
       "      <td>0.769597</td>\n",
       "      <td>0.752396</td>\n",
       "      <td>0.573340</td>\n",
       "      <td>0.572304</td>\n",
       "      <td>0.663864</td>\n",
       "    </tr>\n",
       "    <tr>\n",
       "      <th>influence</th>\n",
       "      <td>0.705230</td>\n",
       "      <td>0.689526</td>\n",
       "      <td>0.870616</td>\n",
       "      <td>0.876108</td>\n",
       "      <td>0.895871</td>\n",
       "    </tr>\n",
       "    <tr>\n",
       "      <th>citations</th>\n",
       "      <td>0.675746</td>\n",
       "      <td>0.670102</td>\n",
       "      <td>0.826578</td>\n",
       "      <td>0.823055</td>\n",
       "      <td>0.856573</td>\n",
       "    </tr>\n",
       "    <tr>\n",
       "      <th>publications</th>\n",
       "      <td>0.627693</td>\n",
       "      <td>0.669520</td>\n",
       "      <td>0.905481</td>\n",
       "      <td>0.907588</td>\n",
       "      <td>0.923037</td>\n",
       "    </tr>\n",
       "    <tr>\n",
       "      <th>patents</th>\n",
       "      <td>0.576362</td>\n",
       "      <td>0.539342</td>\n",
       "      <td>0.629804</td>\n",
       "      <td>0.639701</td>\n",
       "      <td>0.698214</td>\n",
       "    </tr>\n",
       "    <tr>\n",
       "      <th>quality_of_education</th>\n",
       "      <td>0.563944</td>\n",
       "      <td>0.549999</td>\n",
       "      <td>0.599191</td>\n",
       "      <td>0.577612</td>\n",
       "      <td>0.676166</td>\n",
       "    </tr>\n",
       "    <tr>\n",
       "      <th>alumni_employment</th>\n",
       "      <td>0.418279</td>\n",
       "      <td>0.525440</td>\n",
       "      <td>0.602440</td>\n",
       "      <td>0.586218</td>\n",
       "      <td>0.668529</td>\n",
       "    </tr>\n",
       "    <tr>\n",
       "      <th>broad_impact</th>\n",
       "      <td>0.366515</td>\n",
       "      <td>0.543895</td>\n",
       "      <td>0.938793</td>\n",
       "      <td>0.947204</td>\n",
       "      <td>0.949721</td>\n",
       "    </tr>\n",
       "    <tr>\n",
       "      <th>national_rank</th>\n",
       "      <td>0.243865</td>\n",
       "      <td>0.314577</td>\n",
       "      <td>0.195299</td>\n",
       "      <td>0.207617</td>\n",
       "      <td>0.238553</td>\n",
       "    </tr>\n",
       "    <tr>\n",
       "      <th>score</th>\n",
       "      <td>-0.862933</td>\n",
       "      <td>-0.837333</td>\n",
       "      <td>-0.565914</td>\n",
       "      <td>-0.554571</td>\n",
       "      <td>-0.549098</td>\n",
       "    </tr>\n",
       "  </tbody>\n",
       "</table>\n",
       "</div>"
      ],
      "text/plain": [
       "                          2012      2013      2014      2015     world\n",
       "world_rank            1.000000  1.000000  1.000000  1.000000  1.000000\n",
       "quality_of_faculty    0.769597  0.752396  0.573340  0.572304  0.663864\n",
       "influence             0.705230  0.689526  0.870616  0.876108  0.895871\n",
       "citations             0.675746  0.670102  0.826578  0.823055  0.856573\n",
       "publications          0.627693  0.669520  0.905481  0.907588  0.923037\n",
       "patents               0.576362  0.539342  0.629804  0.639701  0.698214\n",
       "quality_of_education  0.563944  0.549999  0.599191  0.577612  0.676166\n",
       "alumni_employment     0.418279  0.525440  0.602440  0.586218  0.668529\n",
       "broad_impact          0.366515  0.543895  0.938793  0.947204  0.949721\n",
       "national_rank         0.243865  0.314577  0.195299  0.207617  0.238553\n",
       "score                -0.862933 -0.837333 -0.565914 -0.554571 -0.549098"
      ]
     },
     "execution_count": 19,
     "metadata": {},
     "output_type": "execute_result"
    }
   ],
   "source": [
    "df2012 = df.loc[df.year == 2012].corr()\n",
    "df2013 = df.loc[df.year == 2013].corr()\n",
    "df2014 = df.loc[df.year == 2014].corr()\n",
    "df2015 = df.loc[df.year == 2015].corr()\n",
    "corwr = pd.DataFrame(cor['world_rank'][:].nlargest(12), columns = ['world_rank'])\n",
    "\n",
    "\n",
    "df2012c = pd.DataFrame(df2012['world_rank'][:].nlargest(12), columns = ['world_rank'])\n",
    "df2013c = pd.DataFrame(df2013['world_rank'][:].nlargest(12), columns = ['world_rank'])\n",
    "df2014c = pd.DataFrame(df2014['world_rank'][:].nlargest(12), columns = ['world_rank'])\n",
    "df2015c = pd.DataFrame(df2015['world_rank'][:].nlargest(12), columns = ['world_rank'])\n",
    "\n",
    "df2012c.rename(columns={'world_rank':'2012'}, inplace=True)\n",
    "df2013c.rename(columns={'world_rank':'world_rank2013'}, inplace=True)\n",
    "df2014c.rename(columns={'world_rank':'world_rank2014'}, inplace=True)\n",
    "df2015c.rename(columns={'world_rank':'world_rank2015'}, inplace=True)\n",
    "corwr.rename(columns={'world_rank':'Worldavg'}, inplace=True)\n",
    "\n",
    "\n",
    "df2012c['2013']=df2013c['world_rank2013']\n",
    "df2012c['2014']=df2014c['world_rank2014']\n",
    "df2012c['2015']=df2015c['world_rank2015']\n",
    "final=df2012c.copy()\n",
    "final['world']=corwr['Worldavg']\n",
    "final\n"
   ]
  },
  {
   "cell_type": "code",
   "execution_count": 20,
   "metadata": {
    "scrolled": false
   },
   "outputs": [
    {
     "data": {
      "application/vnd.plotly.v1+json": {
       "config": {
        "plotlyServerURL": "https://plot.ly"
       },
       "data": [
        {
         "connectgaps": true,
         "line": {
          "color": "rgb(0,255,0)",
          "width": 1
         },
         "marker": {
          "color": "rgb(0,255,0)",
          "size": 1
         },
         "mode": "lines+markers",
         "name": "world_rank",
         "type": "scatter",
         "x": [
          "2012",
          "2013",
          "2014",
          "2015"
         ],
         "y": [
          1,
          1,
          1,
          1
         ]
        },
        {
         "connectgaps": true,
         "line": {
          "color": "rgb(0,0,255)",
          "width": 1
         },
         "marker": {
          "color": "rgb(0,0,255)",
          "size": 1
         },
         "mode": "lines+markers",
         "name": "quality_of_faculty",
         "type": "scatter",
         "x": [
          "2012",
          "2013",
          "2014",
          "2015"
         ],
         "y": [
          0.7695973683133789,
          0.7523960900309891,
          0.5733398039173546,
          0.5723036112878135
         ]
        },
        {
         "connectgaps": true,
         "line": {
          "color": "rgb(192,192,192)",
          "width": 1
         },
         "marker": {
          "color": "rgb(192,192,192)",
          "size": 1
         },
         "mode": "lines+markers",
         "name": "influence",
         "type": "scatter",
         "x": [
          "2012",
          "2013",
          "2014",
          "2015"
         ],
         "y": [
          0.7052295677567455,
          0.6895264608377433,
          0.8706160217199616,
          0.8761082436159803
         ]
        },
        {
         "connectgaps": true,
         "line": {
          "color": "rgb(255,0,255)",
          "width": 1
         },
         "marker": {
          "color": "rgb(255,0,255)",
          "size": 1
         },
         "mode": "lines+markers",
         "name": "citations",
         "type": "scatter",
         "x": [
          "2012",
          "2013",
          "2014",
          "2015"
         ],
         "y": [
          0.6757464663127862,
          0.6701019260728919,
          0.8265783499179064,
          0.8230554038805475
         ]
        },
        {
         "connectgaps": true,
         "line": {
          "color": "rgb(255,0,0)",
          "width": 1
         },
         "marker": {
          "color": "rgb(255,0,0)",
          "size": 1
         },
         "mode": "lines+markers",
         "name": "publications",
         "type": "scatter",
         "x": [
          "2012",
          "2013",
          "2014",
          "2015"
         ],
         "y": [
          0.6276933136441673,
          0.6695195502093787,
          0.9054814770636915,
          0.9075881658595062
         ]
        },
        {
         "connectgaps": true,
         "line": {
          "color": "rgb(255,215,0)",
          "width": 1
         },
         "marker": {
          "color": "rgb(255,215,0)",
          "size": 1
         },
         "mode": "lines+markers",
         "name": "patents",
         "type": "scatter",
         "x": [
          "2012",
          "2013",
          "2014",
          "2015"
         ],
         "y": [
          0.5763624886786658,
          0.5393420481889729,
          0.6298040290541239,
          0.63970102898255
         ]
        },
        {
         "connectgaps": true,
         "line": {
          "color": "rgb(0,100,0)",
          "width": 1
         },
         "marker": {
          "color": "rgb(0,100,0)",
          "size": 1
         },
         "mode": "lines+markers",
         "name": "quality_of_education",
         "type": "scatter",
         "x": [
          "2012",
          "2013",
          "2014",
          "2015"
         ],
         "y": [
          0.5639439883042521,
          0.5499987873749496,
          0.5991914935227958,
          0.5776123046259064
         ]
        },
        {
         "connectgaps": true,
         "line": {
          "color": "rgb(0,0,0)",
          "width": 1
         },
         "marker": {
          "color": "rgb(0,0,0)",
          "size": 1
         },
         "mode": "lines+markers",
         "name": "alumni_employment",
         "type": "scatter",
         "x": [
          "2012",
          "2013",
          "2014",
          "2015"
         ],
         "y": [
          0.4182789255901547,
          0.5254404129448106,
          0.602439606159377,
          0.5862183506086673
         ]
        },
        {
         "connectgaps": true,
         "line": {
          "color": "rgb(255,140,0)",
          "width": 1
         },
         "marker": {
          "color": "rgb(255,140,0)",
          "size": 1
         },
         "mode": "lines+markers",
         "name": "broad_impact",
         "type": "scatter",
         "x": [
          "2012",
          "2013",
          "2014",
          "2015"
         ],
         "y": [
          0.3665145273289925,
          0.543894841923416,
          0.938793019648088,
          0.9472040340983519
         ]
        },
        {
         "connectgaps": true,
         "line": {
          "color": "rgb(0,0,128)",
          "width": 1
         },
         "marker": {
          "color": "rgb(0,0,128)",
          "size": 1
         },
         "mode": "lines+markers",
         "name": "national_rank",
         "type": "scatter",
         "x": [
          "2012",
          "2013",
          "2014",
          "2015"
         ],
         "y": [
          0.24386505076897175,
          0.31457729316587973,
          0.19529878820510183,
          0.2076168016922736
         ]
        },
        {
         "connectgaps": true,
         "line": {
          "color": "rgb(0,0,0)",
          "width": 1
         },
         "marker": {
          "color": "rgb(0,0,0)",
          "size": 1
         },
         "mode": "lines+markers",
         "name": "score",
         "type": "scatter",
         "x": [
          "2012",
          "2013",
          "2014",
          "2015"
         ],
         "y": [
          -0.8629326045840867,
          -0.8373329428448436,
          -0.5659139543656293,
          -0.5545708265786539
         ]
        }
       ],
       "layout": {
        "annotations": [
         {
          "font": {
           "color": "rgb(1,1,1)",
           "family": "Arial",
           "size": 8
          },
          "showarrow": false,
          "text": "world_rank (1.0)",
          "x": 0,
          "xanchor": "right",
          "xref": "paper",
          "y": 1,
          "yanchor": "middle"
         },
         {
          "font": {
           "color": "rgb(1,1,1)",
           "family": "Arial",
           "size": 8
          },
          "showarrow": false,
          "text": "world_rank (1.0)",
          "x": 1,
          "xanchor": "left",
          "xref": "paper",
          "y": 1,
          "yanchor": "middle"
         },
         {
          "font": {
           "color": "rgb(1,1,1)",
           "family": "Arial",
           "size": 8
          },
          "showarrow": false,
          "text": "quality_of_faculty (0.77)",
          "x": 0,
          "xanchor": "right",
          "xref": "paper",
          "y": 0.7695973683133789,
          "yanchor": "middle"
         },
         {
          "font": {
           "color": "rgb(1,1,1)",
           "family": "Arial",
           "size": 8
          },
          "showarrow": false,
          "text": "quality_of_faculty (0.57)",
          "x": 1,
          "xanchor": "left",
          "xref": "paper",
          "y": 0.5723036112878135,
          "yanchor": "middle"
         },
         {
          "font": {
           "color": "rgb(1,1,1)",
           "family": "Arial",
           "size": 8
          },
          "showarrow": false,
          "text": "influence (0.71)",
          "x": 0,
          "xanchor": "right",
          "xref": "paper",
          "y": 0.7052295677567455,
          "yanchor": "middle"
         },
         {
          "font": {
           "color": "rgb(1,1,1)",
           "family": "Arial",
           "size": 8
          },
          "showarrow": false,
          "text": "influence (0.88)",
          "x": 1,
          "xanchor": "left",
          "xref": "paper",
          "y": 0.8761082436159803,
          "yanchor": "middle"
         },
         {
          "font": {
           "color": "rgb(1,1,1)",
           "family": "Arial",
           "size": 8
          },
          "showarrow": false,
          "text": "citations (0.68)",
          "x": 0,
          "xanchor": "right",
          "xref": "paper",
          "y": 0.6757464663127862,
          "yanchor": "middle"
         },
         {
          "font": {
           "color": "rgb(1,1,1)",
           "family": "Arial",
           "size": 8
          },
          "showarrow": false,
          "text": "citations (0.82)",
          "x": 1,
          "xanchor": "left",
          "xref": "paper",
          "y": 0.8230554038805475,
          "yanchor": "middle"
         },
         {
          "font": {
           "color": "rgb(1,1,1)",
           "family": "Arial",
           "size": 8
          },
          "showarrow": false,
          "text": "publications (0.63)",
          "x": 0,
          "xanchor": "right",
          "xref": "paper",
          "y": 0.6276933136441673,
          "yanchor": "middle"
         },
         {
          "font": {
           "color": "rgb(1,1,1)",
           "family": "Arial",
           "size": 8
          },
          "showarrow": false,
          "text": "publications (0.91)",
          "x": 1,
          "xanchor": "left",
          "xref": "paper",
          "y": 0.9075881658595062,
          "yanchor": "middle"
         },
         {
          "font": {
           "color": "rgb(1,1,1)",
           "family": "Arial",
           "size": 8
          },
          "showarrow": false,
          "text": "patents (0.58)",
          "x": 0,
          "xanchor": "right",
          "xref": "paper",
          "y": 0.5763624886786658,
          "yanchor": "middle"
         },
         {
          "font": {
           "color": "rgb(1,1,1)",
           "family": "Arial",
           "size": 8
          },
          "showarrow": false,
          "text": "patents (0.64)",
          "x": 1,
          "xanchor": "left",
          "xref": "paper",
          "y": 0.63970102898255,
          "yanchor": "middle"
         },
         {
          "font": {
           "color": "rgb(1,1,1)",
           "family": "Arial",
           "size": 8
          },
          "showarrow": false,
          "text": "quality_of_education (0.56)",
          "x": 0,
          "xanchor": "right",
          "xref": "paper",
          "y": 0.5639439883042521,
          "yanchor": "middle"
         },
         {
          "font": {
           "color": "rgb(1,1,1)",
           "family": "Arial",
           "size": 8
          },
          "showarrow": false,
          "text": "quality_of_education (0.58)",
          "x": 1,
          "xanchor": "left",
          "xref": "paper",
          "y": 0.5776123046259064,
          "yanchor": "middle"
         },
         {
          "font": {
           "color": "rgb(1,1,1)",
           "family": "Arial",
           "size": 8
          },
          "showarrow": false,
          "text": "alumni_employment (0.42)",
          "x": 0,
          "xanchor": "right",
          "xref": "paper",
          "y": 0.4182789255901547,
          "yanchor": "middle"
         },
         {
          "font": {
           "color": "rgb(1,1,1)",
           "family": "Arial",
           "size": 8
          },
          "showarrow": false,
          "text": "alumni_employment (0.59)",
          "x": 1,
          "xanchor": "left",
          "xref": "paper",
          "y": 0.5862183506086673,
          "yanchor": "middle"
         },
         {
          "font": {
           "color": "rgb(1,1,1)",
           "family": "Arial",
           "size": 8
          },
          "showarrow": false,
          "text": "broad_impact (0.37)",
          "x": 0,
          "xanchor": "right",
          "xref": "paper",
          "y": 0.3665145273289925,
          "yanchor": "middle"
         },
         {
          "font": {
           "color": "rgb(1,1,1)",
           "family": "Arial",
           "size": 8
          },
          "showarrow": false,
          "text": "broad_impact (0.95)",
          "x": 1,
          "xanchor": "left",
          "xref": "paper",
          "y": 0.9472040340983519,
          "yanchor": "middle"
         },
         {
          "font": {
           "color": "rgb(1,1,1)",
           "family": "Arial",
           "size": 8
          },
          "showarrow": false,
          "text": "national_rank (0.24)",
          "x": 0,
          "xanchor": "right",
          "xref": "paper",
          "y": 0.24386505076897175,
          "yanchor": "middle"
         },
         {
          "font": {
           "color": "rgb(1,1,1)",
           "family": "Arial",
           "size": 8
          },
          "showarrow": false,
          "text": "national_rank (0.21)",
          "x": 1,
          "xanchor": "left",
          "xref": "paper",
          "y": 0.2076168016922736,
          "yanchor": "middle"
         },
         {
          "font": {
           "color": "rgb(1,1,1)",
           "family": "Arial",
           "size": 8
          },
          "showarrow": false,
          "text": "score (-0.86)",
          "x": 0,
          "xanchor": "right",
          "xref": "paper",
          "y": -0.8629326045840867,
          "yanchor": "middle"
         },
         {
          "font": {
           "color": "rgb(1,1,1)",
           "family": "Arial",
           "size": 8
          },
          "showarrow": false,
          "text": "score (-0.55)",
          "x": 1,
          "xanchor": "left",
          "xref": "paper",
          "y": -0.5545708265786539,
          "yanchor": "middle"
         },
         {
          "font": {
           "color": "rgb(37,37,37)",
           "family": "Arial",
           "size": 25
          },
          "showarrow": false,
          "text": "Correlation trend",
          "x": 0.3,
          "xanchor": "left",
          "xref": "paper",
          "y": 0.5,
          "yanchor": "top",
          "yref": "paper"
         }
        ],
        "autosize": true,
        "margin": {
         "autoexpand": true,
         "l": 250,
         "r": 250
        },
        "plot_bgcolor": "white",
        "showlegend": false,
        "template": {
         "data": {
          "bar": [
           {
            "error_x": {
             "color": "#2a3f5f"
            },
            "error_y": {
             "color": "#2a3f5f"
            },
            "marker": {
             "line": {
              "color": "#E5ECF6",
              "width": 0.5
             }
            },
            "type": "bar"
           }
          ],
          "barpolar": [
           {
            "marker": {
             "line": {
              "color": "#E5ECF6",
              "width": 0.5
             }
            },
            "type": "barpolar"
           }
          ],
          "carpet": [
           {
            "aaxis": {
             "endlinecolor": "#2a3f5f",
             "gridcolor": "white",
             "linecolor": "white",
             "minorgridcolor": "white",
             "startlinecolor": "#2a3f5f"
            },
            "baxis": {
             "endlinecolor": "#2a3f5f",
             "gridcolor": "white",
             "linecolor": "white",
             "minorgridcolor": "white",
             "startlinecolor": "#2a3f5f"
            },
            "type": "carpet"
           }
          ],
          "choropleth": [
           {
            "colorbar": {
             "outlinewidth": 0,
             "ticks": ""
            },
            "type": "choropleth"
           }
          ],
          "contour": [
           {
            "colorbar": {
             "outlinewidth": 0,
             "ticks": ""
            },
            "colorscale": [
             [
              0,
              "#0d0887"
             ],
             [
              0.1111111111111111,
              "#46039f"
             ],
             [
              0.2222222222222222,
              "#7201a8"
             ],
             [
              0.3333333333333333,
              "#9c179e"
             ],
             [
              0.4444444444444444,
              "#bd3786"
             ],
             [
              0.5555555555555556,
              "#d8576b"
             ],
             [
              0.6666666666666666,
              "#ed7953"
             ],
             [
              0.7777777777777778,
              "#fb9f3a"
             ],
             [
              0.8888888888888888,
              "#fdca26"
             ],
             [
              1,
              "#f0f921"
             ]
            ],
            "type": "contour"
           }
          ],
          "contourcarpet": [
           {
            "colorbar": {
             "outlinewidth": 0,
             "ticks": ""
            },
            "type": "contourcarpet"
           }
          ],
          "heatmap": [
           {
            "colorbar": {
             "outlinewidth": 0,
             "ticks": ""
            },
            "colorscale": [
             [
              0,
              "#0d0887"
             ],
             [
              0.1111111111111111,
              "#46039f"
             ],
             [
              0.2222222222222222,
              "#7201a8"
             ],
             [
              0.3333333333333333,
              "#9c179e"
             ],
             [
              0.4444444444444444,
              "#bd3786"
             ],
             [
              0.5555555555555556,
              "#d8576b"
             ],
             [
              0.6666666666666666,
              "#ed7953"
             ],
             [
              0.7777777777777778,
              "#fb9f3a"
             ],
             [
              0.8888888888888888,
              "#fdca26"
             ],
             [
              1,
              "#f0f921"
             ]
            ],
            "type": "heatmap"
           }
          ],
          "heatmapgl": [
           {
            "colorbar": {
             "outlinewidth": 0,
             "ticks": ""
            },
            "colorscale": [
             [
              0,
              "#0d0887"
             ],
             [
              0.1111111111111111,
              "#46039f"
             ],
             [
              0.2222222222222222,
              "#7201a8"
             ],
             [
              0.3333333333333333,
              "#9c179e"
             ],
             [
              0.4444444444444444,
              "#bd3786"
             ],
             [
              0.5555555555555556,
              "#d8576b"
             ],
             [
              0.6666666666666666,
              "#ed7953"
             ],
             [
              0.7777777777777778,
              "#fb9f3a"
             ],
             [
              0.8888888888888888,
              "#fdca26"
             ],
             [
              1,
              "#f0f921"
             ]
            ],
            "type": "heatmapgl"
           }
          ],
          "histogram": [
           {
            "marker": {
             "colorbar": {
              "outlinewidth": 0,
              "ticks": ""
             }
            },
            "type": "histogram"
           }
          ],
          "histogram2d": [
           {
            "colorbar": {
             "outlinewidth": 0,
             "ticks": ""
            },
            "colorscale": [
             [
              0,
              "#0d0887"
             ],
             [
              0.1111111111111111,
              "#46039f"
             ],
             [
              0.2222222222222222,
              "#7201a8"
             ],
             [
              0.3333333333333333,
              "#9c179e"
             ],
             [
              0.4444444444444444,
              "#bd3786"
             ],
             [
              0.5555555555555556,
              "#d8576b"
             ],
             [
              0.6666666666666666,
              "#ed7953"
             ],
             [
              0.7777777777777778,
              "#fb9f3a"
             ],
             [
              0.8888888888888888,
              "#fdca26"
             ],
             [
              1,
              "#f0f921"
             ]
            ],
            "type": "histogram2d"
           }
          ],
          "histogram2dcontour": [
           {
            "colorbar": {
             "outlinewidth": 0,
             "ticks": ""
            },
            "colorscale": [
             [
              0,
              "#0d0887"
             ],
             [
              0.1111111111111111,
              "#46039f"
             ],
             [
              0.2222222222222222,
              "#7201a8"
             ],
             [
              0.3333333333333333,
              "#9c179e"
             ],
             [
              0.4444444444444444,
              "#bd3786"
             ],
             [
              0.5555555555555556,
              "#d8576b"
             ],
             [
              0.6666666666666666,
              "#ed7953"
             ],
             [
              0.7777777777777778,
              "#fb9f3a"
             ],
             [
              0.8888888888888888,
              "#fdca26"
             ],
             [
              1,
              "#f0f921"
             ]
            ],
            "type": "histogram2dcontour"
           }
          ],
          "mesh3d": [
           {
            "colorbar": {
             "outlinewidth": 0,
             "ticks": ""
            },
            "type": "mesh3d"
           }
          ],
          "parcoords": [
           {
            "line": {
             "colorbar": {
              "outlinewidth": 0,
              "ticks": ""
             }
            },
            "type": "parcoords"
           }
          ],
          "pie": [
           {
            "automargin": true,
            "type": "pie"
           }
          ],
          "scatter": [
           {
            "marker": {
             "colorbar": {
              "outlinewidth": 0,
              "ticks": ""
             }
            },
            "type": "scatter"
           }
          ],
          "scatter3d": [
           {
            "line": {
             "colorbar": {
              "outlinewidth": 0,
              "ticks": ""
             }
            },
            "marker": {
             "colorbar": {
              "outlinewidth": 0,
              "ticks": ""
             }
            },
            "type": "scatter3d"
           }
          ],
          "scattercarpet": [
           {
            "marker": {
             "colorbar": {
              "outlinewidth": 0,
              "ticks": ""
             }
            },
            "type": "scattercarpet"
           }
          ],
          "scattergeo": [
           {
            "marker": {
             "colorbar": {
              "outlinewidth": 0,
              "ticks": ""
             }
            },
            "type": "scattergeo"
           }
          ],
          "scattergl": [
           {
            "marker": {
             "colorbar": {
              "outlinewidth": 0,
              "ticks": ""
             }
            },
            "type": "scattergl"
           }
          ],
          "scattermapbox": [
           {
            "marker": {
             "colorbar": {
              "outlinewidth": 0,
              "ticks": ""
             }
            },
            "type": "scattermapbox"
           }
          ],
          "scatterpolar": [
           {
            "marker": {
             "colorbar": {
              "outlinewidth": 0,
              "ticks": ""
             }
            },
            "type": "scatterpolar"
           }
          ],
          "scatterpolargl": [
           {
            "marker": {
             "colorbar": {
              "outlinewidth": 0,
              "ticks": ""
             }
            },
            "type": "scatterpolargl"
           }
          ],
          "scatterternary": [
           {
            "marker": {
             "colorbar": {
              "outlinewidth": 0,
              "ticks": ""
             }
            },
            "type": "scatterternary"
           }
          ],
          "surface": [
           {
            "colorbar": {
             "outlinewidth": 0,
             "ticks": ""
            },
            "colorscale": [
             [
              0,
              "#0d0887"
             ],
             [
              0.1111111111111111,
              "#46039f"
             ],
             [
              0.2222222222222222,
              "#7201a8"
             ],
             [
              0.3333333333333333,
              "#9c179e"
             ],
             [
              0.4444444444444444,
              "#bd3786"
             ],
             [
              0.5555555555555556,
              "#d8576b"
             ],
             [
              0.6666666666666666,
              "#ed7953"
             ],
             [
              0.7777777777777778,
              "#fb9f3a"
             ],
             [
              0.8888888888888888,
              "#fdca26"
             ],
             [
              1,
              "#f0f921"
             ]
            ],
            "type": "surface"
           }
          ],
          "table": [
           {
            "cells": {
             "fill": {
              "color": "#EBF0F8"
             },
             "line": {
              "color": "white"
             }
            },
            "header": {
             "fill": {
              "color": "#C8D4E3"
             },
             "line": {
              "color": "white"
             }
            },
            "type": "table"
           }
          ]
         },
         "layout": {
          "annotationdefaults": {
           "arrowcolor": "#2a3f5f",
           "arrowhead": 0,
           "arrowwidth": 1
          },
          "coloraxis": {
           "colorbar": {
            "outlinewidth": 0,
            "ticks": ""
           }
          },
          "colorscale": {
           "diverging": [
            [
             0,
             "#8e0152"
            ],
            [
             0.1,
             "#c51b7d"
            ],
            [
             0.2,
             "#de77ae"
            ],
            [
             0.3,
             "#f1b6da"
            ],
            [
             0.4,
             "#fde0ef"
            ],
            [
             0.5,
             "#f7f7f7"
            ],
            [
             0.6,
             "#e6f5d0"
            ],
            [
             0.7,
             "#b8e186"
            ],
            [
             0.8,
             "#7fbc41"
            ],
            [
             0.9,
             "#4d9221"
            ],
            [
             1,
             "#276419"
            ]
           ],
           "sequential": [
            [
             0,
             "#0d0887"
            ],
            [
             0.1111111111111111,
             "#46039f"
            ],
            [
             0.2222222222222222,
             "#7201a8"
            ],
            [
             0.3333333333333333,
             "#9c179e"
            ],
            [
             0.4444444444444444,
             "#bd3786"
            ],
            [
             0.5555555555555556,
             "#d8576b"
            ],
            [
             0.6666666666666666,
             "#ed7953"
            ],
            [
             0.7777777777777778,
             "#fb9f3a"
            ],
            [
             0.8888888888888888,
             "#fdca26"
            ],
            [
             1,
             "#f0f921"
            ]
           ],
           "sequentialminus": [
            [
             0,
             "#0d0887"
            ],
            [
             0.1111111111111111,
             "#46039f"
            ],
            [
             0.2222222222222222,
             "#7201a8"
            ],
            [
             0.3333333333333333,
             "#9c179e"
            ],
            [
             0.4444444444444444,
             "#bd3786"
            ],
            [
             0.5555555555555556,
             "#d8576b"
            ],
            [
             0.6666666666666666,
             "#ed7953"
            ],
            [
             0.7777777777777778,
             "#fb9f3a"
            ],
            [
             0.8888888888888888,
             "#fdca26"
            ],
            [
             1,
             "#f0f921"
            ]
           ]
          },
          "colorway": [
           "#636efa",
           "#EF553B",
           "#00cc96",
           "#ab63fa",
           "#FFA15A",
           "#19d3f3",
           "#FF6692",
           "#B6E880",
           "#FF97FF",
           "#FECB52"
          ],
          "font": {
           "color": "#2a3f5f"
          },
          "geo": {
           "bgcolor": "white",
           "lakecolor": "white",
           "landcolor": "#E5ECF6",
           "showlakes": true,
           "showland": true,
           "subunitcolor": "white"
          },
          "hoverlabel": {
           "align": "left"
          },
          "hovermode": "closest",
          "mapbox": {
           "style": "light"
          },
          "paper_bgcolor": "white",
          "plot_bgcolor": "#E5ECF6",
          "polar": {
           "angularaxis": {
            "gridcolor": "white",
            "linecolor": "white",
            "ticks": ""
           },
           "bgcolor": "#E5ECF6",
           "radialaxis": {
            "gridcolor": "white",
            "linecolor": "white",
            "ticks": ""
           }
          },
          "scene": {
           "xaxis": {
            "backgroundcolor": "#E5ECF6",
            "gridcolor": "white",
            "gridwidth": 2,
            "linecolor": "white",
            "showbackground": true,
            "ticks": "",
            "zerolinecolor": "white"
           },
           "yaxis": {
            "backgroundcolor": "#E5ECF6",
            "gridcolor": "white",
            "gridwidth": 2,
            "linecolor": "white",
            "showbackground": true,
            "ticks": "",
            "zerolinecolor": "white"
           },
           "zaxis": {
            "backgroundcolor": "#E5ECF6",
            "gridcolor": "white",
            "gridwidth": 2,
            "linecolor": "white",
            "showbackground": true,
            "ticks": "",
            "zerolinecolor": "white"
           }
          },
          "shapedefaults": {
           "line": {
            "color": "#2a3f5f"
           }
          },
          "ternary": {
           "aaxis": {
            "gridcolor": "white",
            "linecolor": "white",
            "ticks": ""
           },
           "baxis": {
            "gridcolor": "white",
            "linecolor": "white",
            "ticks": ""
           },
           "bgcolor": "#E5ECF6",
           "caxis": {
            "gridcolor": "white",
            "linecolor": "white",
            "ticks": ""
           }
          },
          "title": {
           "x": 0.05
          },
          "xaxis": {
           "automargin": true,
           "gridcolor": "white",
           "linecolor": "white",
           "ticks": "",
           "title": {
            "standoff": 15
           },
           "zerolinecolor": "white",
           "zerolinewidth": 2
          },
          "yaxis": {
           "automargin": true,
           "gridcolor": "white",
           "linecolor": "white",
           "ticks": "",
           "title": {
            "standoff": 15
           },
           "zerolinecolor": "white",
           "zerolinewidth": 2
          }
         }
        },
        "xaxis": {
         "constrain": "domain",
         "dtick": 1,
         "linecolor": "rgb(204, 204, 204)",
         "linewidth": 1,
         "showgrid": false,
         "showline": true,
         "showticklabels": true,
         "tickfont": {
          "color": "rgb(0,0,0)",
          "family": "Arial",
          "size": 12
         },
         "ticks": "outside"
        },
        "yaxis": {
         "automargin": true,
         "showgrid": false,
         "showline": false,
         "showticklabels": false,
         "zeroline": false
        }
       }
      },
      "text/html": [
       "<div>\n",
       "        \n",
       "        \n",
       "            <div id=\"c84f4cb5-8749-4e9c-a6f4-6b206aed487b\" class=\"plotly-graph-div\" style=\"height:525px; width:100%;\"></div>\n",
       "            <script type=\"text/javascript\">\n",
       "                require([\"plotly\"], function(Plotly) {\n",
       "                    window.PLOTLYENV=window.PLOTLYENV || {};\n",
       "                    \n",
       "                if (document.getElementById(\"c84f4cb5-8749-4e9c-a6f4-6b206aed487b\")) {\n",
       "                    Plotly.newPlot(\n",
       "                        'c84f4cb5-8749-4e9c-a6f4-6b206aed487b',\n",
       "                        [{\"connectgaps\": true, \"line\": {\"color\": \"rgb(0,255,0)\", \"width\": 1}, \"marker\": {\"color\": \"rgb(0,255,0)\", \"size\": 1}, \"mode\": \"lines+markers\", \"name\": \"world_rank\", \"type\": \"scatter\", \"x\": [\"2012\", \"2013\", \"2014\", \"2015\"], \"y\": [1.0, 1.0, 1.0, 1.0]}, {\"connectgaps\": true, \"line\": {\"color\": \"rgb(0,0,255)\", \"width\": 1}, \"marker\": {\"color\": \"rgb(0,0,255)\", \"size\": 1}, \"mode\": \"lines+markers\", \"name\": \"quality_of_faculty\", \"type\": \"scatter\", \"x\": [\"2012\", \"2013\", \"2014\", \"2015\"], \"y\": [0.7695973683133789, 0.7523960900309891, 0.5733398039173546, 0.5723036112878135]}, {\"connectgaps\": true, \"line\": {\"color\": \"rgb(192,192,192)\", \"width\": 1}, \"marker\": {\"color\": \"rgb(192,192,192)\", \"size\": 1}, \"mode\": \"lines+markers\", \"name\": \"influence\", \"type\": \"scatter\", \"x\": [\"2012\", \"2013\", \"2014\", \"2015\"], \"y\": [0.7052295677567455, 0.6895264608377433, 0.8706160217199616, 0.8761082436159803]}, {\"connectgaps\": true, \"line\": {\"color\": \"rgb(255,0,255)\", \"width\": 1}, \"marker\": {\"color\": \"rgb(255,0,255)\", \"size\": 1}, \"mode\": \"lines+markers\", \"name\": \"citations\", \"type\": \"scatter\", \"x\": [\"2012\", \"2013\", \"2014\", \"2015\"], \"y\": [0.6757464663127862, 0.6701019260728919, 0.8265783499179064, 0.8230554038805475]}, {\"connectgaps\": true, \"line\": {\"color\": \"rgb(255,0,0)\", \"width\": 1}, \"marker\": {\"color\": \"rgb(255,0,0)\", \"size\": 1}, \"mode\": \"lines+markers\", \"name\": \"publications\", \"type\": \"scatter\", \"x\": [\"2012\", \"2013\", \"2014\", \"2015\"], \"y\": [0.6276933136441673, 0.6695195502093787, 0.9054814770636915, 0.9075881658595062]}, {\"connectgaps\": true, \"line\": {\"color\": \"rgb(255,215,0)\", \"width\": 1}, \"marker\": {\"color\": \"rgb(255,215,0)\", \"size\": 1}, \"mode\": \"lines+markers\", \"name\": \"patents\", \"type\": \"scatter\", \"x\": [\"2012\", \"2013\", \"2014\", \"2015\"], \"y\": [0.5763624886786658, 0.5393420481889729, 0.6298040290541239, 0.63970102898255]}, {\"connectgaps\": true, \"line\": {\"color\": \"rgb(0,100,0)\", \"width\": 1}, \"marker\": {\"color\": \"rgb(0,100,0)\", \"size\": 1}, \"mode\": \"lines+markers\", \"name\": \"quality_of_education\", \"type\": \"scatter\", \"x\": [\"2012\", \"2013\", \"2014\", \"2015\"], \"y\": [0.5639439883042521, 0.5499987873749496, 0.5991914935227958, 0.5776123046259064]}, {\"connectgaps\": true, \"line\": {\"color\": \"rgb(0,0,0)\", \"width\": 1}, \"marker\": {\"color\": \"rgb(0,0,0)\", \"size\": 1}, \"mode\": \"lines+markers\", \"name\": \"alumni_employment\", \"type\": \"scatter\", \"x\": [\"2012\", \"2013\", \"2014\", \"2015\"], \"y\": [0.4182789255901547, 0.5254404129448106, 0.602439606159377, 0.5862183506086673]}, {\"connectgaps\": true, \"line\": {\"color\": \"rgb(255,140,0)\", \"width\": 1}, \"marker\": {\"color\": \"rgb(255,140,0)\", \"size\": 1}, \"mode\": \"lines+markers\", \"name\": \"broad_impact\", \"type\": \"scatter\", \"x\": [\"2012\", \"2013\", \"2014\", \"2015\"], \"y\": [0.3665145273289925, 0.543894841923416, 0.938793019648088, 0.9472040340983519]}, {\"connectgaps\": true, \"line\": {\"color\": \"rgb(0,0,128)\", \"width\": 1}, \"marker\": {\"color\": \"rgb(0,0,128)\", \"size\": 1}, \"mode\": \"lines+markers\", \"name\": \"national_rank\", \"type\": \"scatter\", \"x\": [\"2012\", \"2013\", \"2014\", \"2015\"], \"y\": [0.24386505076897175, 0.31457729316587973, 0.19529878820510183, 0.2076168016922736]}, {\"connectgaps\": true, \"line\": {\"color\": \"rgb(0,0,0)\", \"width\": 1}, \"marker\": {\"color\": \"rgb(0,0,0)\", \"size\": 1}, \"mode\": \"lines+markers\", \"name\": \"score\", \"type\": \"scatter\", \"x\": [\"2012\", \"2013\", \"2014\", \"2015\"], \"y\": [-0.8629326045840867, -0.8373329428448436, -0.5659139543656293, -0.5545708265786539]}],\n",
       "                        {\"annotations\": [{\"font\": {\"color\": \"rgb(1,1,1)\", \"family\": \"Arial\", \"size\": 8}, \"showarrow\": false, \"text\": \"world_rank (1.0)\", \"x\": 0, \"xanchor\": \"right\", \"xref\": \"paper\", \"y\": 1.0, \"yanchor\": \"middle\"}, {\"font\": {\"color\": \"rgb(1,1,1)\", \"family\": \"Arial\", \"size\": 8}, \"showarrow\": false, \"text\": \"world_rank (1.0)\", \"x\": 1, \"xanchor\": \"left\", \"xref\": \"paper\", \"y\": 1.0, \"yanchor\": \"middle\"}, {\"font\": {\"color\": \"rgb(1,1,1)\", \"family\": \"Arial\", \"size\": 8}, \"showarrow\": false, \"text\": \"quality_of_faculty (0.77)\", \"x\": 0, \"xanchor\": \"right\", \"xref\": \"paper\", \"y\": 0.7695973683133789, \"yanchor\": \"middle\"}, {\"font\": {\"color\": \"rgb(1,1,1)\", \"family\": \"Arial\", \"size\": 8}, \"showarrow\": false, \"text\": \"quality_of_faculty (0.57)\", \"x\": 1, \"xanchor\": \"left\", \"xref\": \"paper\", \"y\": 0.5723036112878135, \"yanchor\": \"middle\"}, {\"font\": {\"color\": \"rgb(1,1,1)\", \"family\": \"Arial\", \"size\": 8}, \"showarrow\": false, \"text\": \"influence (0.71)\", \"x\": 0, \"xanchor\": \"right\", \"xref\": \"paper\", \"y\": 0.7052295677567455, \"yanchor\": \"middle\"}, {\"font\": {\"color\": \"rgb(1,1,1)\", \"family\": \"Arial\", \"size\": 8}, \"showarrow\": false, \"text\": \"influence (0.88)\", \"x\": 1, \"xanchor\": \"left\", \"xref\": \"paper\", \"y\": 0.8761082436159803, \"yanchor\": \"middle\"}, {\"font\": {\"color\": \"rgb(1,1,1)\", \"family\": \"Arial\", \"size\": 8}, \"showarrow\": false, \"text\": \"citations (0.68)\", \"x\": 0, \"xanchor\": \"right\", \"xref\": \"paper\", \"y\": 0.6757464663127862, \"yanchor\": \"middle\"}, {\"font\": {\"color\": \"rgb(1,1,1)\", \"family\": \"Arial\", \"size\": 8}, \"showarrow\": false, \"text\": \"citations (0.82)\", \"x\": 1, \"xanchor\": \"left\", \"xref\": \"paper\", \"y\": 0.8230554038805475, \"yanchor\": \"middle\"}, {\"font\": {\"color\": \"rgb(1,1,1)\", \"family\": \"Arial\", \"size\": 8}, \"showarrow\": false, \"text\": \"publications (0.63)\", \"x\": 0, \"xanchor\": \"right\", \"xref\": \"paper\", \"y\": 0.6276933136441673, \"yanchor\": \"middle\"}, {\"font\": {\"color\": \"rgb(1,1,1)\", \"family\": \"Arial\", \"size\": 8}, \"showarrow\": false, \"text\": \"publications (0.91)\", \"x\": 1, \"xanchor\": \"left\", \"xref\": \"paper\", \"y\": 0.9075881658595062, \"yanchor\": \"middle\"}, {\"font\": {\"color\": \"rgb(1,1,1)\", \"family\": \"Arial\", \"size\": 8}, \"showarrow\": false, \"text\": \"patents (0.58)\", \"x\": 0, \"xanchor\": \"right\", \"xref\": \"paper\", \"y\": 0.5763624886786658, \"yanchor\": \"middle\"}, {\"font\": {\"color\": \"rgb(1,1,1)\", \"family\": \"Arial\", \"size\": 8}, \"showarrow\": false, \"text\": \"patents (0.64)\", \"x\": 1, \"xanchor\": \"left\", \"xref\": \"paper\", \"y\": 0.63970102898255, \"yanchor\": \"middle\"}, {\"font\": {\"color\": \"rgb(1,1,1)\", \"family\": \"Arial\", \"size\": 8}, \"showarrow\": false, \"text\": \"quality_of_education (0.56)\", \"x\": 0, \"xanchor\": \"right\", \"xref\": \"paper\", \"y\": 0.5639439883042521, \"yanchor\": \"middle\"}, {\"font\": {\"color\": \"rgb(1,1,1)\", \"family\": \"Arial\", \"size\": 8}, \"showarrow\": false, \"text\": \"quality_of_education (0.58)\", \"x\": 1, \"xanchor\": \"left\", \"xref\": \"paper\", \"y\": 0.5776123046259064, \"yanchor\": \"middle\"}, {\"font\": {\"color\": \"rgb(1,1,1)\", \"family\": \"Arial\", \"size\": 8}, \"showarrow\": false, \"text\": \"alumni_employment (0.42)\", \"x\": 0, \"xanchor\": \"right\", \"xref\": \"paper\", \"y\": 0.4182789255901547, \"yanchor\": \"middle\"}, {\"font\": {\"color\": \"rgb(1,1,1)\", \"family\": \"Arial\", \"size\": 8}, \"showarrow\": false, \"text\": \"alumni_employment (0.59)\", \"x\": 1, \"xanchor\": \"left\", \"xref\": \"paper\", \"y\": 0.5862183506086673, \"yanchor\": \"middle\"}, {\"font\": {\"color\": \"rgb(1,1,1)\", \"family\": \"Arial\", \"size\": 8}, \"showarrow\": false, \"text\": \"broad_impact (0.37)\", \"x\": 0, \"xanchor\": \"right\", \"xref\": \"paper\", \"y\": 0.3665145273289925, \"yanchor\": \"middle\"}, {\"font\": {\"color\": \"rgb(1,1,1)\", \"family\": \"Arial\", \"size\": 8}, \"showarrow\": false, \"text\": \"broad_impact (0.95)\", \"x\": 1, \"xanchor\": \"left\", \"xref\": \"paper\", \"y\": 0.9472040340983519, \"yanchor\": \"middle\"}, {\"font\": {\"color\": \"rgb(1,1,1)\", \"family\": \"Arial\", \"size\": 8}, \"showarrow\": false, \"text\": \"national_rank (0.24)\", \"x\": 0, \"xanchor\": \"right\", \"xref\": \"paper\", \"y\": 0.24386505076897175, \"yanchor\": \"middle\"}, {\"font\": {\"color\": \"rgb(1,1,1)\", \"family\": \"Arial\", \"size\": 8}, \"showarrow\": false, \"text\": \"national_rank (0.21)\", \"x\": 1, \"xanchor\": \"left\", \"xref\": \"paper\", \"y\": 0.2076168016922736, \"yanchor\": \"middle\"}, {\"font\": {\"color\": \"rgb(1,1,1)\", \"family\": \"Arial\", \"size\": 8}, \"showarrow\": false, \"text\": \"score (-0.86)\", \"x\": 0, \"xanchor\": \"right\", \"xref\": \"paper\", \"y\": -0.8629326045840867, \"yanchor\": \"middle\"}, {\"font\": {\"color\": \"rgb(1,1,1)\", \"family\": \"Arial\", \"size\": 8}, \"showarrow\": false, \"text\": \"score (-0.55)\", \"x\": 1, \"xanchor\": \"left\", \"xref\": \"paper\", \"y\": -0.5545708265786539, \"yanchor\": \"middle\"}, {\"font\": {\"color\": \"rgb(37,37,37)\", \"family\": \"Arial\", \"size\": 25}, \"showarrow\": false, \"text\": \"Correlation trend\", \"x\": 0.3, \"xanchor\": \"left\", \"xref\": \"paper\", \"y\": 0.5, \"yanchor\": \"top\", \"yref\": \"paper\"}], \"autosize\": true, \"margin\": {\"autoexpand\": true, \"l\": 250, \"r\": 250}, \"plot_bgcolor\": \"white\", \"showlegend\": false, \"template\": {\"data\": {\"bar\": [{\"error_x\": {\"color\": \"#2a3f5f\"}, \"error_y\": {\"color\": \"#2a3f5f\"}, \"marker\": {\"line\": {\"color\": \"#E5ECF6\", \"width\": 0.5}}, \"type\": \"bar\"}], \"barpolar\": [{\"marker\": {\"line\": {\"color\": \"#E5ECF6\", \"width\": 0.5}}, \"type\": \"barpolar\"}], \"carpet\": [{\"aaxis\": {\"endlinecolor\": \"#2a3f5f\", \"gridcolor\": \"white\", \"linecolor\": \"white\", \"minorgridcolor\": \"white\", \"startlinecolor\": \"#2a3f5f\"}, \"baxis\": {\"endlinecolor\": \"#2a3f5f\", \"gridcolor\": \"white\", \"linecolor\": \"white\", \"minorgridcolor\": \"white\", \"startlinecolor\": \"#2a3f5f\"}, \"type\": \"carpet\"}], \"choropleth\": [{\"colorbar\": {\"outlinewidth\": 0, \"ticks\": \"\"}, \"type\": \"choropleth\"}], \"contour\": [{\"colorbar\": {\"outlinewidth\": 0, \"ticks\": \"\"}, \"colorscale\": [[0.0, \"#0d0887\"], [0.1111111111111111, \"#46039f\"], [0.2222222222222222, \"#7201a8\"], [0.3333333333333333, \"#9c179e\"], [0.4444444444444444, \"#bd3786\"], [0.5555555555555556, \"#d8576b\"], [0.6666666666666666, \"#ed7953\"], [0.7777777777777778, \"#fb9f3a\"], [0.8888888888888888, \"#fdca26\"], [1.0, \"#f0f921\"]], \"type\": \"contour\"}], \"contourcarpet\": [{\"colorbar\": {\"outlinewidth\": 0, \"ticks\": \"\"}, \"type\": \"contourcarpet\"}], \"heatmap\": [{\"colorbar\": {\"outlinewidth\": 0, \"ticks\": \"\"}, \"colorscale\": [[0.0, \"#0d0887\"], [0.1111111111111111, \"#46039f\"], [0.2222222222222222, \"#7201a8\"], [0.3333333333333333, \"#9c179e\"], [0.4444444444444444, \"#bd3786\"], [0.5555555555555556, \"#d8576b\"], [0.6666666666666666, \"#ed7953\"], [0.7777777777777778, \"#fb9f3a\"], [0.8888888888888888, \"#fdca26\"], [1.0, \"#f0f921\"]], \"type\": \"heatmap\"}], \"heatmapgl\": [{\"colorbar\": {\"outlinewidth\": 0, \"ticks\": \"\"}, \"colorscale\": [[0.0, \"#0d0887\"], [0.1111111111111111, \"#46039f\"], [0.2222222222222222, \"#7201a8\"], [0.3333333333333333, \"#9c179e\"], [0.4444444444444444, \"#bd3786\"], [0.5555555555555556, \"#d8576b\"], [0.6666666666666666, \"#ed7953\"], [0.7777777777777778, \"#fb9f3a\"], [0.8888888888888888, \"#fdca26\"], [1.0, \"#f0f921\"]], \"type\": \"heatmapgl\"}], \"histogram\": [{\"marker\": {\"colorbar\": {\"outlinewidth\": 0, \"ticks\": \"\"}}, \"type\": \"histogram\"}], \"histogram2d\": [{\"colorbar\": {\"outlinewidth\": 0, \"ticks\": \"\"}, \"colorscale\": [[0.0, \"#0d0887\"], [0.1111111111111111, \"#46039f\"], [0.2222222222222222, \"#7201a8\"], [0.3333333333333333, \"#9c179e\"], [0.4444444444444444, \"#bd3786\"], [0.5555555555555556, \"#d8576b\"], [0.6666666666666666, \"#ed7953\"], [0.7777777777777778, \"#fb9f3a\"], [0.8888888888888888, \"#fdca26\"], [1.0, \"#f0f921\"]], \"type\": \"histogram2d\"}], \"histogram2dcontour\": [{\"colorbar\": {\"outlinewidth\": 0, \"ticks\": \"\"}, \"colorscale\": [[0.0, \"#0d0887\"], [0.1111111111111111, \"#46039f\"], [0.2222222222222222, \"#7201a8\"], [0.3333333333333333, \"#9c179e\"], [0.4444444444444444, \"#bd3786\"], [0.5555555555555556, \"#d8576b\"], [0.6666666666666666, \"#ed7953\"], [0.7777777777777778, \"#fb9f3a\"], [0.8888888888888888, \"#fdca26\"], [1.0, \"#f0f921\"]], \"type\": \"histogram2dcontour\"}], \"mesh3d\": [{\"colorbar\": {\"outlinewidth\": 0, \"ticks\": \"\"}, \"type\": \"mesh3d\"}], \"parcoords\": [{\"line\": {\"colorbar\": {\"outlinewidth\": 0, \"ticks\": \"\"}}, \"type\": \"parcoords\"}], \"pie\": [{\"automargin\": true, \"type\": \"pie\"}], \"scatter\": [{\"marker\": {\"colorbar\": {\"outlinewidth\": 0, \"ticks\": \"\"}}, \"type\": \"scatter\"}], \"scatter3d\": [{\"line\": {\"colorbar\": {\"outlinewidth\": 0, \"ticks\": \"\"}}, \"marker\": {\"colorbar\": {\"outlinewidth\": 0, \"ticks\": \"\"}}, \"type\": \"scatter3d\"}], \"scattercarpet\": [{\"marker\": {\"colorbar\": {\"outlinewidth\": 0, \"ticks\": \"\"}}, \"type\": \"scattercarpet\"}], \"scattergeo\": [{\"marker\": {\"colorbar\": {\"outlinewidth\": 0, \"ticks\": \"\"}}, \"type\": \"scattergeo\"}], \"scattergl\": [{\"marker\": {\"colorbar\": {\"outlinewidth\": 0, \"ticks\": \"\"}}, \"type\": \"scattergl\"}], \"scattermapbox\": [{\"marker\": {\"colorbar\": {\"outlinewidth\": 0, \"ticks\": \"\"}}, \"type\": \"scattermapbox\"}], \"scatterpolar\": [{\"marker\": {\"colorbar\": {\"outlinewidth\": 0, \"ticks\": \"\"}}, \"type\": \"scatterpolar\"}], \"scatterpolargl\": [{\"marker\": {\"colorbar\": {\"outlinewidth\": 0, \"ticks\": \"\"}}, \"type\": \"scatterpolargl\"}], \"scatterternary\": [{\"marker\": {\"colorbar\": {\"outlinewidth\": 0, \"ticks\": \"\"}}, \"type\": \"scatterternary\"}], \"surface\": [{\"colorbar\": {\"outlinewidth\": 0, \"ticks\": \"\"}, \"colorscale\": [[0.0, \"#0d0887\"], [0.1111111111111111, \"#46039f\"], [0.2222222222222222, \"#7201a8\"], [0.3333333333333333, \"#9c179e\"], [0.4444444444444444, \"#bd3786\"], [0.5555555555555556, \"#d8576b\"], [0.6666666666666666, \"#ed7953\"], [0.7777777777777778, \"#fb9f3a\"], [0.8888888888888888, \"#fdca26\"], [1.0, \"#f0f921\"]], \"type\": \"surface\"}], \"table\": [{\"cells\": {\"fill\": {\"color\": \"#EBF0F8\"}, \"line\": {\"color\": \"white\"}}, \"header\": {\"fill\": {\"color\": \"#C8D4E3\"}, \"line\": {\"color\": \"white\"}}, \"type\": \"table\"}]}, \"layout\": {\"annotationdefaults\": {\"arrowcolor\": \"#2a3f5f\", \"arrowhead\": 0, \"arrowwidth\": 1}, \"coloraxis\": {\"colorbar\": {\"outlinewidth\": 0, \"ticks\": \"\"}}, \"colorscale\": {\"diverging\": [[0, \"#8e0152\"], [0.1, \"#c51b7d\"], [0.2, \"#de77ae\"], [0.3, \"#f1b6da\"], [0.4, \"#fde0ef\"], [0.5, \"#f7f7f7\"], [0.6, \"#e6f5d0\"], [0.7, \"#b8e186\"], [0.8, \"#7fbc41\"], [0.9, \"#4d9221\"], [1, \"#276419\"]], \"sequential\": [[0.0, \"#0d0887\"], [0.1111111111111111, \"#46039f\"], [0.2222222222222222, \"#7201a8\"], [0.3333333333333333, \"#9c179e\"], [0.4444444444444444, \"#bd3786\"], [0.5555555555555556, \"#d8576b\"], [0.6666666666666666, \"#ed7953\"], [0.7777777777777778, \"#fb9f3a\"], [0.8888888888888888, \"#fdca26\"], [1.0, \"#f0f921\"]], \"sequentialminus\": [[0.0, \"#0d0887\"], [0.1111111111111111, \"#46039f\"], [0.2222222222222222, \"#7201a8\"], [0.3333333333333333, \"#9c179e\"], [0.4444444444444444, \"#bd3786\"], [0.5555555555555556, \"#d8576b\"], [0.6666666666666666, \"#ed7953\"], [0.7777777777777778, \"#fb9f3a\"], [0.8888888888888888, \"#fdca26\"], [1.0, \"#f0f921\"]]}, \"colorway\": [\"#636efa\", \"#EF553B\", \"#00cc96\", \"#ab63fa\", \"#FFA15A\", \"#19d3f3\", \"#FF6692\", \"#B6E880\", \"#FF97FF\", \"#FECB52\"], \"font\": {\"color\": \"#2a3f5f\"}, \"geo\": {\"bgcolor\": \"white\", \"lakecolor\": \"white\", \"landcolor\": \"#E5ECF6\", \"showlakes\": true, \"showland\": true, \"subunitcolor\": \"white\"}, \"hoverlabel\": {\"align\": \"left\"}, \"hovermode\": \"closest\", \"mapbox\": {\"style\": \"light\"}, \"paper_bgcolor\": \"white\", \"plot_bgcolor\": \"#E5ECF6\", \"polar\": {\"angularaxis\": {\"gridcolor\": \"white\", \"linecolor\": \"white\", \"ticks\": \"\"}, \"bgcolor\": \"#E5ECF6\", \"radialaxis\": {\"gridcolor\": \"white\", \"linecolor\": \"white\", \"ticks\": \"\"}}, \"scene\": {\"xaxis\": {\"backgroundcolor\": \"#E5ECF6\", \"gridcolor\": \"white\", \"gridwidth\": 2, \"linecolor\": \"white\", \"showbackground\": true, \"ticks\": \"\", \"zerolinecolor\": \"white\"}, \"yaxis\": {\"backgroundcolor\": \"#E5ECF6\", \"gridcolor\": \"white\", \"gridwidth\": 2, \"linecolor\": \"white\", \"showbackground\": true, \"ticks\": \"\", \"zerolinecolor\": \"white\"}, \"zaxis\": {\"backgroundcolor\": \"#E5ECF6\", \"gridcolor\": \"white\", \"gridwidth\": 2, \"linecolor\": \"white\", \"showbackground\": true, \"ticks\": \"\", \"zerolinecolor\": \"white\"}}, \"shapedefaults\": {\"line\": {\"color\": \"#2a3f5f\"}}, \"ternary\": {\"aaxis\": {\"gridcolor\": \"white\", \"linecolor\": \"white\", \"ticks\": \"\"}, \"baxis\": {\"gridcolor\": \"white\", \"linecolor\": \"white\", \"ticks\": \"\"}, \"bgcolor\": \"#E5ECF6\", \"caxis\": {\"gridcolor\": \"white\", \"linecolor\": \"white\", \"ticks\": \"\"}}, \"title\": {\"x\": 0.05}, \"xaxis\": {\"automargin\": true, \"gridcolor\": \"white\", \"linecolor\": \"white\", \"ticks\": \"\", \"title\": {\"standoff\": 15}, \"zerolinecolor\": \"white\", \"zerolinewidth\": 2}, \"yaxis\": {\"automargin\": true, \"gridcolor\": \"white\", \"linecolor\": \"white\", \"ticks\": \"\", \"title\": {\"standoff\": 15}, \"zerolinecolor\": \"white\", \"zerolinewidth\": 2}}}, \"xaxis\": {\"constrain\": \"domain\", \"dtick\": 1, \"linecolor\": \"rgb(204, 204, 204)\", \"linewidth\": 1, \"showgrid\": false, \"showline\": true, \"showticklabels\": true, \"tickfont\": {\"color\": \"rgb(0,0,0)\", \"family\": \"Arial\", \"size\": 12}, \"ticks\": \"outside\"}, \"yaxis\": {\"automargin\": true, \"showgrid\": false, \"showline\": false, \"showticklabels\": false, \"zeroline\": false}},\n",
       "                        {\"responsive\": true}\n",
       "                    ).then(function(){\n",
       "                            \n",
       "var gd = document.getElementById('c84f4cb5-8749-4e9c-a6f4-6b206aed487b');\n",
       "var x = new MutationObserver(function (mutations, observer) {{\n",
       "        var display = window.getComputedStyle(gd).display;\n",
       "        if (!display || display === 'none') {{\n",
       "            console.log([gd, 'removed!']);\n",
       "            Plotly.purge(gd);\n",
       "            observer.disconnect();\n",
       "        }}\n",
       "}});\n",
       "\n",
       "// Listen for the removal of the full notebook cells\n",
       "var notebookContainer = gd.closest('#notebook-container');\n",
       "if (notebookContainer) {{\n",
       "    x.observe(notebookContainer, {childList: true});\n",
       "}}\n",
       "\n",
       "// Listen for the clearing of the current output cell\n",
       "var outputEl = gd.closest('.output');\n",
       "if (outputEl) {{\n",
       "    x.observe(outputEl, {childList: true});\n",
       "}}\n",
       "\n",
       "                        })\n",
       "                };\n",
       "                });\n",
       "            </script>\n",
       "        </div>"
      ]
     },
     "metadata": {},
     "output_type": "display_data"
    }
   ],
   "source": [
    "df2012carr = np.array(df2012c)\n",
    "df2012cx=np.vstack((np.array(df2012c.columns),)*11)\n",
    "df2012index = np.array(df2012c.index)\n",
    "x_data = df2012cx\n",
    "y_data = df2012carr\n",
    "labels = df2012index\n",
    "\n",
    "# setting up line size and colors\n",
    "mode_size = [12, 8, 8, 8, 12, 8, 12, 8, 12, 8, 8]\n",
    "line_size = [1, 1, 1, 1, 1, 1, 1, 1, 1, 1, 1]\n",
    "colors = ['rgb(0,255,0)', 'rgb(0,0,255)', 'rgb(192,192,192)', 'rgb(255,0,255)','rgb(255,0,0)', \n",
    "          'rgb(255,215,0)', 'rgb(0,100,0)', 'rgb(0,0,0)','rgb(255,140,0)', 'rgb(0,0,128)', 'rgb(0,0,0)']\n",
    "\n",
    "fig = go.Figure()\n",
    "for i in range(0, len(labels)):\n",
    "    fig.add_trace(go.Scatter(x=x_data[i], y=y_data[i], mode='lines+markers', name=labels[i],                   \n",
    "        line=dict(color=colors[i], width=line_size[i]),\n",
    "        marker=dict(color=colors[i], size=line_size[i]),\n",
    "        connectgaps=True,\n",
    "    ))\n",
    "    \n",
    "fig.update_layout(\n",
    "    xaxis=dict(\n",
    "        showline=True,\n",
    "        showgrid=False,\n",
    "        showticklabels=True,\n",
    "        linecolor='rgb(204, 204, 204)',\n",
    "        linewidth=1,\n",
    "        ticks='outside',\n",
    "        dtick = 1,\n",
    "        constrain='domain',\n",
    "        tickfont=dict(\n",
    "            family='Arial',\n",
    "            size=12 ,\n",
    "            color='rgb(0,0,0)',\n",
    "        ),\n",
    "    ),\n",
    "    yaxis=dict(\n",
    "        showgrid=False,\n",
    "        zeroline=False,\n",
    "        showline=False,\n",
    "        showticklabels=False,\n",
    "        automargin= True,\n",
    "    ),\n",
    "    autosize=True,\n",
    "    margin=dict(\n",
    "        autoexpand=True,\n",
    "        l=250,\n",
    "        r=250,\n",
    "    ),\n",
    "    showlegend=False,\n",
    "    plot_bgcolor='white'\n",
    ")\n",
    "\n",
    "annotations = []\n",
    "\n",
    "# Adding labels\n",
    "for y_trace, label, color in zip(y_data, labels, colors):\n",
    "    # labeling the left_side of the plot\n",
    "    annotations.append(dict(xref='paper', x=0, y=y_trace[0],\n",
    "                                  xanchor='right', yanchor='middle',\n",
    "                                  text=(label +' ({})').format(round(y_trace[0],2)),\n",
    "                                  font=dict(family='Arial',\n",
    "                                            size=8,color='rgb(1,1,1)'),\n",
    "                                  showarrow=False\n",
    "                           )\n",
    "                      )\n",
    "#     labeling the right_side of the plot\n",
    "    annotations.append(dict(xref='paper', x=1, y=y_trace[3],\n",
    "                                  xanchor='left', yanchor='middle',\n",
    "                                  text=(label +' ({})').format(round(y_trace[3],2)),\n",
    "                                  font=dict(family='Arial',\n",
    "                                            size=8,color='rgb(1,1,1)'),\n",
    "                                  showarrow=False)\n",
    "                      )\n",
    "# Title\n",
    "annotations.append(dict(xref='paper', yref='paper', x=0.3, y=0.5,\n",
    "                              xanchor='left', yanchor='top',\n",
    "                              text='Correlation trend',\n",
    "                              font=dict(family='Arial',\n",
    "                                        size=25,\n",
    "                                        color='rgb(37,37,37)'),\n",
    "                              showarrow=False))\n",
    "# fig['layout']['yaxis']['autorange'] = \"reversed\"\n",
    "\n",
    "fig.update_layout(annotations=annotations)\n",
    "fig.show()"
   ]
  },
  {
   "cell_type": "markdown",
   "metadata": {},
   "source": [
    "The data was collected by The Center for World University Rankings. \n",
    "Sampling was weighted based on the following criteria: \n",
    "    research output, (10%), high-quality publication, (10%), \n",
    "    influence, (10%), citations, (10%), quality of faculty, (10%), \n",
    "    alumni employment, (25%), quality of education, (25%). \n",
    "    The totals of the above criteria is then used the create an aggregation and scoring.\n",
    "\n",
    "With such a weightage of (50% emphasis) placed on alumni employment and quality of education for the data samples used in the CWUR, the correlation for alumni employment/quality of education variables remains average against world rank (0.668,0.676) / score (-0.600541,-0.510374)\n",
    "We can infer that getting a costly education in top tier university (with the exception of Harvard/Stamford) does not guarantee business leaders (CEO)/ generate economic value via entreprenuership.\n",
    "\n",
    "The fact that broad impact, publication, influence, citations has significantly contribute strongly over the years in relation to world rank (with r>=0.8), only goes to show that academics feed off academics - where thesis, publications get recognized in the academic arena thereby increasing the university's influence and broad impact. Whether greater economic value is created through top tier universities versus the others remains a question for the future"
   ]
  },
  {
   "cell_type": "code",
   "execution_count": null,
   "metadata": {},
   "outputs": [],
   "source": []
  }
 ],
 "metadata": {
  "kernelspec": {
   "display_name": "Python 3",
   "language": "python",
   "name": "python3"
  },
  "language_info": {
   "codemirror_mode": {
    "name": "ipython",
    "version": 3
   },
   "file_extension": ".py",
   "mimetype": "text/x-python",
   "name": "python",
   "nbconvert_exporter": "python",
   "pygments_lexer": "ipython3",
   "version": "3.8.3"
  }
 },
 "nbformat": 4,
 "nbformat_minor": 2
}
